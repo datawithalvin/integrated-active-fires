{
 "cells": [
  {
   "cell_type": "code",
   "execution_count": null,
   "metadata": {},
   "outputs": [
    {
     "ename": "",
     "evalue": "",
     "output_type": "error",
     "traceback": [
      "\u001b[1;31mRunning cells with '.venv-pm25' requires the ipykernel package.\n",
      "\u001b[1;31mRun the following command to install 'ipykernel' into the Python environment. \n",
      "\u001b[1;31mCommand: 'c:/Users/PF2L6BL6/Documents/alvin/personal-works/data-engineering-projects/integrated-active-fire-and-polution-dashboard/.venv-pm25/Scripts/python.exe -m pip install ipykernel -U --force-reinstall'"
     ]
    }
   ],
   "source": [
    "# import libraries\n",
    "import pandas as pd\n",
    "import polars as pl\n",
    "import io\n",
    "import requests\n",
    "import json\n",
    "import datetime\n",
    "\n",
    "from bs4 import BeautifulSoup\n",
    "from selenium import webdriver\n",
    "from selenium.webdriver.chrome.service import Service as ChromeService\n",
    "from webdriver_manager.chrome import ChromeDriverManager\n",
    "import time\n",
    "\n",
    "from src.config import TOKEN"
   ]
  },
  {
   "cell_type": "code",
   "execution_count": 10,
   "metadata": {},
   "outputs": [
    {
     "name": "stdout",
     "output_type": "stream",
     "text": [
      "shape: (3, 1)\n",
      "┌───────────────────────────────────┐\n",
      "│ Invalid MAP_KEY.                  │\n",
      "│ ---                               │\n",
      "│ str                               │\n",
      "╞═══════════════════════════════════╡\n",
      "│ Invalid source.                   │\n",
      "│ Invalid country code. Expects 3 … │\n",
      "│ Invalid day range. Expects [1..1… │\n",
      "└───────────────────────────────────┘\n"
     ]
    }
   ],
   "source": [
    "token = \"TOKEN\"\n",
    "host = \"https://firms.modaps.eosdis.nasa.gov/api/country/csv/\"\n",
    "\n",
    "source = \"VIIRS_SNPP_NRT/\"\n",
    "country = \"IDN/\"\n",
    "today = \"2023-08-21\"\n",
    "day_range = \"1\"\n",
    "\n",
    "url = (host + token + source + country + day_range + \"/\" + today)\n",
    "\n",
    "get_data = reqs.get(url)\n",
    "\n",
    "if get_data.status_code == 200:\n",
    "    # csv_content = get_data.text\n",
    "    csv_content = io.StringIO(get_data.text)\n",
    "    viirs_df = pl.read_csv(csv_content)\n",
    "    print(viirs_df)\n",
    "else:\n",
    "    print(f\"Failed to fetch data, status code: {get_data.status_code}\")"
   ]
  },
  {
   "cell_type": "code",
   "execution_count": 11,
   "metadata": {},
   "outputs": [],
   "source": [
    "def fetch_viirs_data(today: str, day_range: str) -> pl.DataFrame:\n",
    "    \"\"\"\n",
    "    Retrieves VIIRS active fires data from the NASA endpoint for a given date and range.\n",
    "\n",
    "    Parameters:\n",
    "    - today (str): The specific date for which the data is to be retrieved, in the format \"YYYY-MM-DD\".\n",
    "    - day_range (str): The range of days for which the data is to be retrieved.\n",
    "\n",
    "    Returns:\n",
    "    - pl.DataFrame: A Polars DataFrame containing the VIIRS data if successful, or None if an error occurred.\n",
    "\n",
    "    Examples:\n",
    "    >>> get_viirs_data(\"2023-08-19\", \"1\")\n",
    "    \"\"\"\n",
    "\n",
    "    try:\n",
    "        token = \"TOKEN\"\n",
    "        host = \"https://firms.modaps.eosdis.nasa.gov/api/country/csv/\"\n",
    "        source = \"VIIRS_NOAA20_NRT/\"\n",
    "        country = \"IDN/\"\n",
    "\n",
    "        url = (host + token + source + country + day_range + \"/\" + today)\n",
    "\n",
    "        get_data = requests.get(url)\n",
    "        get_data.raise_for_status() # Raises an HTTPError if the HTTP request returned an unsuccessful status code\n",
    "\n",
    "        csv_content = io.StringIO(get_data.text)\n",
    "        viirs_df = pl.read_csv(csv_content)\n",
    "        \n",
    "        return viirs_df\n",
    "\n",
    "    except requests.RequestException as e:\n",
    "        print(f\"An error occurred while making the HTTP request: {e}\")\n",
    "        return None\n",
    "    except Exception as e:\n",
    "        print(f\"An unexpected error occurred: {e}\")\n",
    "        return None"
   ]
  },
  {
   "cell_type": "code",
   "execution_count": 12,
   "metadata": {},
   "outputs": [
    {
     "name": "stdout",
     "output_type": "stream",
     "text": [
      "shape: (3, 1)\n",
      "┌───────────────────────────────────┐\n",
      "│ Invalid MAP_KEY.                  │\n",
      "│ ---                               │\n",
      "│ str                               │\n",
      "╞═══════════════════════════════════╡\n",
      "│ Invalid source.                   │\n",
      "│ Invalid country code. Expects 3 … │\n",
      "│ Invalid day range. Expects [1..1… │\n",
      "└───────────────────────────────────┘\n"
     ]
    }
   ],
   "source": [
    "today = \"2023-08-19\"\n",
    "day_range = \"1\"\n",
    "\n",
    "viirs_df = fetch_viirs_data(today, day_range)\n",
    "\n",
    "print(viirs_df)"
   ]
  },
  {
   "cell_type": "code",
   "execution_count": null,
   "metadata": {},
   "outputs": [],
   "source": []
  },
  {
   "cell_type": "code",
   "execution_count": null,
   "metadata": {},
   "outputs": [],
   "source": []
  }
 ],
 "metadata": {
  "kernelspec": {
   "display_name": "pm25-env",
   "language": "python",
   "name": "python3"
  },
  "language_info": {
   "codemirror_mode": {
    "name": "ipython",
    "version": 3
   },
   "file_extension": ".py",
   "mimetype": "text/x-python",
   "name": "python",
   "nbconvert_exporter": "python",
   "pygments_lexer": "ipython3",
   "version": "3.11.5"
  },
  "orig_nbformat": 4
 },
 "nbformat": 4,
 "nbformat_minor": 2
}
