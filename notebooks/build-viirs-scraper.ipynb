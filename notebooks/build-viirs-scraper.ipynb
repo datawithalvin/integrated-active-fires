{
 "cells": [
  {
   "cell_type": "code",
   "execution_count": 28,
   "metadata": {},
   "outputs": [],
   "source": [
    "# import libraries\n",
    "import pandas as pd\n",
    "import polars as pl\n",
    "import io\n",
    "import requests as reqs\n",
    "import json\n",
    "import datetime\n",
    "\n",
    "from bs4 import BeautifulSoup\n",
    "from selenium import webdriver\n",
    "from selenium.webdriver.chrome.service import Service as ChromeService\n",
    "from webdriver_manager.chrome import ChromeDriverManager\n",
    "import time"
   ]
  },
  {
   "cell_type": "code",
   "execution_count": 18,
   "metadata": {},
   "outputs": [
    {
     "name": "stdout",
     "output_type": "stream",
     "text": [
      "shape: (1_611, 15)\n",
      "┌────────────┬──────────┬───────────┬────────────┬───┬─────────┬────────────┬──────┬──────────┐\n",
      "│ country_id ┆ latitude ┆ longitude ┆ bright_ti4 ┆ … ┆ version ┆ bright_ti5 ┆ frp  ┆ daynight │\n",
      "│ ---        ┆ ---      ┆ ---       ┆ ---        ┆   ┆ ---     ┆ ---        ┆ ---  ┆ ---      │\n",
      "│ str        ┆ f64      ┆ f64       ┆ f64        ┆   ┆ str     ┆ f64        ┆ f64  ┆ str      │\n",
      "╞════════════╪══════════╪═══════════╪════════════╪═══╪═════════╪════════════╪══════╪══════════╡\n",
      "│ IDN        ┆ -8.9224  ┆ 140.80379 ┆ 332.79     ┆ … ┆ 2.0NRT  ┆ 304.14     ┆ 5.0  ┆ D        │\n",
      "│ IDN        ┆ -8.85717 ┆ 140.89622 ┆ 342.07     ┆ … ┆ 2.0NRT  ┆ 306.92     ┆ 4.79 ┆ D        │\n",
      "│ IDN        ┆ -8.85545 ┆ 140.95421 ┆ 335.37     ┆ … ┆ 2.0NRT  ┆ 305.06     ┆ 3.4  ┆ D        │\n",
      "│ IDN        ┆ -8.85492 ┆ 140.95776 ┆ 338.72     ┆ … ┆ 2.0NRT  ┆ 304.19     ┆ 3.3  ┆ D        │\n",
      "│ …          ┆ …        ┆ …         ┆ …          ┆ … ┆ …       ┆ …          ┆ …    ┆ …        │\n",
      "│ IDN        ┆ -7.46908 ┆ 140.3004  ┆ 303.93     ┆ … ┆ 2.0NRT  ┆ 285.09     ┆ 1.21 ┆ N        │\n",
      "│ IDN        ┆ -6.81556 ┆ 139.19438 ┆ 304.19     ┆ … ┆ 2.0NRT  ┆ 282.75     ┆ 3.35 ┆ N        │\n",
      "│ IDN        ┆ -6.81483 ┆ 139.1898  ┆ 320.36     ┆ … ┆ 2.0NRT  ┆ 283.18     ┆ 3.77 ┆ N        │\n",
      "│ IDN        ┆ -6.81421 ┆ 139.18718 ┆ 309.9      ┆ … ┆ 2.0NRT  ┆ 283.07     ┆ 4.58 ┆ N        │\n",
      "└────────────┴──────────┴───────────┴────────────┴───┴─────────┴────────────┴──────┴──────────┘\n"
     ]
    }
   ],
   "source": [
    "token = \"TOKEN\"\n",
    "host = \"https://firms.modaps.eosdis.nasa.gov/api/country/csv/\"\n",
    "\n",
    "source = \"VIIRS_SNPP_NRT/\"\n",
    "country = \"IDN/\"\n",
    "today = \"2023-08-19\"\n",
    "day_range = \"1\"\n",
    "\n",
    "url = (host + token + source + country + day_range + \"/\" + today)\n",
    "\n",
    "get_data = reqs.get(url)\n",
    "\n",
    "if get_data.status_code == 200:\n",
    "    csv_content = io.StringIO(get_data.text)\n",
    "    viirs_df = pl.read_csv(csv_content)\n",
    "    print(viirs_df)\n",
    "else:\n",
    "    print(f\"Failed to fetch data, status code: {get_data.status_code}\")"
   ]
  },
  {
   "cell_type": "code",
   "execution_count": 21,
   "metadata": {},
   "outputs": [],
   "source": [
    "def fetch_viirs_data(today: str, day_range: str) -> pl.DataFrame:\n",
    "    \"\"\"\n",
    "    Retrieves VIIRS active fires data from the NASA endpoint for a given date and range.\n",
    "\n",
    "    Parameters:\n",
    "    - today (str): The specific date for which the data is to be retrieved, in the format \"YYYY-MM-DD\".\n",
    "    - day_range (str): The range of days for which the data is to be retrieved.\n",
    "\n",
    "    Returns:\n",
    "    - pl.DataFrame: A Polars DataFrame containing the VIIRS data if successful, or None if an error occurred.\n",
    "\n",
    "    Examples:\n",
    "    >>> get_viirs_data(\"2023-08-19\", \"1\")\n",
    "    \"\"\"\n",
    "\n",
    "    try:\n",
    "        token = \"TOKEN\"\n",
    "        host = \"https://firms.modaps.eosdis.nasa.gov/api/country/csv/\"\n",
    "        source = \"VIIRS_NOAA20_NRT/\"\n",
    "        country = \"IDN/\"\n",
    "\n",
    "        url = (host + token + source + country + day_range + \"/\" + today)\n",
    "\n",
    "        get_data = requests.get(url)\n",
    "        get_data.raise_for_status() # Raises an HTTPError if the HTTP request returned an unsuccessful status code\n",
    "\n",
    "        csv_content = io.StringIO(get_data.text)\n",
    "        viirs_df = pl.read_csv(csv_content)\n",
    "        \n",
    "        return viirs_df\n",
    "\n",
    "    except requests.RequestException as e:\n",
    "        print(f\"An error occurred while making the HTTP request: {e}\")\n",
    "        return None\n",
    "    except Exception as e:\n",
    "        print(f\"An unexpected error occurred: {e}\")\n",
    "        return None"
   ]
  },
  {
   "cell_type": "code",
   "execution_count": 22,
   "metadata": {},
   "outputs": [
    {
     "data": {
      "text/html": [
       "<div><style>\n",
       ".dataframe > thead > tr > th,\n",
       ".dataframe > tbody > tr > td {\n",
       "  text-align: right;\n",
       "}\n",
       "</style>\n",
       "<small>shape: (1_189, 15)</small><table border=\"1\" class=\"dataframe\"><thead><tr><th>country_id</th><th>latitude</th><th>longitude</th><th>bright_ti4</th><th>scan</th><th>track</th><th>acq_date</th><th>acq_time</th><th>satellite</th><th>instrument</th><th>confidence</th><th>version</th><th>bright_ti5</th><th>frp</th><th>daynight</th></tr><tr><td>str</td><td>f64</td><td>f64</td><td>f64</td><td>f64</td><td>f64</td><td>str</td><td>i64</td><td>i64</td><td>str</td><td>str</td><td>str</td><td>f64</td><td>f64</td><td>str</td></tr></thead><tbody><tr><td>&quot;IDN&quot;</td><td>-8.84913</td><td>140.95351</td><td>346.36</td><td>0.74</td><td>0.76</td><td>&quot;2023-08-19&quot;</td><td>313</td><td>1</td><td>&quot;VIIRS&quot;</td><td>&quot;n&quot;</td><td>&quot;2.0NRT&quot;</td><td>295.9</td><td>12.29</td><td>&quot;D&quot;</td></tr><tr><td>&quot;IDN&quot;</td><td>-8.75335</td><td>140.75838</td><td>351.47</td><td>0.76</td><td>0.77</td><td>&quot;2023-08-19&quot;</td><td>313</td><td>1</td><td>&quot;VIIRS&quot;</td><td>&quot;n&quot;</td><td>&quot;2.0NRT&quot;</td><td>297.47</td><td>13.69</td><td>&quot;D&quot;</td></tr><tr><td>&quot;IDN&quot;</td><td>-8.75253</td><td>140.76527</td><td>342.92</td><td>0.76</td><td>0.77</td><td>&quot;2023-08-19&quot;</td><td>313</td><td>1</td><td>&quot;VIIRS&quot;</td><td>&quot;n&quot;</td><td>&quot;2.0NRT&quot;</td><td>296.15</td><td>13.69</td><td>&quot;D&quot;</td></tr><tr><td>&quot;IDN&quot;</td><td>-8.68832</td><td>140.72372</td><td>348.13</td><td>0.77</td><td>0.77</td><td>&quot;2023-08-19&quot;</td><td>313</td><td>1</td><td>&quot;VIIRS&quot;</td><td>&quot;n&quot;</td><td>&quot;2.0NRT&quot;</td><td>296.53</td><td>13.7</td><td>&quot;D&quot;</td></tr><tr><td>&quot;IDN&quot;</td><td>-8.68563</td><td>140.72203</td><td>347.56</td><td>0.77</td><td>0.77</td><td>&quot;2023-08-19&quot;</td><td>313</td><td>1</td><td>&quot;VIIRS&quot;</td><td>&quot;n&quot;</td><td>&quot;2.0NRT&quot;</td><td>296.35</td><td>13.1</td><td>&quot;D&quot;</td></tr><tr><td>&quot;IDN&quot;</td><td>-8.67539</td><td>140.65164</td><td>326.04</td><td>0.77</td><td>0.78</td><td>&quot;2023-08-19&quot;</td><td>313</td><td>1</td><td>&quot;VIIRS&quot;</td><td>&quot;n&quot;</td><td>&quot;2.0NRT&quot;</td><td>295.92</td><td>4.07</td><td>&quot;D&quot;</td></tr><tr><td>&quot;IDN&quot;</td><td>-8.54813</td><td>140.95401</td><td>326.58</td><td>0.74</td><td>0.76</td><td>&quot;2023-08-19&quot;</td><td>313</td><td>1</td><td>&quot;VIIRS&quot;</td><td>&quot;n&quot;</td><td>&quot;2.0NRT&quot;</td><td>293.48</td><td>6.67</td><td>&quot;D&quot;</td></tr><tr><td>&quot;IDN&quot;</td><td>-8.24709</td><td>140.54141</td><td>326.25</td><td>0.78</td><td>0.78</td><td>&quot;2023-08-19&quot;</td><td>313</td><td>1</td><td>&quot;VIIRS&quot;</td><td>&quot;n&quot;</td><td>&quot;2.0NRT&quot;</td><td>292.17</td><td>10.21</td><td>&quot;D&quot;</td></tr><tr><td>&quot;IDN&quot;</td><td>-8.24624</td><td>140.54842</td><td>334.1</td><td>0.78</td><td>0.78</td><td>&quot;2023-08-19&quot;</td><td>313</td><td>1</td><td>&quot;VIIRS&quot;</td><td>&quot;n&quot;</td><td>&quot;2.0NRT&quot;</td><td>292.62</td><td>10.59</td><td>&quot;D&quot;</td></tr><tr><td>&quot;IDN&quot;</td><td>-7.98397</td><td>140.47473</td><td>338.55</td><td>0.78</td><td>0.78</td><td>&quot;2023-08-19&quot;</td><td>313</td><td>1</td><td>&quot;VIIRS&quot;</td><td>&quot;n&quot;</td><td>&quot;2.0NRT&quot;</td><td>288.28</td><td>16.88</td><td>&quot;D&quot;</td></tr><tr><td>&quot;IDN&quot;</td><td>-7.77275</td><td>140.76585</td><td>325.32</td><td>0.74</td><td>0.76</td><td>&quot;2023-08-19&quot;</td><td>313</td><td>1</td><td>&quot;VIIRS&quot;</td><td>&quot;n&quot;</td><td>&quot;2.0NRT&quot;</td><td>287.24</td><td>5.07</td><td>&quot;D&quot;</td></tr><tr><td>&quot;IDN&quot;</td><td>-7.36318</td><td>140.39705</td><td>328.53</td><td>0.77</td><td>0.78</td><td>&quot;2023-08-19&quot;</td><td>313</td><td>1</td><td>&quot;VIIRS&quot;</td><td>&quot;n&quot;</td><td>&quot;2.0NRT&quot;</td><td>288.57</td><td>8.69</td><td>&quot;D&quot;</td></tr><tr><td>&hellip;</td><td>&hellip;</td><td>&hellip;</td><td>&hellip;</td><td>&hellip;</td><td>&hellip;</td><td>&hellip;</td><td>&hellip;</td><td>&hellip;</td><td>&hellip;</td><td>&hellip;</td><td>&hellip;</td><td>&hellip;</td><td>&hellip;</td><td>&hellip;</td></tr><tr><td>&quot;IDN&quot;</td><td>-7.20271</td><td>139.86707</td><td>305.33</td><td>0.39</td><td>0.36</td><td>&quot;2023-08-19&quot;</td><td>1558</td><td>1</td><td>&quot;VIIRS&quot;</td><td>&quot;n&quot;</td><td>&quot;2.0NRT&quot;</td><td>289.1</td><td>0.92</td><td>&quot;N&quot;</td></tr><tr><td>&quot;IDN&quot;</td><td>-7.20216</td><td>139.86357</td><td>313.31</td><td>0.39</td><td>0.36</td><td>&quot;2023-08-19&quot;</td><td>1558</td><td>1</td><td>&quot;VIIRS&quot;</td><td>&quot;n&quot;</td><td>&quot;2.0NRT&quot;</td><td>289.08</td><td>1.08</td><td>&quot;N&quot;</td></tr><tr><td>&quot;IDN&quot;</td><td>-7.14474</td><td>138.86246</td><td>304.3</td><td>0.41</td><td>0.37</td><td>&quot;2023-08-19&quot;</td><td>1558</td><td>1</td><td>&quot;VIIRS&quot;</td><td>&quot;n&quot;</td><td>&quot;2.0NRT&quot;</td><td>290.9</td><td>0.76</td><td>&quot;N&quot;</td></tr><tr><td>&quot;IDN&quot;</td><td>-7.14415</td><td>138.85878</td><td>308.59</td><td>0.41</td><td>0.37</td><td>&quot;2023-08-19&quot;</td><td>1558</td><td>1</td><td>&quot;VIIRS&quot;</td><td>&quot;n&quot;</td><td>&quot;2.0NRT&quot;</td><td>290.84</td><td>0.76</td><td>&quot;N&quot;</td></tr><tr><td>&quot;IDN&quot;</td><td>-7.14088</td><td>138.88188</td><td>312.05</td><td>0.41</td><td>0.37</td><td>&quot;2023-08-19&quot;</td><td>1558</td><td>1</td><td>&quot;VIIRS&quot;</td><td>&quot;n&quot;</td><td>&quot;2.0NRT&quot;</td><td>290.68</td><td>1.19</td><td>&quot;N&quot;</td></tr><tr><td>&quot;IDN&quot;</td><td>-7.13368</td><td>139.56114</td><td>313.66</td><td>0.39</td><td>0.36</td><td>&quot;2023-08-19&quot;</td><td>1558</td><td>1</td><td>&quot;VIIRS&quot;</td><td>&quot;n&quot;</td><td>&quot;2.0NRT&quot;</td><td>285.72</td><td>1.21</td><td>&quot;N&quot;</td></tr><tr><td>&quot;IDN&quot;</td><td>-6.87623</td><td>139.15869</td><td>306.81</td><td>0.4</td><td>0.37</td><td>&quot;2023-08-19&quot;</td><td>1558</td><td>1</td><td>&quot;VIIRS&quot;</td><td>&quot;n&quot;</td><td>&quot;2.0NRT&quot;</td><td>278.67</td><td>0.77</td><td>&quot;N&quot;</td></tr><tr><td>&quot;IDN&quot;</td><td>-6.87014</td><td>139.18561</td><td>318.69</td><td>0.4</td><td>0.37</td><td>&quot;2023-08-19&quot;</td><td>1558</td><td>1</td><td>&quot;VIIRS&quot;</td><td>&quot;n&quot;</td><td>&quot;2.0NRT&quot;</td><td>279.74</td><td>1.62</td><td>&quot;N&quot;</td></tr><tr><td>&quot;IDN&quot;</td><td>-6.86677</td><td>139.18616</td><td>329.48</td><td>0.4</td><td>0.37</td><td>&quot;2023-08-19&quot;</td><td>1558</td><td>1</td><td>&quot;VIIRS&quot;</td><td>&quot;n&quot;</td><td>&quot;2.0NRT&quot;</td><td>279.94</td><td>2.22</td><td>&quot;N&quot;</td></tr><tr><td>&quot;IDN&quot;</td><td>-6.81283</td><td>139.19482</td><td>301.18</td><td>0.4</td><td>0.37</td><td>&quot;2023-08-19&quot;</td><td>1558</td><td>1</td><td>&quot;VIIRS&quot;</td><td>&quot;n&quot;</td><td>&quot;2.0NRT&quot;</td><td>273.85</td><td>0.62</td><td>&quot;N&quot;</td></tr><tr><td>&quot;IDN&quot;</td><td>-6.81225</td><td>139.19124</td><td>301.19</td><td>0.4</td><td>0.37</td><td>&quot;2023-08-19&quot;</td><td>1558</td><td>1</td><td>&quot;VIIRS&quot;</td><td>&quot;n&quot;</td><td>&quot;2.0NRT&quot;</td><td>276.02</td><td>0.54</td><td>&quot;N&quot;</td></tr><tr><td>&quot;IDN&quot;</td><td>-6.50198</td><td>139.33287</td><td>302.58</td><td>0.4</td><td>0.37</td><td>&quot;2023-08-19&quot;</td><td>1558</td><td>1</td><td>&quot;VIIRS&quot;</td><td>&quot;n&quot;</td><td>&quot;2.0NRT&quot;</td><td>279.13</td><td>0.49</td><td>&quot;N&quot;</td></tr></tbody></table></div>"
      ],
      "text/plain": [
       "shape: (1_189, 15)\n",
       "┌────────────┬──────────┬───────────┬────────────┬───┬─────────┬────────────┬───────┬──────────┐\n",
       "│ country_id ┆ latitude ┆ longitude ┆ bright_ti4 ┆ … ┆ version ┆ bright_ti5 ┆ frp   ┆ daynight │\n",
       "│ ---        ┆ ---      ┆ ---       ┆ ---        ┆   ┆ ---     ┆ ---        ┆ ---   ┆ ---      │\n",
       "│ str        ┆ f64      ┆ f64       ┆ f64        ┆   ┆ str     ┆ f64        ┆ f64   ┆ str      │\n",
       "╞════════════╪══════════╪═══════════╪════════════╪═══╪═════════╪════════════╪═══════╪══════════╡\n",
       "│ IDN        ┆ -8.84913 ┆ 140.95351 ┆ 346.36     ┆ … ┆ 2.0NRT  ┆ 295.9      ┆ 12.29 ┆ D        │\n",
       "│ IDN        ┆ -8.75335 ┆ 140.75838 ┆ 351.47     ┆ … ┆ 2.0NRT  ┆ 297.47     ┆ 13.69 ┆ D        │\n",
       "│ IDN        ┆ -8.75253 ┆ 140.76527 ┆ 342.92     ┆ … ┆ 2.0NRT  ┆ 296.15     ┆ 13.69 ┆ D        │\n",
       "│ IDN        ┆ -8.68832 ┆ 140.72372 ┆ 348.13     ┆ … ┆ 2.0NRT  ┆ 296.53     ┆ 13.7  ┆ D        │\n",
       "│ …          ┆ …        ┆ …         ┆ …          ┆ … ┆ …       ┆ …          ┆ …     ┆ …        │\n",
       "│ IDN        ┆ -6.86677 ┆ 139.18616 ┆ 329.48     ┆ … ┆ 2.0NRT  ┆ 279.94     ┆ 2.22  ┆ N        │\n",
       "│ IDN        ┆ -6.81283 ┆ 139.19482 ┆ 301.18     ┆ … ┆ 2.0NRT  ┆ 273.85     ┆ 0.62  ┆ N        │\n",
       "│ IDN        ┆ -6.81225 ┆ 139.19124 ┆ 301.19     ┆ … ┆ 2.0NRT  ┆ 276.02     ┆ 0.54  ┆ N        │\n",
       "│ IDN        ┆ -6.50198 ┆ 139.33287 ┆ 302.58     ┆ … ┆ 2.0NRT  ┆ 279.13     ┆ 0.49  ┆ N        │\n",
       "└────────────┴──────────┴───────────┴────────────┴───┴─────────┴────────────┴───────┴──────────┘"
      ]
     },
     "execution_count": 22,
     "metadata": {},
     "output_type": "execute_result"
    }
   ],
   "source": [
    "today = \"2023-08-19\"\n",
    "day_range = \"1\"\n",
    "\n",
    "viirs_df = fetch_viirs_data(today, day_range)\n",
    "\n",
    "viirs_df"
   ]
  },
  {
   "cell_type": "code",
   "execution_count": null,
   "metadata": {},
   "outputs": [],
   "source": []
  },
  {
   "cell_type": "code",
   "execution_count": null,
   "metadata": {},
   "outputs": [],
   "source": []
  }
 ],
 "metadata": {
  "kernelspec": {
   "display_name": "pm25-env",
   "language": "python",
   "name": "python3"
  },
  "language_info": {
   "codemirror_mode": {
    "name": "ipython",
    "version": 3
   },
   "file_extension": ".py",
   "mimetype": "text/x-python",
   "name": "python",
   "nbconvert_exporter": "python",
   "pygments_lexer": "ipython3",
   "version": "3.10.12"
  },
  "orig_nbformat": 4
 },
 "nbformat": 4,
 "nbformat_minor": 2
}
