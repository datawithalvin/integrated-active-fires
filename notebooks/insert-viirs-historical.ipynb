{
 "cells": [
  {
   "cell_type": "code",
   "execution_count": 1,
   "metadata": {},
   "outputs": [],
   "source": [
    "# import libraries\n",
    "import pandas as pd\n",
    "import polars as pl\n",
    "import io\n",
    "import requests\n",
    "import json\n",
    "import datetime\n",
    "\n",
    "from bs4 import BeautifulSoup\n",
    "from selenium import webdriver\n",
    "from selenium.webdriver.chrome.service import Service as ChromeService\n",
    "from webdriver_manager.chrome import ChromeDriverManager\n",
    "import time\n",
    "\n",
    "from src.config import CONNECTION_URI\n",
    "from supabase import create_client, Client"
   ]
  },
  {
   "cell_type": "code",
   "execution_count": 10,
   "metadata": {},
   "outputs": [
    {
     "data": {
      "text/html": [
       "<div><style>\n",
       ".dataframe > thead > tr > th,\n",
       ".dataframe > tbody > tr > td {\n",
       "  text-align: right;\n",
       "  white-space: pre-wrap;\n",
       "}\n",
       "</style>\n",
       "<small>shape: (3, 15)</small><table border=\"1\" class=\"dataframe\"><thead><tr><th>latitude</th><th>longitude</th><th>brightness</th><th>scan</th><th>track</th><th>acq_date</th><th>acq_time</th><th>satellite</th><th>instrument</th><th>confidence</th><th>version</th><th>bright_t31</th><th>frp</th><th>daynight</th><th>type</th></tr><tr><td>f64</td><td>f64</td><td>f64</td><td>f64</td><td>f64</td><td>str</td><td>i64</td><td>str</td><td>str</td><td>str</td><td>i64</td><td>f64</td><td>f64</td><td>str</td><td>i64</td></tr></thead><tbody><tr><td>-1.454696</td><td>127.433228</td><td>341.71</td><td>0.66</td><td>0.73</td><td>&quot;1/1/2021&quot;</td><td>400</td><td>&quot;N&quot;</td><td>&quot;VIIRS&quot;</td><td>&quot;n&quot;</td><td>1</td><td>287.14</td><td>9.83</td><td>&quot;D&quot;</td><td>3</td></tr><tr><td>-3.989202</td><td>122.100601</td><td>338.51</td><td>0.5</td><td>0.49</td><td>&quot;1/1/2021&quot;</td><td>542</td><td>&quot;N&quot;</td><td>&quot;VIIRS&quot;</td><td>&quot;n&quot;</td><td>1</td><td>289.81</td><td>4.83</td><td>&quot;D&quot;</td><td>0</td></tr><tr><td>-2.577868</td><td>121.379036</td><td>350.77</td><td>0.47</td><td>0.48</td><td>&quot;1/1/2021&quot;</td><td>542</td><td>&quot;N&quot;</td><td>&quot;VIIRS&quot;</td><td>&quot;n&quot;</td><td>1</td><td>285.65</td><td>35.66</td><td>&quot;D&quot;</td><td>2</td></tr></tbody></table></div>"
      ],
      "text/plain": [
       "shape: (3, 15)\n",
       "┌───────────┬────────────┬────────────┬──────┬───┬────────────┬───────┬──────────┬──────┐\n",
       "│ latitude  ┆ longitude  ┆ brightness ┆ scan ┆ … ┆ bright_t31 ┆ frp   ┆ daynight ┆ type │\n",
       "│ ---       ┆ ---        ┆ ---        ┆ ---  ┆   ┆ ---        ┆ ---   ┆ ---      ┆ ---  │\n",
       "│ f64       ┆ f64        ┆ f64        ┆ f64  ┆   ┆ f64        ┆ f64   ┆ str      ┆ i64  │\n",
       "╞═══════════╪════════════╪════════════╪══════╪═══╪════════════╪═══════╪══════════╪══════╡\n",
       "│ -1.454696 ┆ 127.433228 ┆ 341.71     ┆ 0.66 ┆ … ┆ 287.14     ┆ 9.83  ┆ D        ┆ 3    │\n",
       "│ -3.989202 ┆ 122.100601 ┆ 338.51     ┆ 0.5  ┆ … ┆ 289.81     ┆ 4.83  ┆ D        ┆ 0    │\n",
       "│ -2.577868 ┆ 121.379036 ┆ 350.77     ┆ 0.47 ┆ … ┆ 285.65     ┆ 35.66 ┆ D        ┆ 2    │\n",
       "└───────────┴────────────┴────────────┴──────┴───┴────────────┴───────┴──────────┴──────┘"
      ]
     },
     "metadata": {},
     "output_type": "display_data"
    },
    {
     "data": {
      "text/html": [
       "<div><style>\n",
       ".dataframe > thead > tr > th,\n",
       ".dataframe > tbody > tr > td {\n",
       "  text-align: right;\n",
       "  white-space: pre-wrap;\n",
       "}\n",
       "</style>\n",
       "<small>shape: (3, 15)</small><table border=\"1\" class=\"dataframe\"><thead><tr><th>latitude</th><th>longitude</th><th>brightness</th><th>scan</th><th>track</th><th>acq_date</th><th>acq_time</th><th>satellite</th><th>instrument</th><th>confidence</th><th>version</th><th>bright_t31</th><th>frp</th><th>daynight</th><th>type</th></tr><tr><td>f64</td><td>f64</td><td>f64</td><td>f64</td><td>f64</td><td>str</td><td>i64</td><td>str</td><td>str</td><td>str</td><td>i64</td><td>f64</td><td>f64</td><td>str</td><td>i64</td></tr></thead><tbody><tr><td>-1.255306</td><td>121.606781</td><td>330.97</td><td>0.53</td><td>0.42</td><td>&quot;2022-01-01&quot;</td><td>500</td><td>&quot;N&quot;</td><td>&quot;VIIRS&quot;</td><td>&quot;n&quot;</td><td>1</td><td>275.37</td><td>4.03</td><td>&quot;D&quot;</td><td>0</td></tr><tr><td>-3.865005</td><td>136.417984</td><td>332.43</td><td>0.42</td><td>0.61</td><td>&quot;2022-01-01&quot;</td><td>500</td><td>&quot;N&quot;</td><td>&quot;VIIRS&quot;</td><td>&quot;n&quot;</td><td>1</td><td>283.68</td><td>2.68</td><td>&quot;D&quot;</td><td>3</td></tr><tr><td>-1.257126</td><td>121.605209</td><td>332.45</td><td>0.53</td><td>0.42</td><td>&quot;2022-01-01&quot;</td><td>500</td><td>&quot;N&quot;</td><td>&quot;VIIRS&quot;</td><td>&quot;n&quot;</td><td>1</td><td>274.84</td><td>6.87</td><td>&quot;D&quot;</td><td>0</td></tr></tbody></table></div>"
      ],
      "text/plain": [
       "shape: (3, 15)\n",
       "┌───────────┬────────────┬────────────┬──────┬───┬────────────┬──────┬──────────┬──────┐\n",
       "│ latitude  ┆ longitude  ┆ brightness ┆ scan ┆ … ┆ bright_t31 ┆ frp  ┆ daynight ┆ type │\n",
       "│ ---       ┆ ---        ┆ ---        ┆ ---  ┆   ┆ ---        ┆ ---  ┆ ---      ┆ ---  │\n",
       "│ f64       ┆ f64        ┆ f64        ┆ f64  ┆   ┆ f64        ┆ f64  ┆ str      ┆ i64  │\n",
       "╞═══════════╪════════════╪════════════╪══════╪═══╪════════════╪══════╪══════════╪══════╡\n",
       "│ -1.255306 ┆ 121.606781 ┆ 330.97     ┆ 0.53 ┆ … ┆ 275.37     ┆ 4.03 ┆ D        ┆ 0    │\n",
       "│ -3.865005 ┆ 136.417984 ┆ 332.43     ┆ 0.42 ┆ … ┆ 283.68     ┆ 2.68 ┆ D        ┆ 3    │\n",
       "│ -1.257126 ┆ 121.605209 ┆ 332.45     ┆ 0.53 ┆ … ┆ 274.84     ┆ 6.87 ┆ D        ┆ 0    │\n",
       "└───────────┴────────────┴────────────┴──────┴───┴────────────┴──────┴──────────┴──────┘"
      ]
     },
     "metadata": {},
     "output_type": "display_data"
    },
    {
     "data": {
      "text/html": [
       "<div><style>\n",
       ".dataframe > thead > tr > th,\n",
       ".dataframe > tbody > tr > td {\n",
       "  text-align: right;\n",
       "  white-space: pre-wrap;\n",
       "}\n",
       "</style>\n",
       "<small>shape: (3, 14)</small><table border=\"1\" class=\"dataframe\"><thead><tr><th>latitude</th><th>longitude</th><th>brightness</th><th>scan</th><th>track</th><th>acq_date</th><th>acq_time</th><th>satellite</th><th>instrument</th><th>confidence</th><th>version</th><th>bright_t31</th><th>frp</th><th>daynight</th></tr><tr><td>f64</td><td>f64</td><td>f64</td><td>f64</td><td>f64</td><td>str</td><td>i64</td><td>str</td><td>str</td><td>str</td><td>str</td><td>f64</td><td>f64</td><td>str</td></tr></thead><tbody><tr><td>0.451</td><td>109.06416</td><td>334.46</td><td>0.42</td><td>0.38</td><td>&quot;1/1/2023&quot;</td><td>559</td><td>&quot;N&quot;</td><td>&quot;VIIRS&quot;</td><td>&quot;n&quot;</td><td>&quot;2.0NRT&quot;</td><td>288.34</td><td>27.04</td><td>&quot;D&quot;</td></tr><tr><td>-1.32986</td><td>113.40453</td><td>342.43</td><td>0.41</td><td>0.37</td><td>&quot;1/1/2023&quot;</td><td>559</td><td>&quot;N&quot;</td><td>&quot;VIIRS&quot;</td><td>&quot;n&quot;</td><td>&quot;2.0NRT&quot;</td><td>279.44</td><td>7.98</td><td>&quot;D&quot;</td></tr><tr><td>-0.84505</td><td>116.93285</td><td>341.42</td><td>0.41</td><td>0.45</td><td>&quot;1/1/2023&quot;</td><td>559</td><td>&quot;N&quot;</td><td>&quot;VIIRS&quot;</td><td>&quot;n&quot;</td><td>&quot;2.0NRT&quot;</td><td>286.1</td><td>9.12</td><td>&quot;D&quot;</td></tr></tbody></table></div>"
      ],
      "text/plain": [
       "shape: (3, 14)\n",
       "┌──────────┬───────────┬────────────┬──────┬───┬─────────┬────────────┬───────┬──────────┐\n",
       "│ latitude ┆ longitude ┆ brightness ┆ scan ┆ … ┆ version ┆ bright_t31 ┆ frp   ┆ daynight │\n",
       "│ ---      ┆ ---       ┆ ---        ┆ ---  ┆   ┆ ---     ┆ ---        ┆ ---   ┆ ---      │\n",
       "│ f64      ┆ f64       ┆ f64        ┆ f64  ┆   ┆ str     ┆ f64        ┆ f64   ┆ str      │\n",
       "╞══════════╪═══════════╪════════════╪══════╪═══╪═════════╪════════════╪═══════╪══════════╡\n",
       "│ 0.451    ┆ 109.06416 ┆ 334.46     ┆ 0.42 ┆ … ┆ 2.0NRT  ┆ 288.34     ┆ 27.04 ┆ D        │\n",
       "│ -1.32986 ┆ 113.40453 ┆ 342.43     ┆ 0.41 ┆ … ┆ 2.0NRT  ┆ 279.44     ┆ 7.98  ┆ D        │\n",
       "│ -0.84505 ┆ 116.93285 ┆ 341.42     ┆ 0.41 ┆ … ┆ 2.0NRT  ┆ 286.1      ┆ 9.12  ┆ D        │\n",
       "└──────────┴───────────┴────────────┴──────┴───┴─────────┴────────────┴───────┴──────────┘"
      ]
     },
     "metadata": {},
     "output_type": "display_data"
    }
   ],
   "source": [
    "hist_2021 = pl.read_csv(\"../data/viirs-yearly-summary/viirs-snpp_2021.csv\")\n",
    "hist_2022 = pl.read_csv(\"../data/viirs-yearly-summary/viirs-snpp_2022.csv\")\n",
    "hist_2023 = pl.read_csv(\"../data/viirs-yearly-summary/viirs-snpp_2023.csv\")\n",
    "\n",
    "display(hist_2021.head(3), hist_2022.head(3), hist_2023.head(3))"
   ]
  },
  {
   "cell_type": "markdown",
   "metadata": {},
   "source": [
    "There's different length of columns between 2021-2022 and 2023 dataset. In this case, it's because the dataset for 2023 hasn't been processed yet since it's a \"2.0 NRT\" version. To combine them into one big dataframe, we need to add \"type\" column into hist_2023 and cast the columns into one consistent type."
   ]
  },
  {
   "cell_type": "code",
   "execution_count": 11,
   "metadata": {},
   "outputs": [
    {
     "data": {
      "text/html": [
       "<div><style>\n",
       ".dataframe > thead > tr > th,\n",
       ".dataframe > tbody > tr > td {\n",
       "  text-align: right;\n",
       "  white-space: pre-wrap;\n",
       "}\n",
       "</style>\n",
       "<small>shape: (3, 15)</small><table border=\"1\" class=\"dataframe\"><thead><tr><th>latitude</th><th>longitude</th><th>brightness</th><th>scan</th><th>track</th><th>acq_date</th><th>acq_time</th><th>satellite</th><th>instrument</th><th>confidence</th><th>version</th><th>bright_t31</th><th>frp</th><th>daynight</th><th>type</th></tr><tr><td>f32</td><td>f32</td><td>f32</td><td>f32</td><td>f32</td><td>date</td><td>i16</td><td>str</td><td>str</td><td>str</td><td>str</td><td>f32</td><td>f32</td><td>str</td><td>i16</td></tr></thead><tbody><tr><td>-1.454696</td><td>127.433228</td><td>341.709991</td><td>0.66</td><td>0.73</td><td>2021-01-01</td><td>400</td><td>&quot;N&quot;</td><td>&quot;VIIRS&quot;</td><td>&quot;n&quot;</td><td>&quot;1&quot;</td><td>287.140015</td><td>9.83</td><td>&quot;D&quot;</td><td>3</td></tr><tr><td>-3.989202</td><td>122.100601</td><td>338.51001</td><td>0.5</td><td>0.49</td><td>2021-01-01</td><td>542</td><td>&quot;N&quot;</td><td>&quot;VIIRS&quot;</td><td>&quot;n&quot;</td><td>&quot;1&quot;</td><td>289.809998</td><td>4.83</td><td>&quot;D&quot;</td><td>0</td></tr><tr><td>-2.577868</td><td>121.379036</td><td>350.769989</td><td>0.47</td><td>0.48</td><td>2021-01-01</td><td>542</td><td>&quot;N&quot;</td><td>&quot;VIIRS&quot;</td><td>&quot;n&quot;</td><td>&quot;1&quot;</td><td>285.649994</td><td>35.66</td><td>&quot;D&quot;</td><td>2</td></tr></tbody></table></div>"
      ],
      "text/plain": [
       "shape: (3, 15)\n",
       "┌───────────┬────────────┬────────────┬──────┬───┬────────────┬───────┬──────────┬──────┐\n",
       "│ latitude  ┆ longitude  ┆ brightness ┆ scan ┆ … ┆ bright_t31 ┆ frp   ┆ daynight ┆ type │\n",
       "│ ---       ┆ ---        ┆ ---        ┆ ---  ┆   ┆ ---        ┆ ---   ┆ ---      ┆ ---  │\n",
       "│ f32       ┆ f32        ┆ f32        ┆ f32  ┆   ┆ f32        ┆ f32   ┆ str      ┆ i16  │\n",
       "╞═══════════╪════════════╪════════════╪══════╪═══╪════════════╪═══════╪══════════╪══════╡\n",
       "│ -1.454696 ┆ 127.433228 ┆ 341.709991 ┆ 0.66 ┆ … ┆ 287.140015 ┆ 9.83  ┆ D        ┆ 3    │\n",
       "│ -3.989202 ┆ 122.100601 ┆ 338.51001  ┆ 0.5  ┆ … ┆ 289.809998 ┆ 4.83  ┆ D        ┆ 0    │\n",
       "│ -2.577868 ┆ 121.379036 ┆ 350.769989 ┆ 0.47 ┆ … ┆ 285.649994 ┆ 35.66 ┆ D        ┆ 2    │\n",
       "└───────────┴────────────┴────────────┴──────┴───┴────────────┴───────┴──────────┴──────┘"
      ]
     },
     "metadata": {},
     "output_type": "display_data"
    },
    {
     "data": {
      "text/html": [
       "<div><style>\n",
       ".dataframe > thead > tr > th,\n",
       ".dataframe > tbody > tr > td {\n",
       "  text-align: right;\n",
       "  white-space: pre-wrap;\n",
       "}\n",
       "</style>\n",
       "<small>shape: (3, 15)</small><table border=\"1\" class=\"dataframe\"><thead><tr><th>latitude</th><th>longitude</th><th>brightness</th><th>scan</th><th>track</th><th>acq_date</th><th>acq_time</th><th>satellite</th><th>instrument</th><th>confidence</th><th>version</th><th>bright_t31</th><th>frp</th><th>daynight</th><th>type</th></tr><tr><td>f32</td><td>f32</td><td>f32</td><td>f32</td><td>f32</td><td>date</td><td>i16</td><td>str</td><td>str</td><td>str</td><td>str</td><td>f32</td><td>f32</td><td>str</td><td>i16</td></tr></thead><tbody><tr><td>-1.255306</td><td>121.606781</td><td>330.970001</td><td>0.53</td><td>0.42</td><td>2022-01-01</td><td>500</td><td>&quot;N&quot;</td><td>&quot;VIIRS&quot;</td><td>&quot;n&quot;</td><td>&quot;1&quot;</td><td>275.369995</td><td>4.03</td><td>&quot;D&quot;</td><td>0</td></tr><tr><td>-3.865005</td><td>136.417984</td><td>332.429993</td><td>0.42</td><td>0.61</td><td>2022-01-01</td><td>500</td><td>&quot;N&quot;</td><td>&quot;VIIRS&quot;</td><td>&quot;n&quot;</td><td>&quot;1&quot;</td><td>283.679993</td><td>2.68</td><td>&quot;D&quot;</td><td>3</td></tr><tr><td>-1.257126</td><td>121.605209</td><td>332.450012</td><td>0.53</td><td>0.42</td><td>2022-01-01</td><td>500</td><td>&quot;N&quot;</td><td>&quot;VIIRS&quot;</td><td>&quot;n&quot;</td><td>&quot;1&quot;</td><td>274.839996</td><td>6.87</td><td>&quot;D&quot;</td><td>0</td></tr></tbody></table></div>"
      ],
      "text/plain": [
       "shape: (3, 15)\n",
       "┌───────────┬────────────┬────────────┬──────┬───┬────────────┬──────┬──────────┬──────┐\n",
       "│ latitude  ┆ longitude  ┆ brightness ┆ scan ┆ … ┆ bright_t31 ┆ frp  ┆ daynight ┆ type │\n",
       "│ ---       ┆ ---        ┆ ---        ┆ ---  ┆   ┆ ---        ┆ ---  ┆ ---      ┆ ---  │\n",
       "│ f32       ┆ f32        ┆ f32        ┆ f32  ┆   ┆ f32        ┆ f32  ┆ str      ┆ i16  │\n",
       "╞═══════════╪════════════╪════════════╪══════╪═══╪════════════╪══════╪══════════╪══════╡\n",
       "│ -1.255306 ┆ 121.606781 ┆ 330.970001 ┆ 0.53 ┆ … ┆ 275.369995 ┆ 4.03 ┆ D        ┆ 0    │\n",
       "│ -3.865005 ┆ 136.417984 ┆ 332.429993 ┆ 0.42 ┆ … ┆ 283.679993 ┆ 2.68 ┆ D        ┆ 3    │\n",
       "│ -1.257126 ┆ 121.605209 ┆ 332.450012 ┆ 0.53 ┆ … ┆ 274.839996 ┆ 6.87 ┆ D        ┆ 0    │\n",
       "└───────────┴────────────┴────────────┴──────┴───┴────────────┴──────┴──────────┴──────┘"
      ]
     },
     "metadata": {},
     "output_type": "display_data"
    },
    {
     "data": {
      "text/html": [
       "<div><style>\n",
       ".dataframe > thead > tr > th,\n",
       ".dataframe > tbody > tr > td {\n",
       "  text-align: right;\n",
       "  white-space: pre-wrap;\n",
       "}\n",
       "</style>\n",
       "<small>shape: (3, 15)</small><table border=\"1\" class=\"dataframe\"><thead><tr><th>latitude</th><th>longitude</th><th>brightness</th><th>scan</th><th>track</th><th>acq_date</th><th>acq_time</th><th>satellite</th><th>instrument</th><th>confidence</th><th>version</th><th>bright_t31</th><th>frp</th><th>daynight</th><th>type</th></tr><tr><td>f32</td><td>f32</td><td>f32</td><td>f32</td><td>f32</td><td>date</td><td>i16</td><td>str</td><td>str</td><td>str</td><td>str</td><td>f32</td><td>f32</td><td>str</td><td>i16</td></tr></thead><tbody><tr><td>0.451</td><td>109.064163</td><td>334.459991</td><td>0.42</td><td>0.38</td><td>2023-01-01</td><td>559</td><td>&quot;N&quot;</td><td>&quot;VIIRS&quot;</td><td>&quot;n&quot;</td><td>&quot;2.0NRT&quot;</td><td>288.339996</td><td>27.040001</td><td>&quot;D&quot;</td><td>null</td></tr><tr><td>-1.32986</td><td>113.404533</td><td>342.429993</td><td>0.41</td><td>0.37</td><td>2023-01-01</td><td>559</td><td>&quot;N&quot;</td><td>&quot;VIIRS&quot;</td><td>&quot;n&quot;</td><td>&quot;2.0NRT&quot;</td><td>279.440002</td><td>7.98</td><td>&quot;D&quot;</td><td>null</td></tr><tr><td>-0.84505</td><td>116.932854</td><td>341.420013</td><td>0.41</td><td>0.45</td><td>2023-01-01</td><td>559</td><td>&quot;N&quot;</td><td>&quot;VIIRS&quot;</td><td>&quot;n&quot;</td><td>&quot;2.0NRT&quot;</td><td>286.100006</td><td>9.12</td><td>&quot;D&quot;</td><td>null</td></tr></tbody></table></div>"
      ],
      "text/plain": [
       "shape: (3, 15)\n",
       "┌──────────┬────────────┬────────────┬──────┬───┬────────────┬───────────┬──────────┬──────┐\n",
       "│ latitude ┆ longitude  ┆ brightness ┆ scan ┆ … ┆ bright_t31 ┆ frp       ┆ daynight ┆ type │\n",
       "│ ---      ┆ ---        ┆ ---        ┆ ---  ┆   ┆ ---        ┆ ---       ┆ ---      ┆ ---  │\n",
       "│ f32      ┆ f32        ┆ f32        ┆ f32  ┆   ┆ f32        ┆ f32       ┆ str      ┆ i16  │\n",
       "╞══════════╪════════════╪════════════╪══════╪═══╪════════════╪═══════════╪══════════╪══════╡\n",
       "│ 0.451    ┆ 109.064163 ┆ 334.459991 ┆ 0.42 ┆ … ┆ 288.339996 ┆ 27.040001 ┆ D        ┆ null │\n",
       "│ -1.32986 ┆ 113.404533 ┆ 342.429993 ┆ 0.41 ┆ … ┆ 279.440002 ┆ 7.98      ┆ D        ┆ null │\n",
       "│ -0.84505 ┆ 116.932854 ┆ 341.420013 ┆ 0.41 ┆ … ┆ 286.100006 ┆ 9.12      ┆ D        ┆ null │\n",
       "└──────────┴────────────┴────────────┴──────┴───┴────────────┴───────────┴──────────┴──────┘"
      ]
     },
     "metadata": {},
     "output_type": "display_data"
    }
   ],
   "source": [
    "hist_2021 = hist_2021.select(\n",
    "    pl.col(\"latitude\").cast(pl.Float32),\n",
    "    pl.col(\"longitude\").cast(pl.Float32),\n",
    "    pl.col(\"brightness\").cast(pl.Float32),\n",
    "    pl.col(\"scan\").cast(pl.Float32),\n",
    "    pl.col(\"track\").cast(pl.Float32),\n",
    "    pl.col(\"acq_date\").str.strptime(pl.Date, \"%m/%d/%Y\"),\n",
    "    pl.col(\"acq_time\").cast(pl.Int16),\n",
    "    pl.col(\"satellite\").cast(pl.Utf8),\n",
    "    pl.col(\"instrument\").cast(pl.Utf8),\n",
    "    pl.col(\"confidence\").cast(pl.Utf8),\n",
    "    pl.col(\"version\").cast(pl.Utf8),\n",
    "    pl.col(\"bright_t31\").cast(pl.Float32),\n",
    "    pl.col(\"frp\").cast(pl.Float32),\n",
    "    pl.col(\"daynight\").cast(pl.Utf8),\n",
    "    pl.col(\"type\").cast(pl.Int16),\n",
    ")\n",
    "\n",
    "hist_2022 = hist_2022.select(\n",
    "    pl.col(\"latitude\").cast(pl.Float32),\n",
    "    pl.col(\"longitude\").cast(pl.Float32),\n",
    "    pl.col(\"brightness\").cast(pl.Float32),\n",
    "    pl.col(\"scan\").cast(pl.Float32),\n",
    "    pl.col(\"track\").cast(pl.Float32),\n",
    "    pl.col(\"acq_date\").str.strptime(pl.Date, \"%Y-%m-%d\"),\n",
    "    pl.col(\"acq_time\").cast(pl.Int16),\n",
    "    pl.col(\"satellite\").cast(pl.Utf8),\n",
    "    pl.col(\"instrument\").cast(pl.Utf8),\n",
    "    pl.col(\"confidence\").cast(pl.Utf8),\n",
    "    pl.col(\"version\").cast(pl.Utf8),\n",
    "    pl.col(\"bright_t31\").cast(pl.Float32),\n",
    "    pl.col(\"frp\").cast(pl.Float32),\n",
    "    pl.col(\"daynight\").cast(pl.Utf8),\n",
    "    pl.col(\"type\").cast(pl.Int16),\n",
    ")\n",
    "\n",
    "hist_2023 = hist_2023.with_columns(\n",
    "    type = pl.lit(None)\n",
    ")\n",
    "\n",
    "hist_2023 = hist_2023.select(\n",
    "    pl.col(\"latitude\").cast(pl.Float32),\n",
    "    pl.col(\"longitude\").cast(pl.Float32),\n",
    "    pl.col(\"brightness\").cast(pl.Float32),\n",
    "    pl.col(\"scan\").cast(pl.Float32),\n",
    "    pl.col(\"track\").cast(pl.Float32),\n",
    "    pl.col(\"acq_date\").str.strptime(pl.Date, \"%m/%d/%Y\"),\n",
    "    pl.col(\"acq_time\").cast(pl.Int16),\n",
    "    pl.col(\"satellite\").cast(pl.Utf8),\n",
    "    pl.col(\"instrument\").cast(pl.Utf8),\n",
    "    pl.col(\"confidence\").cast(pl.Utf8),\n",
    "    pl.col(\"version\").cast(pl.Utf8),\n",
    "    pl.col(\"bright_t31\").cast(pl.Float32),\n",
    "    pl.col(\"frp\").cast(pl.Float32),\n",
    "    pl.col(\"daynight\").cast(pl.Utf8),\n",
    "    pl.col(\"type\").cast(pl.Int16),\n",
    ")\n",
    "\n",
    "display(hist_2021.head(3), hist_2022.head(3), hist_2023.head(3))"
   ]
  },
  {
   "cell_type": "code",
   "execution_count": 12,
   "metadata": {},
   "outputs": [
    {
     "data": {
      "text/html": [
       "<div><style>\n",
       ".dataframe > thead > tr > th,\n",
       ".dataframe > tbody > tr > td {\n",
       "  text-align: right;\n",
       "  white-space: pre-wrap;\n",
       "}\n",
       "</style>\n",
       "<small>shape: (191_172, 15)</small><table border=\"1\" class=\"dataframe\"><thead><tr><th>latitude</th><th>longitude</th><th>brightness</th><th>scan</th><th>track</th><th>acq_date</th><th>acq_time</th><th>satellite</th><th>instrument</th><th>confidence</th><th>version</th><th>bright_t31</th><th>frp</th><th>daynight</th><th>type</th></tr><tr><td>f32</td><td>f32</td><td>f32</td><td>f32</td><td>f32</td><td>date</td><td>i16</td><td>str</td><td>str</td><td>str</td><td>str</td><td>f32</td><td>f32</td><td>str</td><td>i16</td></tr></thead><tbody><tr><td>-1.454696</td><td>127.433228</td><td>341.709991</td><td>0.66</td><td>0.73</td><td>2021-01-01</td><td>400</td><td>&quot;N&quot;</td><td>&quot;VIIRS&quot;</td><td>&quot;n&quot;</td><td>&quot;1&quot;</td><td>287.140015</td><td>9.83</td><td>&quot;D&quot;</td><td>3</td></tr><tr><td>-3.989202</td><td>122.100601</td><td>338.51001</td><td>0.5</td><td>0.49</td><td>2021-01-01</td><td>542</td><td>&quot;N&quot;</td><td>&quot;VIIRS&quot;</td><td>&quot;n&quot;</td><td>&quot;1&quot;</td><td>289.809998</td><td>4.83</td><td>&quot;D&quot;</td><td>0</td></tr><tr><td>-2.577868</td><td>121.379036</td><td>350.769989</td><td>0.47</td><td>0.48</td><td>2021-01-01</td><td>542</td><td>&quot;N&quot;</td><td>&quot;VIIRS&quot;</td><td>&quot;n&quot;</td><td>&quot;1&quot;</td><td>285.649994</td><td>35.66</td><td>&quot;D&quot;</td><td>2</td></tr><tr><td>0.487806</td><td>122.279358</td><td>333.049988</td><td>0.6</td><td>0.53</td><td>2021-01-01</td><td>542</td><td>&quot;N&quot;</td><td>&quot;VIIRS&quot;</td><td>&quot;n&quot;</td><td>&quot;1&quot;</td><td>290.579987</td><td>5.19</td><td>&quot;D&quot;</td><td>0</td></tr><tr><td>-1.373236</td><td>121.310432</td><td>335.929993</td><td>0.48</td><td>0.48</td><td>2021-01-01</td><td>542</td><td>&quot;N&quot;</td><td>&quot;VIIRS&quot;</td><td>&quot;n&quot;</td><td>&quot;1&quot;</td><td>290.649994</td><td>5.3</td><td>&quot;D&quot;</td><td>0</td></tr><tr><td>-6.041213</td><td>105.929779</td><td>333.209991</td><td>0.42</td><td>0.61</td><td>2021-01-01</td><td>542</td><td>&quot;N&quot;</td><td>&quot;VIIRS&quot;</td><td>&quot;n&quot;</td><td>&quot;1&quot;</td><td>286.279999</td><td>4.21</td><td>&quot;D&quot;</td><td>3</td></tr><tr><td>-2.159446</td><td>115.582207</td><td>328.700012</td><td>0.39</td><td>0.36</td><td>2021-01-01</td><td>542</td><td>&quot;N&quot;</td><td>&quot;VIIRS&quot;</td><td>&quot;n&quot;</td><td>&quot;1&quot;</td><td>286.209991</td><td>2.28</td><td>&quot;D&quot;</td><td>2</td></tr><tr><td>-0.923966</td><td>120.00058</td><td>331.200012</td><td>0.4</td><td>0.44</td><td>2021-01-01</td><td>542</td><td>&quot;N&quot;</td><td>&quot;VIIRS&quot;</td><td>&quot;n&quot;</td><td>&quot;1&quot;</td><td>291.390015</td><td>2.58</td><td>&quot;D&quot;</td><td>0</td></tr><tr><td>-2.577709</td><td>121.37899</td><td>345.339996</td><td>0.59</td><td>0.53</td><td>2021-01-01</td><td>1642</td><td>&quot;N&quot;</td><td>&quot;VIIRS&quot;</td><td>&quot;n&quot;</td><td>&quot;1&quot;</td><td>290.700012</td><td>14.06</td><td>&quot;N&quot;</td><td>2</td></tr><tr><td>-2.576063</td><td>121.368759</td><td>310.790009</td><td>0.59</td><td>0.53</td><td>2021-01-01</td><td>1642</td><td>&quot;N&quot;</td><td>&quot;VIIRS&quot;</td><td>&quot;n&quot;</td><td>&quot;1&quot;</td><td>285.809998</td><td>2.49</td><td>&quot;N&quot;</td><td>2</td></tr><tr><td>1.499296</td><td>127.631577</td><td>314.149994</td><td>0.43</td><td>0.38</td><td>2021-01-01</td><td>1642</td><td>&quot;N&quot;</td><td>&quot;VIIRS&quot;</td><td>&quot;n&quot;</td><td>&quot;1&quot;</td><td>290.23999</td><td>1.71</td><td>&quot;N&quot;</td><td>1</td></tr><tr><td>-2.582547</td><td>121.378075</td><td>339.079987</td><td>0.59</td><td>0.53</td><td>2021-01-01</td><td>1642</td><td>&quot;N&quot;</td><td>&quot;VIIRS&quot;</td><td>&quot;n&quot;</td><td>&quot;1&quot;</td><td>287.100006</td><td>10.01</td><td>&quot;N&quot;</td><td>2</td></tr><tr><td>&hellip;</td><td>&hellip;</td><td>&hellip;</td><td>&hellip;</td><td>&hellip;</td><td>&hellip;</td><td>&hellip;</td><td>&hellip;</td><td>&hellip;</td><td>&hellip;</td><td>&hellip;</td><td>&hellip;</td><td>&hellip;</td><td>&hellip;</td><td>&hellip;</td></tr><tr><td>1.6188</td><td>109.245712</td><td>346.720001</td><td>0.38</td><td>0.59</td><td>2023-09-01</td><td>646</td><td>&quot;N&quot;</td><td>&quot;VIIRS&quot;</td><td>&quot;n&quot;</td><td>&quot;2.0NRT&quot;</td><td>290.799988</td><td>32.630001</td><td>&quot;D&quot;</td><td>null</td></tr><tr><td>1.67106</td><td>109.331558</td><td>354.470001</td><td>0.39</td><td>0.59</td><td>2023-09-01</td><td>646</td><td>&quot;N&quot;</td><td>&quot;VIIRS&quot;</td><td>&quot;n&quot;</td><td>&quot;2.0NRT&quot;</td><td>291.820007</td><td>10.82</td><td>&quot;D&quot;</td><td>null</td></tr><tr><td>1.67546</td><td>109.323669</td><td>332.070007</td><td>0.39</td><td>0.59</td><td>2023-09-01</td><td>646</td><td>&quot;N&quot;</td><td>&quot;VIIRS&quot;</td><td>&quot;n&quot;</td><td>&quot;2.0NRT&quot;</td><td>292.700012</td><td>10.03</td><td>&quot;D&quot;</td><td>null</td></tr><tr><td>1.67071</td><td>109.333267</td><td>336.309998</td><td>0.39</td><td>0.59</td><td>2023-09-01</td><td>646</td><td>&quot;N&quot;</td><td>&quot;VIIRS&quot;</td><td>&quot;n&quot;</td><td>&quot;2.0NRT&quot;</td><td>291.399994</td><td>2.44</td><td>&quot;D&quot;</td><td>null</td></tr><tr><td>1.6702</td><td>109.329727</td><td>331.109985</td><td>0.39</td><td>0.59</td><td>2023-09-01</td><td>646</td><td>&quot;N&quot;</td><td>&quot;VIIRS&quot;</td><td>&quot;n&quot;</td><td>&quot;2.0NRT&quot;</td><td>291.279999</td><td>2.44</td><td>&quot;D&quot;</td><td>null</td></tr><tr><td>1.66916</td><td>109.322632</td><td>329.179993</td><td>0.39</td><td>0.59</td><td>2023-09-01</td><td>646</td><td>&quot;N&quot;</td><td>&quot;VIIRS&quot;</td><td>&quot;n&quot;</td><td>&quot;2.0NRT&quot;</td><td>292.700012</td><td>2.97</td><td>&quot;D&quot;</td><td>null</td></tr><tr><td>0.83983</td><td>103.014664</td><td>334.279999</td><td>0.45</td><td>0.39</td><td>2023-09-01</td><td>646</td><td>&quot;N&quot;</td><td>&quot;VIIRS&quot;</td><td>&quot;n&quot;</td><td>&quot;2.0NRT&quot;</td><td>296.779999</td><td>3.58</td><td>&quot;D&quot;</td><td>null</td></tr><tr><td>1.94914</td><td>109.58577</td><td>367.0</td><td>0.41</td><td>0.61</td><td>2023-09-01</td><td>646</td><td>&quot;N&quot;</td><td>&quot;VIIRS&quot;</td><td>&quot;h&quot;</td><td>&quot;2.0NRT&quot;</td><td>291.670013</td><td>28.73</td><td>&quot;D&quot;</td><td>null</td></tr><tr><td>1.94859</td><td>109.582047</td><td>345.779999</td><td>0.41</td><td>0.61</td><td>2023-09-01</td><td>646</td><td>&quot;N&quot;</td><td>&quot;VIIRS&quot;</td><td>&quot;n&quot;</td><td>&quot;2.0NRT&quot;</td><td>288.940002</td><td>12.65</td><td>&quot;D&quot;</td><td>null</td></tr><tr><td>1.95421</td><td>109.581268</td><td>331.720001</td><td>0.41</td><td>0.61</td><td>2023-09-01</td><td>646</td><td>&quot;N&quot;</td><td>&quot;VIIRS&quot;</td><td>&quot;n&quot;</td><td>&quot;2.0NRT&quot;</td><td>287.26001</td><td>12.65</td><td>&quot;D&quot;</td><td>null</td></tr><tr><td>1.95475</td><td>109.584976</td><td>357.0</td><td>0.41</td><td>0.61</td><td>2023-09-01</td><td>646</td><td>&quot;N&quot;</td><td>&quot;VIIRS&quot;</td><td>&quot;l&quot;</td><td>&quot;2.0NRT&quot;</td><td>289.320007</td><td>28.73</td><td>&quot;D&quot;</td><td>null</td></tr><tr><td>1.61386</td><td>109.249969</td><td>367.0</td><td>0.38</td><td>0.59</td><td>2023-09-01</td><td>646</td><td>&quot;N&quot;</td><td>&quot;VIIRS&quot;</td><td>&quot;h&quot;</td><td>&quot;2.0NRT&quot;</td><td>291.600006</td><td>32.630001</td><td>&quot;D&quot;</td><td>null</td></tr></tbody></table></div>"
      ],
      "text/plain": [
       "shape: (191_172, 15)\n",
       "┌───────────┬────────────┬────────────┬──────┬───┬────────────┬───────────┬──────────┬──────┐\n",
       "│ latitude  ┆ longitude  ┆ brightness ┆ scan ┆ … ┆ bright_t31 ┆ frp       ┆ daynight ┆ type │\n",
       "│ ---       ┆ ---        ┆ ---        ┆ ---  ┆   ┆ ---        ┆ ---       ┆ ---      ┆ ---  │\n",
       "│ f32       ┆ f32        ┆ f32        ┆ f32  ┆   ┆ f32        ┆ f32       ┆ str      ┆ i16  │\n",
       "╞═══════════╪════════════╪════════════╪══════╪═══╪════════════╪═══════════╪══════════╪══════╡\n",
       "│ -1.454696 ┆ 127.433228 ┆ 341.709991 ┆ 0.66 ┆ … ┆ 287.140015 ┆ 9.83      ┆ D        ┆ 3    │\n",
       "│ -3.989202 ┆ 122.100601 ┆ 338.51001  ┆ 0.5  ┆ … ┆ 289.809998 ┆ 4.83      ┆ D        ┆ 0    │\n",
       "│ -2.577868 ┆ 121.379036 ┆ 350.769989 ┆ 0.47 ┆ … ┆ 285.649994 ┆ 35.66     ┆ D        ┆ 2    │\n",
       "│ 0.487806  ┆ 122.279358 ┆ 333.049988 ┆ 0.6  ┆ … ┆ 290.579987 ┆ 5.19      ┆ D        ┆ 0    │\n",
       "│ …         ┆ …          ┆ …          ┆ …    ┆ … ┆ …          ┆ …         ┆ …        ┆ …    │\n",
       "│ 1.94859   ┆ 109.582047 ┆ 345.779999 ┆ 0.41 ┆ … ┆ 288.940002 ┆ 12.65     ┆ D        ┆ null │\n",
       "│ 1.95421   ┆ 109.581268 ┆ 331.720001 ┆ 0.41 ┆ … ┆ 287.26001  ┆ 12.65     ┆ D        ┆ null │\n",
       "│ 1.95475   ┆ 109.584976 ┆ 357.0      ┆ 0.41 ┆ … ┆ 289.320007 ┆ 28.73     ┆ D        ┆ null │\n",
       "│ 1.61386   ┆ 109.249969 ┆ 367.0      ┆ 0.38 ┆ … ┆ 291.600006 ┆ 32.630001 ┆ D        ┆ null │\n",
       "└───────────┴────────────┴────────────┴──────┴───┴────────────┴───────────┴──────────┴──────┘"
      ]
     },
     "execution_count": 12,
     "metadata": {},
     "output_type": "execute_result"
    }
   ],
   "source": [
    "concatenated_hist = pl.concat([hist_2021, hist_2022, hist_2023])\n",
    "concatenated_hist = concatenated_hist.sort(\"acq_date\")\n",
    "\n",
    "concatenated_hist"
   ]
  },
  {
   "cell_type": "markdown",
   "metadata": {},
   "source": [
    "Insert into supabase"
   ]
  },
  {
   "cell_type": "code",
   "execution_count": 4,
   "metadata": {},
   "outputs": [
    {
     "data": {
      "text/html": [
       "<div><style>\n",
       ".dataframe > thead > tr > th,\n",
       ".dataframe > tbody > tr > td {\n",
       "  text-align: right;\n",
       "  white-space: pre-wrap;\n",
       "}\n",
       "</style>\n",
       "<small>shape: (5, 16)</small><table border=\"1\" class=\"dataframe\"><thead><tr><th>id</th><th>latitude</th><th>longitude</th><th>brightness</th><th>scan</th><th>track</th><th>acq_date</th><th>acq_time</th><th>satellite</th><th>instrument</th><th>confidence</th><th>version</th><th>bright_t31</th><th>frp</th><th>daynight</th><th>type</th></tr><tr><td>i64</td><td>f64</td><td>f64</td><td>f32</td><td>f32</td><td>f32</td><td>date</td><td>i32</td><td>str</td><td>str</td><td>str</td><td>str</td><td>f32</td><td>f32</td><td>str</td><td>i32</td></tr></thead><tbody><tr><td>1</td><td>-1.454696</td><td>127.433228</td><td>341.709991</td><td>0.66</td><td>0.73</td><td>2021-01-01</td><td>400</td><td>&quot;N&quot;</td><td>&quot;VIIRS&quot;</td><td>&quot;n&quot;</td><td>&quot;1&quot;</td><td>287.140015</td><td>9.83</td><td>&quot;D&quot;</td><td>3</td></tr><tr><td>2</td><td>-3.989202</td><td>122.100601</td><td>338.51001</td><td>0.5</td><td>0.49</td><td>2021-01-01</td><td>542</td><td>&quot;N&quot;</td><td>&quot;VIIRS&quot;</td><td>&quot;n&quot;</td><td>&quot;1&quot;</td><td>289.809998</td><td>4.83</td><td>&quot;D&quot;</td><td>0</td></tr><tr><td>3</td><td>-2.577868</td><td>121.379036</td><td>350.769989</td><td>0.47</td><td>0.48</td><td>2021-01-01</td><td>542</td><td>&quot;N&quot;</td><td>&quot;VIIRS&quot;</td><td>&quot;n&quot;</td><td>&quot;1&quot;</td><td>285.649994</td><td>35.66</td><td>&quot;D&quot;</td><td>2</td></tr><tr><td>4</td><td>0.487806</td><td>122.279358</td><td>333.049988</td><td>0.6</td><td>0.53</td><td>2021-01-01</td><td>542</td><td>&quot;N&quot;</td><td>&quot;VIIRS&quot;</td><td>&quot;n&quot;</td><td>&quot;1&quot;</td><td>290.579987</td><td>5.19</td><td>&quot;D&quot;</td><td>0</td></tr><tr><td>5</td><td>-1.373236</td><td>121.310432</td><td>335.929993</td><td>0.48</td><td>0.48</td><td>2021-01-01</td><td>542</td><td>&quot;N&quot;</td><td>&quot;VIIRS&quot;</td><td>&quot;n&quot;</td><td>&quot;1&quot;</td><td>290.649994</td><td>5.3</td><td>&quot;D&quot;</td><td>0</td></tr></tbody></table></div>"
      ],
      "text/plain": [
       "shape: (5, 16)\n",
       "┌─────┬───────────┬────────────┬────────────┬───┬────────────┬───────┬──────────┬──────┐\n",
       "│ id  ┆ latitude  ┆ longitude  ┆ brightness ┆ … ┆ bright_t31 ┆ frp   ┆ daynight ┆ type │\n",
       "│ --- ┆ ---       ┆ ---        ┆ ---        ┆   ┆ ---        ┆ ---   ┆ ---      ┆ ---  │\n",
       "│ i64 ┆ f64       ┆ f64        ┆ f32        ┆   ┆ f32        ┆ f32   ┆ str      ┆ i32  │\n",
       "╞═════╪═══════════╪════════════╪════════════╪═══╪════════════╪═══════╪══════════╪══════╡\n",
       "│ 1   ┆ -1.454696 ┆ 127.433228 ┆ 341.709991 ┆ … ┆ 287.140015 ┆ 9.83  ┆ D        ┆ 3    │\n",
       "│ 2   ┆ -3.989202 ┆ 122.100601 ┆ 338.51001  ┆ … ┆ 289.809998 ┆ 4.83  ┆ D        ┆ 0    │\n",
       "│ 3   ┆ -2.577868 ┆ 121.379036 ┆ 350.769989 ┆ … ┆ 285.649994 ┆ 35.66 ┆ D        ┆ 2    │\n",
       "│ 4   ┆ 0.487806  ┆ 122.279358 ┆ 333.049988 ┆ … ┆ 290.579987 ┆ 5.19  ┆ D        ┆ 0    │\n",
       "│ 5   ┆ -1.373236 ┆ 121.310432 ┆ 335.929993 ┆ … ┆ 290.649994 ┆ 5.3   ┆ D        ┆ 0    │\n",
       "└─────┴───────────┴────────────┴────────────┴───┴────────────┴───────┴──────────┴──────┘"
      ]
     },
     "execution_count": 4,
     "metadata": {},
     "output_type": "execute_result"
    }
   ],
   "source": [
    "query = \"SELECT * FROM viirs_snpp_raw LIMIT 5\"\n",
    "\n",
    "pl.read_database_uri(query=query, uri=CONNECTION_URI)"
   ]
  },
  {
   "cell_type": "code",
   "execution_count": 7,
   "metadata": {},
   "outputs": [],
   "source": [
    "concatenated_hist.write_database(table_name=\"viirs_snpp_raw\",  connection=CONNECTION_URI, if_exists=\"append\")"
   ]
  }
 ],
 "metadata": {
  "kernelspec": {
   "display_name": ".venv-pm25",
   "language": "python",
   "name": "python3"
  },
  "language_info": {
   "codemirror_mode": {
    "name": "ipython",
    "version": 3
   },
   "file_extension": ".py",
   "mimetype": "text/x-python",
   "name": "python",
   "nbconvert_exporter": "python",
   "pygments_lexer": "ipython3",
   "version": "3.11.5"
  },
  "orig_nbformat": 4
 },
 "nbformat": 4,
 "nbformat_minor": 2
}
