{
 "cells": [
  {
   "cell_type": "code",
   "execution_count": 5,
   "metadata": {},
   "outputs": [],
   "source": [
    "# import libraries\n",
    "import pandas as pd\n",
    "import polars as pl\n",
    "import io\n",
    "import requests\n",
    "import json\n",
    "import datetime\n",
    "\n",
    "from bs4 import BeautifulSoup\n",
    "from selenium import webdriver\n",
    "from selenium.webdriver.chrome.service import Service as ChromeService\n",
    "from webdriver_manager.chrome import ChromeDriverManager\n",
    "import time\n",
    "\n",
    "from src.config import CONNECTION_URI, TOKEN\n",
    "from supabase import create_client, Client"
   ]
  },
  {
   "cell_type": "code",
   "execution_count": 10,
   "metadata": {},
   "outputs": [
    {
     "data": {
      "text/html": [
       "<div><style>\n",
       ".dataframe > thead > tr > th,\n",
       ".dataframe > tbody > tr > td {\n",
       "  text-align: right;\n",
       "  white-space: pre-wrap;\n",
       "}\n",
       "</style>\n",
       "<small>shape: (3, 15)</small><table border=\"1\" class=\"dataframe\"><thead><tr><th>latitude</th><th>longitude</th><th>brightness</th><th>scan</th><th>track</th><th>acq_date</th><th>acq_time</th><th>satellite</th><th>instrument</th><th>confidence</th><th>version</th><th>bright_t31</th><th>frp</th><th>daynight</th><th>type</th></tr><tr><td>f64</td><td>f64</td><td>f64</td><td>f64</td><td>f64</td><td>str</td><td>i64</td><td>str</td><td>str</td><td>str</td><td>i64</td><td>f64</td><td>f64</td><td>str</td><td>i64</td></tr></thead><tbody><tr><td>-1.454696</td><td>127.433228</td><td>341.71</td><td>0.66</td><td>0.73</td><td>&quot;1/1/2021&quot;</td><td>400</td><td>&quot;N&quot;</td><td>&quot;VIIRS&quot;</td><td>&quot;n&quot;</td><td>1</td><td>287.14</td><td>9.83</td><td>&quot;D&quot;</td><td>3</td></tr><tr><td>-3.989202</td><td>122.100601</td><td>338.51</td><td>0.5</td><td>0.49</td><td>&quot;1/1/2021&quot;</td><td>542</td><td>&quot;N&quot;</td><td>&quot;VIIRS&quot;</td><td>&quot;n&quot;</td><td>1</td><td>289.81</td><td>4.83</td><td>&quot;D&quot;</td><td>0</td></tr><tr><td>-2.577868</td><td>121.379036</td><td>350.77</td><td>0.47</td><td>0.48</td><td>&quot;1/1/2021&quot;</td><td>542</td><td>&quot;N&quot;</td><td>&quot;VIIRS&quot;</td><td>&quot;n&quot;</td><td>1</td><td>285.65</td><td>35.66</td><td>&quot;D&quot;</td><td>2</td></tr></tbody></table></div>"
      ],
      "text/plain": [
       "shape: (3, 15)\n",
       "┌───────────┬────────────┬────────────┬──────┬───┬────────────┬───────┬──────────┬──────┐\n",
       "│ latitude  ┆ longitude  ┆ brightness ┆ scan ┆ … ┆ bright_t31 ┆ frp   ┆ daynight ┆ type │\n",
       "│ ---       ┆ ---        ┆ ---        ┆ ---  ┆   ┆ ---        ┆ ---   ┆ ---      ┆ ---  │\n",
       "│ f64       ┆ f64        ┆ f64        ┆ f64  ┆   ┆ f64        ┆ f64   ┆ str      ┆ i64  │\n",
       "╞═══════════╪════════════╪════════════╪══════╪═══╪════════════╪═══════╪══════════╪══════╡\n",
       "│ -1.454696 ┆ 127.433228 ┆ 341.71     ┆ 0.66 ┆ … ┆ 287.14     ┆ 9.83  ┆ D        ┆ 3    │\n",
       "│ -3.989202 ┆ 122.100601 ┆ 338.51     ┆ 0.5  ┆ … ┆ 289.81     ┆ 4.83  ┆ D        ┆ 0    │\n",
       "│ -2.577868 ┆ 121.379036 ┆ 350.77     ┆ 0.47 ┆ … ┆ 285.65     ┆ 35.66 ┆ D        ┆ 2    │\n",
       "└───────────┴────────────┴────────────┴──────┴───┴────────────┴───────┴──────────┴──────┘"
      ]
     },
     "metadata": {},
     "output_type": "display_data"
    },
    {
     "data": {
      "text/html": [
       "<div><style>\n",
       ".dataframe > thead > tr > th,\n",
       ".dataframe > tbody > tr > td {\n",
       "  text-align: right;\n",
       "  white-space: pre-wrap;\n",
       "}\n",
       "</style>\n",
       "<small>shape: (3, 15)</small><table border=\"1\" class=\"dataframe\"><thead><tr><th>latitude</th><th>longitude</th><th>brightness</th><th>scan</th><th>track</th><th>acq_date</th><th>acq_time</th><th>satellite</th><th>instrument</th><th>confidence</th><th>version</th><th>bright_t31</th><th>frp</th><th>daynight</th><th>type</th></tr><tr><td>f64</td><td>f64</td><td>f64</td><td>f64</td><td>f64</td><td>str</td><td>i64</td><td>str</td><td>str</td><td>str</td><td>i64</td><td>f64</td><td>f64</td><td>str</td><td>i64</td></tr></thead><tbody><tr><td>-1.255306</td><td>121.606781</td><td>330.97</td><td>0.53</td><td>0.42</td><td>&quot;2022-01-01&quot;</td><td>500</td><td>&quot;N&quot;</td><td>&quot;VIIRS&quot;</td><td>&quot;n&quot;</td><td>1</td><td>275.37</td><td>4.03</td><td>&quot;D&quot;</td><td>0</td></tr><tr><td>-3.865005</td><td>136.417984</td><td>332.43</td><td>0.42</td><td>0.61</td><td>&quot;2022-01-01&quot;</td><td>500</td><td>&quot;N&quot;</td><td>&quot;VIIRS&quot;</td><td>&quot;n&quot;</td><td>1</td><td>283.68</td><td>2.68</td><td>&quot;D&quot;</td><td>3</td></tr><tr><td>-1.257126</td><td>121.605209</td><td>332.45</td><td>0.53</td><td>0.42</td><td>&quot;2022-01-01&quot;</td><td>500</td><td>&quot;N&quot;</td><td>&quot;VIIRS&quot;</td><td>&quot;n&quot;</td><td>1</td><td>274.84</td><td>6.87</td><td>&quot;D&quot;</td><td>0</td></tr></tbody></table></div>"
      ],
      "text/plain": [
       "shape: (3, 15)\n",
       "┌───────────┬────────────┬────────────┬──────┬───┬────────────┬──────┬──────────┬──────┐\n",
       "│ latitude  ┆ longitude  ┆ brightness ┆ scan ┆ … ┆ bright_t31 ┆ frp  ┆ daynight ┆ type │\n",
       "│ ---       ┆ ---        ┆ ---        ┆ ---  ┆   ┆ ---        ┆ ---  ┆ ---      ┆ ---  │\n",
       "│ f64       ┆ f64        ┆ f64        ┆ f64  ┆   ┆ f64        ┆ f64  ┆ str      ┆ i64  │\n",
       "╞═══════════╪════════════╪════════════╪══════╪═══╪════════════╪══════╪══════════╪══════╡\n",
       "│ -1.255306 ┆ 121.606781 ┆ 330.97     ┆ 0.53 ┆ … ┆ 275.37     ┆ 4.03 ┆ D        ┆ 0    │\n",
       "│ -3.865005 ┆ 136.417984 ┆ 332.43     ┆ 0.42 ┆ … ┆ 283.68     ┆ 2.68 ┆ D        ┆ 3    │\n",
       "│ -1.257126 ┆ 121.605209 ┆ 332.45     ┆ 0.53 ┆ … ┆ 274.84     ┆ 6.87 ┆ D        ┆ 0    │\n",
       "└───────────┴────────────┴────────────┴──────┴───┴────────────┴──────┴──────────┴──────┘"
      ]
     },
     "metadata": {},
     "output_type": "display_data"
    },
    {
     "data": {
      "text/html": [
       "<div><style>\n",
       ".dataframe > thead > tr > th,\n",
       ".dataframe > tbody > tr > td {\n",
       "  text-align: right;\n",
       "  white-space: pre-wrap;\n",
       "}\n",
       "</style>\n",
       "<small>shape: (3, 14)</small><table border=\"1\" class=\"dataframe\"><thead><tr><th>latitude</th><th>longitude</th><th>brightness</th><th>scan</th><th>track</th><th>acq_date</th><th>acq_time</th><th>satellite</th><th>instrument</th><th>confidence</th><th>version</th><th>bright_t31</th><th>frp</th><th>daynight</th></tr><tr><td>f64</td><td>f64</td><td>f64</td><td>f64</td><td>f64</td><td>str</td><td>i64</td><td>str</td><td>str</td><td>str</td><td>str</td><td>f64</td><td>f64</td><td>str</td></tr></thead><tbody><tr><td>0.451</td><td>109.06416</td><td>334.46</td><td>0.42</td><td>0.38</td><td>&quot;1/1/2023&quot;</td><td>559</td><td>&quot;N&quot;</td><td>&quot;VIIRS&quot;</td><td>&quot;n&quot;</td><td>&quot;2.0NRT&quot;</td><td>288.34</td><td>27.04</td><td>&quot;D&quot;</td></tr><tr><td>-1.32986</td><td>113.40453</td><td>342.43</td><td>0.41</td><td>0.37</td><td>&quot;1/1/2023&quot;</td><td>559</td><td>&quot;N&quot;</td><td>&quot;VIIRS&quot;</td><td>&quot;n&quot;</td><td>&quot;2.0NRT&quot;</td><td>279.44</td><td>7.98</td><td>&quot;D&quot;</td></tr><tr><td>-0.84505</td><td>116.93285</td><td>341.42</td><td>0.41</td><td>0.45</td><td>&quot;1/1/2023&quot;</td><td>559</td><td>&quot;N&quot;</td><td>&quot;VIIRS&quot;</td><td>&quot;n&quot;</td><td>&quot;2.0NRT&quot;</td><td>286.1</td><td>9.12</td><td>&quot;D&quot;</td></tr></tbody></table></div>"
      ],
      "text/plain": [
       "shape: (3, 14)\n",
       "┌──────────┬───────────┬────────────┬──────┬───┬─────────┬────────────┬───────┬──────────┐\n",
       "│ latitude ┆ longitude ┆ brightness ┆ scan ┆ … ┆ version ┆ bright_t31 ┆ frp   ┆ daynight │\n",
       "│ ---      ┆ ---       ┆ ---        ┆ ---  ┆   ┆ ---     ┆ ---        ┆ ---   ┆ ---      │\n",
       "│ f64      ┆ f64       ┆ f64        ┆ f64  ┆   ┆ str     ┆ f64        ┆ f64   ┆ str      │\n",
       "╞══════════╪═══════════╪════════════╪══════╪═══╪═════════╪════════════╪═══════╪══════════╡\n",
       "│ 0.451    ┆ 109.06416 ┆ 334.46     ┆ 0.42 ┆ … ┆ 2.0NRT  ┆ 288.34     ┆ 27.04 ┆ D        │\n",
       "│ -1.32986 ┆ 113.40453 ┆ 342.43     ┆ 0.41 ┆ … ┆ 2.0NRT  ┆ 279.44     ┆ 7.98  ┆ D        │\n",
       "│ -0.84505 ┆ 116.93285 ┆ 341.42     ┆ 0.41 ┆ … ┆ 2.0NRT  ┆ 286.1      ┆ 9.12  ┆ D        │\n",
       "└──────────┴───────────┴────────────┴──────┴───┴─────────┴────────────┴───────┴──────────┘"
      ]
     },
     "metadata": {},
     "output_type": "display_data"
    }
   ],
   "source": [
    "hist_2021 = pl.read_csv(\"../data/viirs-yearly-summary/viirs-snpp_2021.csv\")\n",
    "hist_2022 = pl.read_csv(\"../data/viirs-yearly-summary/viirs-snpp_2022.csv\")\n",
    "hist_2023 = pl.read_csv(\"../data/viirs-yearly-summary/viirs-snpp_2023.csv\")\n",
    "\n",
    "display(hist_2021.head(3), hist_2022.head(3), hist_2023.head(3))"
   ]
  },
  {
   "cell_type": "markdown",
   "metadata": {},
   "source": [
    "There's different length of columns between 2021-2022 and 2023 dataset. In this case, it's because the dataset for 2023 hasn't been processed yet since it's a \"2.0 NRT\" version. To combine them into one big dataframe, we need to add \"type\" column into hist_2023 and cast the columns into one consistent type."
   ]
  },
  {
   "cell_type": "code",
   "execution_count": 11,
   "metadata": {},
   "outputs": [
    {
     "data": {
      "text/html": [
       "<div><style>\n",
       ".dataframe > thead > tr > th,\n",
       ".dataframe > tbody > tr > td {\n",
       "  text-align: right;\n",
       "  white-space: pre-wrap;\n",
       "}\n",
       "</style>\n",
       "<small>shape: (3, 15)</small><table border=\"1\" class=\"dataframe\"><thead><tr><th>latitude</th><th>longitude</th><th>brightness</th><th>scan</th><th>track</th><th>acq_date</th><th>acq_time</th><th>satellite</th><th>instrument</th><th>confidence</th><th>version</th><th>bright_t31</th><th>frp</th><th>daynight</th><th>type</th></tr><tr><td>f32</td><td>f32</td><td>f32</td><td>f32</td><td>f32</td><td>date</td><td>i16</td><td>str</td><td>str</td><td>str</td><td>str</td><td>f32</td><td>f32</td><td>str</td><td>i16</td></tr></thead><tbody><tr><td>-1.454696</td><td>127.433228</td><td>341.709991</td><td>0.66</td><td>0.73</td><td>2021-01-01</td><td>400</td><td>&quot;N&quot;</td><td>&quot;VIIRS&quot;</td><td>&quot;n&quot;</td><td>&quot;1&quot;</td><td>287.140015</td><td>9.83</td><td>&quot;D&quot;</td><td>3</td></tr><tr><td>-3.989202</td><td>122.100601</td><td>338.51001</td><td>0.5</td><td>0.49</td><td>2021-01-01</td><td>542</td><td>&quot;N&quot;</td><td>&quot;VIIRS&quot;</td><td>&quot;n&quot;</td><td>&quot;1&quot;</td><td>289.809998</td><td>4.83</td><td>&quot;D&quot;</td><td>0</td></tr><tr><td>-2.577868</td><td>121.379036</td><td>350.769989</td><td>0.47</td><td>0.48</td><td>2021-01-01</td><td>542</td><td>&quot;N&quot;</td><td>&quot;VIIRS&quot;</td><td>&quot;n&quot;</td><td>&quot;1&quot;</td><td>285.649994</td><td>35.66</td><td>&quot;D&quot;</td><td>2</td></tr></tbody></table></div>"
      ],
      "text/plain": [
       "shape: (3, 15)\n",
       "┌───────────┬────────────┬────────────┬──────┬───┬────────────┬───────┬──────────┬──────┐\n",
       "│ latitude  ┆ longitude  ┆ brightness ┆ scan ┆ … ┆ bright_t31 ┆ frp   ┆ daynight ┆ type │\n",
       "│ ---       ┆ ---        ┆ ---        ┆ ---  ┆   ┆ ---        ┆ ---   ┆ ---      ┆ ---  │\n",
       "│ f32       ┆ f32        ┆ f32        ┆ f32  ┆   ┆ f32        ┆ f32   ┆ str      ┆ i16  │\n",
       "╞═══════════╪════════════╪════════════╪══════╪═══╪════════════╪═══════╪══════════╪══════╡\n",
       "│ -1.454696 ┆ 127.433228 ┆ 341.709991 ┆ 0.66 ┆ … ┆ 287.140015 ┆ 9.83  ┆ D        ┆ 3    │\n",
       "│ -3.989202 ┆ 122.100601 ┆ 338.51001  ┆ 0.5  ┆ … ┆ 289.809998 ┆ 4.83  ┆ D        ┆ 0    │\n",
       "│ -2.577868 ┆ 121.379036 ┆ 350.769989 ┆ 0.47 ┆ … ┆ 285.649994 ┆ 35.66 ┆ D        ┆ 2    │\n",
       "└───────────┴────────────┴────────────┴──────┴───┴────────────┴───────┴──────────┴──────┘"
      ]
     },
     "metadata": {},
     "output_type": "display_data"
    },
    {
     "data": {
      "text/html": [
       "<div><style>\n",
       ".dataframe > thead > tr > th,\n",
       ".dataframe > tbody > tr > td {\n",
       "  text-align: right;\n",
       "  white-space: pre-wrap;\n",
       "}\n",
       "</style>\n",
       "<small>shape: (3, 15)</small><table border=\"1\" class=\"dataframe\"><thead><tr><th>latitude</th><th>longitude</th><th>brightness</th><th>scan</th><th>track</th><th>acq_date</th><th>acq_time</th><th>satellite</th><th>instrument</th><th>confidence</th><th>version</th><th>bright_t31</th><th>frp</th><th>daynight</th><th>type</th></tr><tr><td>f32</td><td>f32</td><td>f32</td><td>f32</td><td>f32</td><td>date</td><td>i16</td><td>str</td><td>str</td><td>str</td><td>str</td><td>f32</td><td>f32</td><td>str</td><td>i16</td></tr></thead><tbody><tr><td>-1.255306</td><td>121.606781</td><td>330.970001</td><td>0.53</td><td>0.42</td><td>2022-01-01</td><td>500</td><td>&quot;N&quot;</td><td>&quot;VIIRS&quot;</td><td>&quot;n&quot;</td><td>&quot;1&quot;</td><td>275.369995</td><td>4.03</td><td>&quot;D&quot;</td><td>0</td></tr><tr><td>-3.865005</td><td>136.417984</td><td>332.429993</td><td>0.42</td><td>0.61</td><td>2022-01-01</td><td>500</td><td>&quot;N&quot;</td><td>&quot;VIIRS&quot;</td><td>&quot;n&quot;</td><td>&quot;1&quot;</td><td>283.679993</td><td>2.68</td><td>&quot;D&quot;</td><td>3</td></tr><tr><td>-1.257126</td><td>121.605209</td><td>332.450012</td><td>0.53</td><td>0.42</td><td>2022-01-01</td><td>500</td><td>&quot;N&quot;</td><td>&quot;VIIRS&quot;</td><td>&quot;n&quot;</td><td>&quot;1&quot;</td><td>274.839996</td><td>6.87</td><td>&quot;D&quot;</td><td>0</td></tr></tbody></table></div>"
      ],
      "text/plain": [
       "shape: (3, 15)\n",
       "┌───────────┬────────────┬────────────┬──────┬───┬────────────┬──────┬──────────┬──────┐\n",
       "│ latitude  ┆ longitude  ┆ brightness ┆ scan ┆ … ┆ bright_t31 ┆ frp  ┆ daynight ┆ type │\n",
       "│ ---       ┆ ---        ┆ ---        ┆ ---  ┆   ┆ ---        ┆ ---  ┆ ---      ┆ ---  │\n",
       "│ f32       ┆ f32        ┆ f32        ┆ f32  ┆   ┆ f32        ┆ f32  ┆ str      ┆ i16  │\n",
       "╞═══════════╪════════════╪════════════╪══════╪═══╪════════════╪══════╪══════════╪══════╡\n",
       "│ -1.255306 ┆ 121.606781 ┆ 330.970001 ┆ 0.53 ┆ … ┆ 275.369995 ┆ 4.03 ┆ D        ┆ 0    │\n",
       "│ -3.865005 ┆ 136.417984 ┆ 332.429993 ┆ 0.42 ┆ … ┆ 283.679993 ┆ 2.68 ┆ D        ┆ 3    │\n",
       "│ -1.257126 ┆ 121.605209 ┆ 332.450012 ┆ 0.53 ┆ … ┆ 274.839996 ┆ 6.87 ┆ D        ┆ 0    │\n",
       "└───────────┴────────────┴────────────┴──────┴───┴────────────┴──────┴──────────┴──────┘"
      ]
     },
     "metadata": {},
     "output_type": "display_data"
    },
    {
     "data": {
      "text/html": [
       "<div><style>\n",
       ".dataframe > thead > tr > th,\n",
       ".dataframe > tbody > tr > td {\n",
       "  text-align: right;\n",
       "  white-space: pre-wrap;\n",
       "}\n",
       "</style>\n",
       "<small>shape: (3, 15)</small><table border=\"1\" class=\"dataframe\"><thead><tr><th>latitude</th><th>longitude</th><th>brightness</th><th>scan</th><th>track</th><th>acq_date</th><th>acq_time</th><th>satellite</th><th>instrument</th><th>confidence</th><th>version</th><th>bright_t31</th><th>frp</th><th>daynight</th><th>type</th></tr><tr><td>f32</td><td>f32</td><td>f32</td><td>f32</td><td>f32</td><td>date</td><td>i16</td><td>str</td><td>str</td><td>str</td><td>str</td><td>f32</td><td>f32</td><td>str</td><td>i16</td></tr></thead><tbody><tr><td>0.451</td><td>109.064163</td><td>334.459991</td><td>0.42</td><td>0.38</td><td>2023-01-01</td><td>559</td><td>&quot;N&quot;</td><td>&quot;VIIRS&quot;</td><td>&quot;n&quot;</td><td>&quot;2.0NRT&quot;</td><td>288.339996</td><td>27.040001</td><td>&quot;D&quot;</td><td>null</td></tr><tr><td>-1.32986</td><td>113.404533</td><td>342.429993</td><td>0.41</td><td>0.37</td><td>2023-01-01</td><td>559</td><td>&quot;N&quot;</td><td>&quot;VIIRS&quot;</td><td>&quot;n&quot;</td><td>&quot;2.0NRT&quot;</td><td>279.440002</td><td>7.98</td><td>&quot;D&quot;</td><td>null</td></tr><tr><td>-0.84505</td><td>116.932854</td><td>341.420013</td><td>0.41</td><td>0.45</td><td>2023-01-01</td><td>559</td><td>&quot;N&quot;</td><td>&quot;VIIRS&quot;</td><td>&quot;n&quot;</td><td>&quot;2.0NRT&quot;</td><td>286.100006</td><td>9.12</td><td>&quot;D&quot;</td><td>null</td></tr></tbody></table></div>"
      ],
      "text/plain": [
       "shape: (3, 15)\n",
       "┌──────────┬────────────┬────────────┬──────┬───┬────────────┬───────────┬──────────┬──────┐\n",
       "│ latitude ┆ longitude  ┆ brightness ┆ scan ┆ … ┆ bright_t31 ┆ frp       ┆ daynight ┆ type │\n",
       "│ ---      ┆ ---        ┆ ---        ┆ ---  ┆   ┆ ---        ┆ ---       ┆ ---      ┆ ---  │\n",
       "│ f32      ┆ f32        ┆ f32        ┆ f32  ┆   ┆ f32        ┆ f32       ┆ str      ┆ i16  │\n",
       "╞══════════╪════════════╪════════════╪══════╪═══╪════════════╪═══════════╪══════════╪══════╡\n",
       "│ 0.451    ┆ 109.064163 ┆ 334.459991 ┆ 0.42 ┆ … ┆ 288.339996 ┆ 27.040001 ┆ D        ┆ null │\n",
       "│ -1.32986 ┆ 113.404533 ┆ 342.429993 ┆ 0.41 ┆ … ┆ 279.440002 ┆ 7.98      ┆ D        ┆ null │\n",
       "│ -0.84505 ┆ 116.932854 ┆ 341.420013 ┆ 0.41 ┆ … ┆ 286.100006 ┆ 9.12      ┆ D        ┆ null │\n",
       "└──────────┴────────────┴────────────┴──────┴───┴────────────┴───────────┴──────────┴──────┘"
      ]
     },
     "metadata": {},
     "output_type": "display_data"
    }
   ],
   "source": [
    "hist_2021 = hist_2021.select(\n",
    "    pl.col(\"latitude\").cast(pl.Float32),\n",
    "    pl.col(\"longitude\").cast(pl.Float32),\n",
    "    pl.col(\"brightness\").cast(pl.Float32),\n",
    "    pl.col(\"scan\").cast(pl.Float32),\n",
    "    pl.col(\"track\").cast(pl.Float32),\n",
    "    pl.col(\"acq_date\").str.strptime(pl.Date, \"%m/%d/%Y\"),\n",
    "    pl.col(\"acq_time\").cast(pl.Int16),\n",
    "    pl.col(\"satellite\").cast(pl.Utf8),\n",
    "    pl.col(\"instrument\").cast(pl.Utf8),\n",
    "    pl.col(\"confidence\").cast(pl.Utf8),\n",
    "    pl.col(\"version\").cast(pl.Utf8),\n",
    "    pl.col(\"bright_t31\").cast(pl.Float32),\n",
    "    pl.col(\"frp\").cast(pl.Float32),\n",
    "    pl.col(\"daynight\").cast(pl.Utf8),\n",
    "    pl.col(\"type\").cast(pl.Int16),\n",
    ")\n",
    "\n",
    "hist_2022 = hist_2022.select(\n",
    "    pl.col(\"latitude\").cast(pl.Float32),\n",
    "    pl.col(\"longitude\").cast(pl.Float32),\n",
    "    pl.col(\"brightness\").cast(pl.Float32),\n",
    "    pl.col(\"scan\").cast(pl.Float32),\n",
    "    pl.col(\"track\").cast(pl.Float32),\n",
    "    pl.col(\"acq_date\").str.strptime(pl.Date, \"%Y-%m-%d\"),\n",
    "    pl.col(\"acq_time\").cast(pl.Int16),\n",
    "    pl.col(\"satellite\").cast(pl.Utf8),\n",
    "    pl.col(\"instrument\").cast(pl.Utf8),\n",
    "    pl.col(\"confidence\").cast(pl.Utf8),\n",
    "    pl.col(\"version\").cast(pl.Utf8),\n",
    "    pl.col(\"bright_t31\").cast(pl.Float32),\n",
    "    pl.col(\"frp\").cast(pl.Float32),\n",
    "    pl.col(\"daynight\").cast(pl.Utf8),\n",
    "    pl.col(\"type\").cast(pl.Int16),\n",
    ")\n",
    "\n",
    "hist_2023 = hist_2023.with_columns(\n",
    "    type = pl.lit(None)\n",
    ")\n",
    "\n",
    "hist_2023 = hist_2023.select(\n",
    "    pl.col(\"latitude\").cast(pl.Float32),\n",
    "    pl.col(\"longitude\").cast(pl.Float32),\n",
    "    pl.col(\"brightness\").cast(pl.Float32),\n",
    "    pl.col(\"scan\").cast(pl.Float32),\n",
    "    pl.col(\"track\").cast(pl.Float32),\n",
    "    pl.col(\"acq_date\").str.strptime(pl.Date, \"%m/%d/%Y\"),\n",
    "    pl.col(\"acq_time\").cast(pl.Int16),\n",
    "    pl.col(\"satellite\").cast(pl.Utf8),\n",
    "    pl.col(\"instrument\").cast(pl.Utf8),\n",
    "    pl.col(\"confidence\").cast(pl.Utf8),\n",
    "    pl.col(\"version\").cast(pl.Utf8),\n",
    "    pl.col(\"bright_t31\").cast(pl.Float32),\n",
    "    pl.col(\"frp\").cast(pl.Float32),\n",
    "    pl.col(\"daynight\").cast(pl.Utf8),\n",
    "    pl.col(\"type\").cast(pl.Int16),\n",
    ")\n",
    "\n",
    "display(hist_2021.head(3), hist_2022.head(3), hist_2023.head(3))"
   ]
  },
  {
   "cell_type": "code",
   "execution_count": 12,
   "metadata": {},
   "outputs": [
    {
     "data": {
      "text/html": [
       "<div><style>\n",
       ".dataframe > thead > tr > th,\n",
       ".dataframe > tbody > tr > td {\n",
       "  text-align: right;\n",
       "  white-space: pre-wrap;\n",
       "}\n",
       "</style>\n",
       "<small>shape: (191_172, 15)</small><table border=\"1\" class=\"dataframe\"><thead><tr><th>latitude</th><th>longitude</th><th>brightness</th><th>scan</th><th>track</th><th>acq_date</th><th>acq_time</th><th>satellite</th><th>instrument</th><th>confidence</th><th>version</th><th>bright_t31</th><th>frp</th><th>daynight</th><th>type</th></tr><tr><td>f32</td><td>f32</td><td>f32</td><td>f32</td><td>f32</td><td>date</td><td>i16</td><td>str</td><td>str</td><td>str</td><td>str</td><td>f32</td><td>f32</td><td>str</td><td>i16</td></tr></thead><tbody><tr><td>-1.454696</td><td>127.433228</td><td>341.709991</td><td>0.66</td><td>0.73</td><td>2021-01-01</td><td>400</td><td>&quot;N&quot;</td><td>&quot;VIIRS&quot;</td><td>&quot;n&quot;</td><td>&quot;1&quot;</td><td>287.140015</td><td>9.83</td><td>&quot;D&quot;</td><td>3</td></tr><tr><td>-3.989202</td><td>122.100601</td><td>338.51001</td><td>0.5</td><td>0.49</td><td>2021-01-01</td><td>542</td><td>&quot;N&quot;</td><td>&quot;VIIRS&quot;</td><td>&quot;n&quot;</td><td>&quot;1&quot;</td><td>289.809998</td><td>4.83</td><td>&quot;D&quot;</td><td>0</td></tr><tr><td>-2.577868</td><td>121.379036</td><td>350.769989</td><td>0.47</td><td>0.48</td><td>2021-01-01</td><td>542</td><td>&quot;N&quot;</td><td>&quot;VIIRS&quot;</td><td>&quot;n&quot;</td><td>&quot;1&quot;</td><td>285.649994</td><td>35.66</td><td>&quot;D&quot;</td><td>2</td></tr><tr><td>0.487806</td><td>122.279358</td><td>333.049988</td><td>0.6</td><td>0.53</td><td>2021-01-01</td><td>542</td><td>&quot;N&quot;</td><td>&quot;VIIRS&quot;</td><td>&quot;n&quot;</td><td>&quot;1&quot;</td><td>290.579987</td><td>5.19</td><td>&quot;D&quot;</td><td>0</td></tr><tr><td>-1.373236</td><td>121.310432</td><td>335.929993</td><td>0.48</td><td>0.48</td><td>2021-01-01</td><td>542</td><td>&quot;N&quot;</td><td>&quot;VIIRS&quot;</td><td>&quot;n&quot;</td><td>&quot;1&quot;</td><td>290.649994</td><td>5.3</td><td>&quot;D&quot;</td><td>0</td></tr><tr><td>-6.041213</td><td>105.929779</td><td>333.209991</td><td>0.42</td><td>0.61</td><td>2021-01-01</td><td>542</td><td>&quot;N&quot;</td><td>&quot;VIIRS&quot;</td><td>&quot;n&quot;</td><td>&quot;1&quot;</td><td>286.279999</td><td>4.21</td><td>&quot;D&quot;</td><td>3</td></tr><tr><td>-2.159446</td><td>115.582207</td><td>328.700012</td><td>0.39</td><td>0.36</td><td>2021-01-01</td><td>542</td><td>&quot;N&quot;</td><td>&quot;VIIRS&quot;</td><td>&quot;n&quot;</td><td>&quot;1&quot;</td><td>286.209991</td><td>2.28</td><td>&quot;D&quot;</td><td>2</td></tr><tr><td>-0.923966</td><td>120.00058</td><td>331.200012</td><td>0.4</td><td>0.44</td><td>2021-01-01</td><td>542</td><td>&quot;N&quot;</td><td>&quot;VIIRS&quot;</td><td>&quot;n&quot;</td><td>&quot;1&quot;</td><td>291.390015</td><td>2.58</td><td>&quot;D&quot;</td><td>0</td></tr><tr><td>-2.577709</td><td>121.37899</td><td>345.339996</td><td>0.59</td><td>0.53</td><td>2021-01-01</td><td>1642</td><td>&quot;N&quot;</td><td>&quot;VIIRS&quot;</td><td>&quot;n&quot;</td><td>&quot;1&quot;</td><td>290.700012</td><td>14.06</td><td>&quot;N&quot;</td><td>2</td></tr><tr><td>-2.576063</td><td>121.368759</td><td>310.790009</td><td>0.59</td><td>0.53</td><td>2021-01-01</td><td>1642</td><td>&quot;N&quot;</td><td>&quot;VIIRS&quot;</td><td>&quot;n&quot;</td><td>&quot;1&quot;</td><td>285.809998</td><td>2.49</td><td>&quot;N&quot;</td><td>2</td></tr><tr><td>1.499296</td><td>127.631577</td><td>314.149994</td><td>0.43</td><td>0.38</td><td>2021-01-01</td><td>1642</td><td>&quot;N&quot;</td><td>&quot;VIIRS&quot;</td><td>&quot;n&quot;</td><td>&quot;1&quot;</td><td>290.23999</td><td>1.71</td><td>&quot;N&quot;</td><td>1</td></tr><tr><td>-2.582547</td><td>121.378075</td><td>339.079987</td><td>0.59</td><td>0.53</td><td>2021-01-01</td><td>1642</td><td>&quot;N&quot;</td><td>&quot;VIIRS&quot;</td><td>&quot;n&quot;</td><td>&quot;1&quot;</td><td>287.100006</td><td>10.01</td><td>&quot;N&quot;</td><td>2</td></tr><tr><td>&hellip;</td><td>&hellip;</td><td>&hellip;</td><td>&hellip;</td><td>&hellip;</td><td>&hellip;</td><td>&hellip;</td><td>&hellip;</td><td>&hellip;</td><td>&hellip;</td><td>&hellip;</td><td>&hellip;</td><td>&hellip;</td><td>&hellip;</td><td>&hellip;</td></tr><tr><td>1.6188</td><td>109.245712</td><td>346.720001</td><td>0.38</td><td>0.59</td><td>2023-09-01</td><td>646</td><td>&quot;N&quot;</td><td>&quot;VIIRS&quot;</td><td>&quot;n&quot;</td><td>&quot;2.0NRT&quot;</td><td>290.799988</td><td>32.630001</td><td>&quot;D&quot;</td><td>null</td></tr><tr><td>1.67106</td><td>109.331558</td><td>354.470001</td><td>0.39</td><td>0.59</td><td>2023-09-01</td><td>646</td><td>&quot;N&quot;</td><td>&quot;VIIRS&quot;</td><td>&quot;n&quot;</td><td>&quot;2.0NRT&quot;</td><td>291.820007</td><td>10.82</td><td>&quot;D&quot;</td><td>null</td></tr><tr><td>1.67546</td><td>109.323669</td><td>332.070007</td><td>0.39</td><td>0.59</td><td>2023-09-01</td><td>646</td><td>&quot;N&quot;</td><td>&quot;VIIRS&quot;</td><td>&quot;n&quot;</td><td>&quot;2.0NRT&quot;</td><td>292.700012</td><td>10.03</td><td>&quot;D&quot;</td><td>null</td></tr><tr><td>1.67071</td><td>109.333267</td><td>336.309998</td><td>0.39</td><td>0.59</td><td>2023-09-01</td><td>646</td><td>&quot;N&quot;</td><td>&quot;VIIRS&quot;</td><td>&quot;n&quot;</td><td>&quot;2.0NRT&quot;</td><td>291.399994</td><td>2.44</td><td>&quot;D&quot;</td><td>null</td></tr><tr><td>1.6702</td><td>109.329727</td><td>331.109985</td><td>0.39</td><td>0.59</td><td>2023-09-01</td><td>646</td><td>&quot;N&quot;</td><td>&quot;VIIRS&quot;</td><td>&quot;n&quot;</td><td>&quot;2.0NRT&quot;</td><td>291.279999</td><td>2.44</td><td>&quot;D&quot;</td><td>null</td></tr><tr><td>1.66916</td><td>109.322632</td><td>329.179993</td><td>0.39</td><td>0.59</td><td>2023-09-01</td><td>646</td><td>&quot;N&quot;</td><td>&quot;VIIRS&quot;</td><td>&quot;n&quot;</td><td>&quot;2.0NRT&quot;</td><td>292.700012</td><td>2.97</td><td>&quot;D&quot;</td><td>null</td></tr><tr><td>0.83983</td><td>103.014664</td><td>334.279999</td><td>0.45</td><td>0.39</td><td>2023-09-01</td><td>646</td><td>&quot;N&quot;</td><td>&quot;VIIRS&quot;</td><td>&quot;n&quot;</td><td>&quot;2.0NRT&quot;</td><td>296.779999</td><td>3.58</td><td>&quot;D&quot;</td><td>null</td></tr><tr><td>1.94914</td><td>109.58577</td><td>367.0</td><td>0.41</td><td>0.61</td><td>2023-09-01</td><td>646</td><td>&quot;N&quot;</td><td>&quot;VIIRS&quot;</td><td>&quot;h&quot;</td><td>&quot;2.0NRT&quot;</td><td>291.670013</td><td>28.73</td><td>&quot;D&quot;</td><td>null</td></tr><tr><td>1.94859</td><td>109.582047</td><td>345.779999</td><td>0.41</td><td>0.61</td><td>2023-09-01</td><td>646</td><td>&quot;N&quot;</td><td>&quot;VIIRS&quot;</td><td>&quot;n&quot;</td><td>&quot;2.0NRT&quot;</td><td>288.940002</td><td>12.65</td><td>&quot;D&quot;</td><td>null</td></tr><tr><td>1.95421</td><td>109.581268</td><td>331.720001</td><td>0.41</td><td>0.61</td><td>2023-09-01</td><td>646</td><td>&quot;N&quot;</td><td>&quot;VIIRS&quot;</td><td>&quot;n&quot;</td><td>&quot;2.0NRT&quot;</td><td>287.26001</td><td>12.65</td><td>&quot;D&quot;</td><td>null</td></tr><tr><td>1.95475</td><td>109.584976</td><td>357.0</td><td>0.41</td><td>0.61</td><td>2023-09-01</td><td>646</td><td>&quot;N&quot;</td><td>&quot;VIIRS&quot;</td><td>&quot;l&quot;</td><td>&quot;2.0NRT&quot;</td><td>289.320007</td><td>28.73</td><td>&quot;D&quot;</td><td>null</td></tr><tr><td>1.61386</td><td>109.249969</td><td>367.0</td><td>0.38</td><td>0.59</td><td>2023-09-01</td><td>646</td><td>&quot;N&quot;</td><td>&quot;VIIRS&quot;</td><td>&quot;h&quot;</td><td>&quot;2.0NRT&quot;</td><td>291.600006</td><td>32.630001</td><td>&quot;D&quot;</td><td>null</td></tr></tbody></table></div>"
      ],
      "text/plain": [
       "shape: (191_172, 15)\n",
       "┌───────────┬────────────┬────────────┬──────┬───┬────────────┬───────────┬──────────┬──────┐\n",
       "│ latitude  ┆ longitude  ┆ brightness ┆ scan ┆ … ┆ bright_t31 ┆ frp       ┆ daynight ┆ type │\n",
       "│ ---       ┆ ---        ┆ ---        ┆ ---  ┆   ┆ ---        ┆ ---       ┆ ---      ┆ ---  │\n",
       "│ f32       ┆ f32        ┆ f32        ┆ f32  ┆   ┆ f32        ┆ f32       ┆ str      ┆ i16  │\n",
       "╞═══════════╪════════════╪════════════╪══════╪═══╪════════════╪═══════════╪══════════╪══════╡\n",
       "│ -1.454696 ┆ 127.433228 ┆ 341.709991 ┆ 0.66 ┆ … ┆ 287.140015 ┆ 9.83      ┆ D        ┆ 3    │\n",
       "│ -3.989202 ┆ 122.100601 ┆ 338.51001  ┆ 0.5  ┆ … ┆ 289.809998 ┆ 4.83      ┆ D        ┆ 0    │\n",
       "│ -2.577868 ┆ 121.379036 ┆ 350.769989 ┆ 0.47 ┆ … ┆ 285.649994 ┆ 35.66     ┆ D        ┆ 2    │\n",
       "│ 0.487806  ┆ 122.279358 ┆ 333.049988 ┆ 0.6  ┆ … ┆ 290.579987 ┆ 5.19      ┆ D        ┆ 0    │\n",
       "│ …         ┆ …          ┆ …          ┆ …    ┆ … ┆ …          ┆ …         ┆ …        ┆ …    │\n",
       "│ 1.94859   ┆ 109.582047 ┆ 345.779999 ┆ 0.41 ┆ … ┆ 288.940002 ┆ 12.65     ┆ D        ┆ null │\n",
       "│ 1.95421   ┆ 109.581268 ┆ 331.720001 ┆ 0.41 ┆ … ┆ 287.26001  ┆ 12.65     ┆ D        ┆ null │\n",
       "│ 1.95475   ┆ 109.584976 ┆ 357.0      ┆ 0.41 ┆ … ┆ 289.320007 ┆ 28.73     ┆ D        ┆ null │\n",
       "│ 1.61386   ┆ 109.249969 ┆ 367.0      ┆ 0.38 ┆ … ┆ 291.600006 ┆ 32.630001 ┆ D        ┆ null │\n",
       "└───────────┴────────────┴────────────┴──────┴───┴────────────┴───────────┴──────────┴──────┘"
      ]
     },
     "execution_count": 12,
     "metadata": {},
     "output_type": "execute_result"
    }
   ],
   "source": [
    "concatenated_hist = pl.concat([hist_2021, hist_2022, hist_2023])\n",
    "concatenated_hist = concatenated_hist.sort(\"acq_date\")\n",
    "\n",
    "concatenated_hist"
   ]
  },
  {
   "cell_type": "markdown",
   "metadata": {},
   "source": [
    "Insert into supabase"
   ]
  },
  {
   "cell_type": "code",
   "execution_count": 4,
   "metadata": {},
   "outputs": [
    {
     "data": {
      "text/html": [
       "<div><style>\n",
       ".dataframe > thead > tr > th,\n",
       ".dataframe > tbody > tr > td {\n",
       "  text-align: right;\n",
       "  white-space: pre-wrap;\n",
       "}\n",
       "</style>\n",
       "<small>shape: (5, 16)</small><table border=\"1\" class=\"dataframe\"><thead><tr><th>id</th><th>latitude</th><th>longitude</th><th>brightness</th><th>scan</th><th>track</th><th>acq_date</th><th>acq_time</th><th>satellite</th><th>instrument</th><th>confidence</th><th>version</th><th>bright_t31</th><th>frp</th><th>daynight</th><th>type</th></tr><tr><td>i64</td><td>f64</td><td>f64</td><td>f32</td><td>f32</td><td>f32</td><td>date</td><td>i32</td><td>str</td><td>str</td><td>str</td><td>str</td><td>f32</td><td>f32</td><td>str</td><td>i32</td></tr></thead><tbody><tr><td>1</td><td>-1.454696</td><td>127.433228</td><td>341.709991</td><td>0.66</td><td>0.73</td><td>2021-01-01</td><td>400</td><td>&quot;N&quot;</td><td>&quot;VIIRS&quot;</td><td>&quot;n&quot;</td><td>&quot;1&quot;</td><td>287.140015</td><td>9.83</td><td>&quot;D&quot;</td><td>3</td></tr><tr><td>2</td><td>-3.989202</td><td>122.100601</td><td>338.51001</td><td>0.5</td><td>0.49</td><td>2021-01-01</td><td>542</td><td>&quot;N&quot;</td><td>&quot;VIIRS&quot;</td><td>&quot;n&quot;</td><td>&quot;1&quot;</td><td>289.809998</td><td>4.83</td><td>&quot;D&quot;</td><td>0</td></tr><tr><td>3</td><td>-2.577868</td><td>121.379036</td><td>350.769989</td><td>0.47</td><td>0.48</td><td>2021-01-01</td><td>542</td><td>&quot;N&quot;</td><td>&quot;VIIRS&quot;</td><td>&quot;n&quot;</td><td>&quot;1&quot;</td><td>285.649994</td><td>35.66</td><td>&quot;D&quot;</td><td>2</td></tr><tr><td>4</td><td>0.487806</td><td>122.279358</td><td>333.049988</td><td>0.6</td><td>0.53</td><td>2021-01-01</td><td>542</td><td>&quot;N&quot;</td><td>&quot;VIIRS&quot;</td><td>&quot;n&quot;</td><td>&quot;1&quot;</td><td>290.579987</td><td>5.19</td><td>&quot;D&quot;</td><td>0</td></tr><tr><td>5</td><td>-1.373236</td><td>121.310432</td><td>335.929993</td><td>0.48</td><td>0.48</td><td>2021-01-01</td><td>542</td><td>&quot;N&quot;</td><td>&quot;VIIRS&quot;</td><td>&quot;n&quot;</td><td>&quot;1&quot;</td><td>290.649994</td><td>5.3</td><td>&quot;D&quot;</td><td>0</td></tr></tbody></table></div>"
      ],
      "text/plain": [
       "shape: (5, 16)\n",
       "┌─────┬───────────┬────────────┬────────────┬───┬────────────┬───────┬──────────┬──────┐\n",
       "│ id  ┆ latitude  ┆ longitude  ┆ brightness ┆ … ┆ bright_t31 ┆ frp   ┆ daynight ┆ type │\n",
       "│ --- ┆ ---       ┆ ---        ┆ ---        ┆   ┆ ---        ┆ ---   ┆ ---      ┆ ---  │\n",
       "│ i64 ┆ f64       ┆ f64        ┆ f32        ┆   ┆ f32        ┆ f32   ┆ str      ┆ i32  │\n",
       "╞═════╪═══════════╪════════════╪════════════╪═══╪════════════╪═══════╪══════════╪══════╡\n",
       "│ 1   ┆ -1.454696 ┆ 127.433228 ┆ 341.709991 ┆ … ┆ 287.140015 ┆ 9.83  ┆ D        ┆ 3    │\n",
       "│ 2   ┆ -3.989202 ┆ 122.100601 ┆ 338.51001  ┆ … ┆ 289.809998 ┆ 4.83  ┆ D        ┆ 0    │\n",
       "│ 3   ┆ -2.577868 ┆ 121.379036 ┆ 350.769989 ┆ … ┆ 285.649994 ┆ 35.66 ┆ D        ┆ 2    │\n",
       "│ 4   ┆ 0.487806  ┆ 122.279358 ┆ 333.049988 ┆ … ┆ 290.579987 ┆ 5.19  ┆ D        ┆ 0    │\n",
       "│ 5   ┆ -1.373236 ┆ 121.310432 ┆ 335.929993 ┆ … ┆ 290.649994 ┆ 5.3   ┆ D        ┆ 0    │\n",
       "└─────┴───────────┴────────────┴────────────┴───┴────────────┴───────┴──────────┴──────┘"
      ]
     },
     "execution_count": 4,
     "metadata": {},
     "output_type": "execute_result"
    }
   ],
   "source": [
    "query = \"SELECT * FROM viirs_snpp_raw LIMIT 5\"\n",
    "\n",
    "pl.read_database_uri(query=query, uri=CONNECTION_URI)"
   ]
  },
  {
   "cell_type": "code",
   "execution_count": 7,
   "metadata": {},
   "outputs": [],
   "source": [
    "concatenated_hist.write_database(table_name=\"viirs_snpp_raw\",  connection=CONNECTION_URI, if_exists=\"append\")"
   ]
  },
  {
   "cell_type": "code",
   "execution_count": null,
   "metadata": {},
   "outputs": [],
   "source": []
  },
  {
   "cell_type": "code",
   "execution_count": 39,
   "metadata": {},
   "outputs": [
    {
     "name": "stdout",
     "output_type": "stream",
     "text": [
      "https://firms.modaps.eosdis.nasa.gov/api/country/csv/27c92ae57b057f905cf4c522a4cb7a15/VIIRS_SNPP_NRT/IDN/5/2023-09-01\n"
     ]
    }
   ],
   "source": [
    "import polars as pl\n",
    "import datetime\n",
    "from dotenv import dotenv_values\n",
    "from src.procedures import fetch_viirs_data\n",
    "\n",
    "config = dotenv_values(\"../.env\")\n",
    "host = \"https://firms.modaps.eosdis.nasa.gov/api/country/csv/\"\n",
    "\n",
    "source = \"VIIRS_SNPP_NRT\"\n",
    "country = \"IDN\"\n",
    "token = config.get(\"TOKEN\")\n",
    "today = datetime.date.today()\n",
    "yesterday = str(today - datetime.timedelta(days=3))\n",
    "day_range = \"5\"\n",
    "\n",
    "url = (host + token + \"/\" + source + \"/\" + country + \"/\" + day_range + \"/\" + yesterday)\n",
    "print(url)"
   ]
  },
  {
   "cell_type": "code",
   "execution_count": 40,
   "metadata": {},
   "outputs": [
    {
     "data": {
      "text/html": [
       "<div><style>\n",
       ".dataframe > thead > tr > th,\n",
       ".dataframe > tbody > tr > td {\n",
       "  text-align: right;\n",
       "  white-space: pre-wrap;\n",
       "}\n",
       "</style>\n",
       "<small>shape: (12_734, 15)</small><table border=\"1\" class=\"dataframe\"><thead><tr><th>country_id</th><th>latitude</th><th>longitude</th><th>bright_ti4</th><th>scan</th><th>track</th><th>acq_date</th><th>acq_time</th><th>satellite</th><th>instrument</th><th>confidence</th><th>version</th><th>bright_ti5</th><th>frp</th><th>daynight</th></tr><tr><td>str</td><td>f64</td><td>f64</td><td>f64</td><td>f64</td><td>f64</td><td>str</td><td>i64</td><td>str</td><td>str</td><td>str</td><td>str</td><td>f64</td><td>f64</td><td>str</td></tr></thead><tbody><tr><td>&quot;IDN&quot;</td><td>-8.88108</td><td>140.93845</td><td>335.37</td><td>0.57</td><td>0.69</td><td>&quot;2023-09-01&quot;</td><td>319</td><td>&quot;N&quot;</td><td>&quot;VIIRS&quot;</td><td>&quot;n&quot;</td><td>&quot;2.0NRT&quot;</td><td>279.33</td><td>9.85</td><td>&quot;D&quot;</td></tr><tr><td>&quot;IDN&quot;</td><td>-8.83704</td><td>140.97664</td><td>334.85</td><td>0.57</td><td>0.69</td><td>&quot;2023-09-01&quot;</td><td>319</td><td>&quot;N&quot;</td><td>&quot;VIIRS&quot;</td><td>&quot;n&quot;</td><td>&quot;2.0NRT&quot;</td><td>276.09</td><td>5.88</td><td>&quot;D&quot;</td></tr><tr><td>&quot;IDN&quot;</td><td>-8.28001</td><td>140.48895</td><td>342.38</td><td>0.6</td><td>0.71</td><td>&quot;2023-09-01&quot;</td><td>319</td><td>&quot;N&quot;</td><td>&quot;VIIRS&quot;</td><td>&quot;n&quot;</td><td>&quot;2.0NRT&quot;</td><td>284.38</td><td>8.5</td><td>&quot;D&quot;</td></tr><tr><td>&quot;IDN&quot;</td><td>-8.27633</td><td>140.10927</td><td>331.54</td><td>0.64</td><td>0.72</td><td>&quot;2023-09-01&quot;</td><td>319</td><td>&quot;N&quot;</td><td>&quot;VIIRS&quot;</td><td>&quot;n&quot;</td><td>&quot;2.0NRT&quot;</td><td>288.15</td><td>4.3</td><td>&quot;D&quot;</td></tr><tr><td>&quot;IDN&quot;</td><td>-8.27264</td><td>140.1048</td><td>333.14</td><td>0.64</td><td>0.72</td><td>&quot;2023-09-01&quot;</td><td>319</td><td>&quot;N&quot;</td><td>&quot;VIIRS&quot;</td><td>&quot;n&quot;</td><td>&quot;2.0NRT&quot;</td><td>287.88</td><td>8.83</td><td>&quot;D&quot;</td></tr><tr><td>&quot;IDN&quot;</td><td>-8.27192</td><td>140.11079</td><td>355.05</td><td>0.64</td><td>0.72</td><td>&quot;2023-09-01&quot;</td><td>319</td><td>&quot;N&quot;</td><td>&quot;VIIRS&quot;</td><td>&quot;n&quot;</td><td>&quot;2.0NRT&quot;</td><td>288.0</td><td>15.36</td><td>&quot;D&quot;</td></tr><tr><td>&quot;IDN&quot;</td><td>-8.26958</td><td>140.10846</td><td>346.5</td><td>0.64</td><td>0.72</td><td>&quot;2023-09-01&quot;</td><td>319</td><td>&quot;N&quot;</td><td>&quot;VIIRS&quot;</td><td>&quot;n&quot;</td><td>&quot;2.0NRT&quot;</td><td>286.92</td><td>10.59</td><td>&quot;D&quot;</td></tr><tr><td>&quot;IDN&quot;</td><td>-8.23493</td><td>140.52919</td><td>338.64</td><td>0.6</td><td>0.7</td><td>&quot;2023-09-01&quot;</td><td>319</td><td>&quot;N&quot;</td><td>&quot;VIIRS&quot;</td><td>&quot;n&quot;</td><td>&quot;2.0NRT&quot;</td><td>288.3</td><td>6.66</td><td>&quot;D&quot;</td></tr><tr><td>&quot;IDN&quot;</td><td>-8.22993</td><td>140.52611</td><td>338.89</td><td>0.6</td><td>0.7</td><td>&quot;2023-09-01&quot;</td><td>319</td><td>&quot;N&quot;</td><td>&quot;VIIRS&quot;</td><td>&quot;n&quot;</td><td>&quot;2.0NRT&quot;</td><td>287.98</td><td>4.24</td><td>&quot;D&quot;</td></tr><tr><td>&quot;IDN&quot;</td><td>-8.20294</td><td>140.14912</td><td>328.56</td><td>0.63</td><td>0.72</td><td>&quot;2023-09-01&quot;</td><td>319</td><td>&quot;N&quot;</td><td>&quot;VIIRS&quot;</td><td>&quot;n&quot;</td><td>&quot;2.0NRT&quot;</td><td>289.14</td><td>2.61</td><td>&quot;D&quot;</td></tr><tr><td>&quot;IDN&quot;</td><td>-8.18097</td><td>140.38229</td><td>325.21</td><td>0.61</td><td>0.71</td><td>&quot;2023-09-01&quot;</td><td>319</td><td>&quot;N&quot;</td><td>&quot;VIIRS&quot;</td><td>&quot;n&quot;</td><td>&quot;2.0NRT&quot;</td><td>283.61</td><td>3.75</td><td>&quot;D&quot;</td></tr><tr><td>&quot;IDN&quot;</td><td>-8.08739</td><td>140.29243</td><td>332.39</td><td>0.62</td><td>0.71</td><td>&quot;2023-09-01&quot;</td><td>319</td><td>&quot;N&quot;</td><td>&quot;VIIRS&quot;</td><td>&quot;n&quot;</td><td>&quot;2.0NRT&quot;</td><td>284.66</td><td>3.27</td><td>&quot;D&quot;</td></tr><tr><td>&hellip;</td><td>&hellip;</td><td>&hellip;</td><td>&hellip;</td><td>&hellip;</td><td>&hellip;</td><td>&hellip;</td><td>&hellip;</td><td>&hellip;</td><td>&hellip;</td><td>&hellip;</td><td>&hellip;</td><td>&hellip;</td><td>&hellip;</td><td>&hellip;</td></tr><tr><td>&quot;IDN&quot;</td><td>-2.35497</td><td>102.17925</td><td>357.11</td><td>0.62</td><td>0.71</td><td>&quot;2023-09-04&quot;</td><td>729</td><td>&quot;N&quot;</td><td>&quot;VIIRS&quot;</td><td>&quot;l&quot;</td><td>&quot;2.0NRT&quot;</td><td>289.9</td><td>35.05</td><td>&quot;D&quot;</td></tr><tr><td>&quot;IDN&quot;</td><td>-2.35201</td><td>102.17723</td><td>356.46</td><td>0.62</td><td>0.72</td><td>&quot;2023-09-04&quot;</td><td>729</td><td>&quot;N&quot;</td><td>&quot;VIIRS&quot;</td><td>&quot;l&quot;</td><td>&quot;2.0NRT&quot;</td><td>289.59</td><td>27.23</td><td>&quot;D&quot;</td></tr><tr><td>&quot;IDN&quot;</td><td>-2.32664</td><td>102.01521</td><td>355.88</td><td>0.61</td><td>0.71</td><td>&quot;2023-09-04&quot;</td><td>729</td><td>&quot;N&quot;</td><td>&quot;VIIRS&quot;</td><td>&quot;n&quot;</td><td>&quot;2.0NRT&quot;</td><td>289.43</td><td>13.47</td><td>&quot;D&quot;</td></tr><tr><td>&quot;IDN&quot;</td><td>-2.32509</td><td>102.01249</td><td>335.29</td><td>0.61</td><td>0.71</td><td>&quot;2023-09-04&quot;</td><td>729</td><td>&quot;N&quot;</td><td>&quot;VIIRS&quot;</td><td>&quot;n&quot;</td><td>&quot;2.0NRT&quot;</td><td>288.76</td><td>6.73</td><td>&quot;D&quot;</td></tr><tr><td>&quot;IDN&quot;</td><td>-2.32413</td><td>102.01823</td><td>331.68</td><td>0.61</td><td>0.71</td><td>&quot;2023-09-04&quot;</td><td>729</td><td>&quot;N&quot;</td><td>&quot;VIIRS&quot;</td><td>&quot;n&quot;</td><td>&quot;2.0NRT&quot;</td><td>288.55</td><td>6.73</td><td>&quot;D&quot;</td></tr><tr><td>&quot;IDN&quot;</td><td>-2.25207</td><td>101.02838</td><td>333.06</td><td>0.52</td><td>0.67</td><td>&quot;2023-09-04&quot;</td><td>729</td><td>&quot;N&quot;</td><td>&quot;VIIRS&quot;</td><td>&quot;n&quot;</td><td>&quot;2.0NRT&quot;</td><td>286.78</td><td>6.59</td><td>&quot;D&quot;</td></tr><tr><td>&quot;IDN&quot;</td><td>-2.25043</td><td>101.00996</td><td>355.18</td><td>0.52</td><td>0.67</td><td>&quot;2023-09-04&quot;</td><td>729</td><td>&quot;N&quot;</td><td>&quot;VIIRS&quot;</td><td>&quot;n&quot;</td><td>&quot;2.0NRT&quot;</td><td>288.77</td><td>9.67</td><td>&quot;D&quot;</td></tr><tr><td>&quot;IDN&quot;</td><td>-2.24907</td><td>101.00839</td><td>336.65</td><td>0.52</td><td>0.67</td><td>&quot;2023-09-04&quot;</td><td>729</td><td>&quot;N&quot;</td><td>&quot;VIIRS&quot;</td><td>&quot;n&quot;</td><td>&quot;2.0NRT&quot;</td><td>288.1</td><td>9.07</td><td>&quot;D&quot;</td></tr><tr><td>&quot;IDN&quot;</td><td>-2.24826</td><td>101.01319</td><td>342.48</td><td>0.52</td><td>0.67</td><td>&quot;2023-09-04&quot;</td><td>729</td><td>&quot;N&quot;</td><td>&quot;VIIRS&quot;</td><td>&quot;n&quot;</td><td>&quot;2.0NRT&quot;</td><td>287.79</td><td>15.28</td><td>&quot;D&quot;</td></tr><tr><td>&quot;IDN&quot;</td><td>-2.20556</td><td>103.10767</td><td>340.04</td><td>0.72</td><td>0.76</td><td>&quot;2023-09-04&quot;</td><td>729</td><td>&quot;N&quot;</td><td>&quot;VIIRS&quot;</td><td>&quot;n&quot;</td><td>&quot;2.0NRT&quot;</td><td>290.52</td><td>7.96</td><td>&quot;D&quot;</td></tr><tr><td>&quot;IDN&quot;</td><td>-2.2025</td><td>103.10765</td><td>346.99</td><td>0.72</td><td>0.76</td><td>&quot;2023-09-04&quot;</td><td>729</td><td>&quot;N&quot;</td><td>&quot;VIIRS&quot;</td><td>&quot;n&quot;</td><td>&quot;2.0NRT&quot;</td><td>290.67</td><td>11.97</td><td>&quot;D&quot;</td></tr><tr><td>&quot;IDN&quot;</td><td>-1.98847</td><td>102.20702</td><td>333.71</td><td>0.63</td><td>0.72</td><td>&quot;2023-09-04&quot;</td><td>729</td><td>&quot;N&quot;</td><td>&quot;VIIRS&quot;</td><td>&quot;n&quot;</td><td>&quot;2.0NRT&quot;</td><td>286.27</td><td>6.77</td><td>&quot;D&quot;</td></tr></tbody></table></div>"
      ],
      "text/plain": [
       "shape: (12_734, 15)\n",
       "┌────────────┬──────────┬───────────┬────────────┬───┬─────────┬────────────┬───────┬──────────┐\n",
       "│ country_id ┆ latitude ┆ longitude ┆ bright_ti4 ┆ … ┆ version ┆ bright_ti5 ┆ frp   ┆ daynight │\n",
       "│ ---        ┆ ---      ┆ ---       ┆ ---        ┆   ┆ ---     ┆ ---        ┆ ---   ┆ ---      │\n",
       "│ str        ┆ f64      ┆ f64       ┆ f64        ┆   ┆ str     ┆ f64        ┆ f64   ┆ str      │\n",
       "╞════════════╪══════════╪═══════════╪════════════╪═══╪═════════╪════════════╪═══════╪══════════╡\n",
       "│ IDN        ┆ -8.88108 ┆ 140.93845 ┆ 335.37     ┆ … ┆ 2.0NRT  ┆ 279.33     ┆ 9.85  ┆ D        │\n",
       "│ IDN        ┆ -8.83704 ┆ 140.97664 ┆ 334.85     ┆ … ┆ 2.0NRT  ┆ 276.09     ┆ 5.88  ┆ D        │\n",
       "│ IDN        ┆ -8.28001 ┆ 140.48895 ┆ 342.38     ┆ … ┆ 2.0NRT  ┆ 284.38     ┆ 8.5   ┆ D        │\n",
       "│ IDN        ┆ -8.27633 ┆ 140.10927 ┆ 331.54     ┆ … ┆ 2.0NRT  ┆ 288.15     ┆ 4.3   ┆ D        │\n",
       "│ …          ┆ …        ┆ …         ┆ …          ┆ … ┆ …       ┆ …          ┆ …     ┆ …        │\n",
       "│ IDN        ┆ -2.24826 ┆ 101.01319 ┆ 342.48     ┆ … ┆ 2.0NRT  ┆ 287.79     ┆ 15.28 ┆ D        │\n",
       "│ IDN        ┆ -2.20556 ┆ 103.10767 ┆ 340.04     ┆ … ┆ 2.0NRT  ┆ 290.52     ┆ 7.96  ┆ D        │\n",
       "│ IDN        ┆ -2.2025  ┆ 103.10765 ┆ 346.99     ┆ … ┆ 2.0NRT  ┆ 290.67     ┆ 11.97 ┆ D        │\n",
       "│ IDN        ┆ -1.98847 ┆ 102.20702 ┆ 333.71     ┆ … ┆ 2.0NRT  ┆ 286.27     ┆ 6.77  ┆ D        │\n",
       "└────────────┴──────────┴───────────┴────────────┴───┴─────────┴────────────┴───────┴──────────┘"
      ]
     },
     "execution_count": 40,
     "metadata": {},
     "output_type": "execute_result"
    }
   ],
   "source": [
    "viirs_df = pl.read_csv(url)\n",
    "viirs_df"
   ]
  },
  {
   "cell_type": "code",
   "execution_count": 41,
   "metadata": {},
   "outputs": [
    {
     "data": {
      "text/html": [
       "<div><style>\n",
       ".dataframe > thead > tr > th,\n",
       ".dataframe > tbody > tr > td {\n",
       "  text-align: right;\n",
       "  white-space: pre-wrap;\n",
       "}\n",
       "</style>\n",
       "<small>shape: (10_718, 16)</small><table border=\"1\" class=\"dataframe\"><thead><tr><th>id</th><th>latitude</th><th>longitude</th><th>brightness</th><th>scan</th><th>track</th><th>acq_date</th><th>acq_time</th><th>satellite</th><th>instrument</th><th>confidence</th><th>version</th><th>bright_t31</th><th>frp</th><th>daynight</th><th>type</th></tr><tr><td>i64</td><td>f64</td><td>f64</td><td>f32</td><td>f32</td><td>f32</td><td>date</td><td>i32</td><td>str</td><td>str</td><td>str</td><td>str</td><td>f32</td><td>f32</td><td>str</td><td>i32</td></tr></thead><tbody><tr><td>180455</td><td>-7.89885</td><td>138.110214</td><td>340.609985</td><td>0.39</td><td>0.36</td><td>2023-08-29</td><td>417</td><td>&quot;N&quot;</td><td>&quot;VIIRS&quot;</td><td>&quot;n&quot;</td><td>&quot;2.0NRT&quot;</td><td>287.01001</td><td>4.58</td><td>&quot;D&quot;</td><td>null</td></tr><tr><td>180456</td><td>-7.31802</td><td>140.307175</td><td>333.279999</td><td>0.41</td><td>0.37</td><td>2023-08-29</td><td>417</td><td>&quot;N&quot;</td><td>&quot;VIIRS&quot;</td><td>&quot;n&quot;</td><td>&quot;2.0NRT&quot;</td><td>291.649994</td><td>2.5</td><td>&quot;D&quot;</td><td>null</td></tr><tr><td>180457</td><td>-7.41384</td><td>138.525955</td><td>330.459991</td><td>0.38</td><td>0.36</td><td>2023-08-29</td><td>417</td><td>&quot;N&quot;</td><td>&quot;VIIRS&quot;</td><td>&quot;n&quot;</td><td>&quot;2.0NRT&quot;</td><td>291.880005</td><td>1.96</td><td>&quot;D&quot;</td><td>null</td></tr><tr><td>180458</td><td>-9.27378</td><td>124.740433</td><td>347.790009</td><td>0.78</td><td>0.78</td><td>2023-08-29</td><td>417</td><td>&quot;N&quot;</td><td>&quot;VIIRS&quot;</td><td>&quot;n&quot;</td><td>&quot;2.0NRT&quot;</td><td>294.630005</td><td>8.18</td><td>&quot;D&quot;</td><td>null</td></tr><tr><td>180459</td><td>-9.2499</td><td>124.880913</td><td>332.640015</td><td>0.76</td><td>0.77</td><td>2023-08-29</td><td>417</td><td>&quot;N&quot;</td><td>&quot;VIIRS&quot;</td><td>&quot;n&quot;</td><td>&quot;2.0NRT&quot;</td><td>295.019989</td><td>2.54</td><td>&quot;D&quot;</td><td>null</td></tr><tr><td>180460</td><td>-9.24275</td><td>124.879478</td><td>345.070007</td><td>0.76</td><td>0.77</td><td>2023-08-29</td><td>417</td><td>&quot;N&quot;</td><td>&quot;VIIRS&quot;</td><td>&quot;n&quot;</td><td>&quot;2.0NRT&quot;</td><td>295.540009</td><td>8.53</td><td>&quot;D&quot;</td><td>null</td></tr><tr><td>180461</td><td>-9.06362</td><td>125.146606</td><td>331.209991</td><td>0.73</td><td>0.76</td><td>2023-08-29</td><td>417</td><td>&quot;N&quot;</td><td>&quot;VIIRS&quot;</td><td>&quot;n&quot;</td><td>&quot;2.0NRT&quot;</td><td>296.059998</td><td>9.9</td><td>&quot;D&quot;</td><td>null</td></tr><tr><td>180462</td><td>-9.06429</td><td>125.140846</td><td>356.119995</td><td>0.73</td><td>0.76</td><td>2023-08-29</td><td>417</td><td>&quot;N&quot;</td><td>&quot;VIIRS&quot;</td><td>&quot;n&quot;</td><td>&quot;2.0NRT&quot;</td><td>296.309998</td><td>9.9</td><td>&quot;D&quot;</td><td>null</td></tr><tr><td>180463</td><td>-9.06626</td><td>125.146294</td><td>344.410004</td><td>0.73</td><td>0.76</td><td>2023-08-29</td><td>417</td><td>&quot;N&quot;</td><td>&quot;VIIRS&quot;</td><td>&quot;n&quot;</td><td>&quot;2.0NRT&quot;</td><td>296.119995</td><td>14.81</td><td>&quot;D&quot;</td><td>null</td></tr><tr><td>180464</td><td>-9.06697</td><td>125.140511</td><td>346.029999</td><td>0.73</td><td>0.76</td><td>2023-08-29</td><td>417</td><td>&quot;N&quot;</td><td>&quot;VIIRS&quot;</td><td>&quot;n&quot;</td><td>&quot;2.0NRT&quot;</td><td>295.359985</td><td>10.02</td><td>&quot;D&quot;</td><td>null</td></tr><tr><td>180465</td><td>-8.21704</td><td>130.952026</td><td>337.950012</td><td>0.58</td><td>0.52</td><td>2023-08-29</td><td>417</td><td>&quot;N&quot;</td><td>&quot;VIIRS&quot;</td><td>&quot;n&quot;</td><td>&quot;2.0NRT&quot;</td><td>298.25</td><td>7.71</td><td>&quot;D&quot;</td><td>null</td></tr><tr><td>180466</td><td>-8.21913</td><td>130.949814</td><td>333.23999</td><td>0.58</td><td>0.52</td><td>2023-08-29</td><td>417</td><td>&quot;N&quot;</td><td>&quot;VIIRS&quot;</td><td>&quot;n&quot;</td><td>&quot;2.0NRT&quot;</td><td>297.859985</td><td>7.73</td><td>&quot;D&quot;</td><td>null</td></tr><tr><td>&hellip;</td><td>&hellip;</td><td>&hellip;</td><td>&hellip;</td><td>&hellip;</td><td>&hellip;</td><td>&hellip;</td><td>&hellip;</td><td>&hellip;</td><td>&hellip;</td><td>&hellip;</td><td>&hellip;</td><td>&hellip;</td><td>&hellip;</td><td>&hellip;</td><td>&hellip;</td></tr><tr><td>191161</td><td>1.6188</td><td>109.245712</td><td>346.720001</td><td>0.38</td><td>0.59</td><td>2023-09-01</td><td>646</td><td>&quot;N&quot;</td><td>&quot;VIIRS&quot;</td><td>&quot;n&quot;</td><td>&quot;2.0NRT&quot;</td><td>290.799988</td><td>32.630001</td><td>&quot;D&quot;</td><td>null</td></tr><tr><td>191162</td><td>1.67106</td><td>109.331558</td><td>354.470001</td><td>0.39</td><td>0.59</td><td>2023-09-01</td><td>646</td><td>&quot;N&quot;</td><td>&quot;VIIRS&quot;</td><td>&quot;n&quot;</td><td>&quot;2.0NRT&quot;</td><td>291.820007</td><td>10.82</td><td>&quot;D&quot;</td><td>null</td></tr><tr><td>191163</td><td>1.67546</td><td>109.323669</td><td>332.070007</td><td>0.39</td><td>0.59</td><td>2023-09-01</td><td>646</td><td>&quot;N&quot;</td><td>&quot;VIIRS&quot;</td><td>&quot;n&quot;</td><td>&quot;2.0NRT&quot;</td><td>292.700012</td><td>10.03</td><td>&quot;D&quot;</td><td>null</td></tr><tr><td>191164</td><td>1.67071</td><td>109.333267</td><td>336.309998</td><td>0.39</td><td>0.59</td><td>2023-09-01</td><td>646</td><td>&quot;N&quot;</td><td>&quot;VIIRS&quot;</td><td>&quot;n&quot;</td><td>&quot;2.0NRT&quot;</td><td>291.399994</td><td>2.44</td><td>&quot;D&quot;</td><td>null</td></tr><tr><td>191165</td><td>1.6702</td><td>109.329727</td><td>331.109985</td><td>0.39</td><td>0.59</td><td>2023-09-01</td><td>646</td><td>&quot;N&quot;</td><td>&quot;VIIRS&quot;</td><td>&quot;n&quot;</td><td>&quot;2.0NRT&quot;</td><td>291.279999</td><td>2.44</td><td>&quot;D&quot;</td><td>null</td></tr><tr><td>191166</td><td>1.66916</td><td>109.322632</td><td>329.179993</td><td>0.39</td><td>0.59</td><td>2023-09-01</td><td>646</td><td>&quot;N&quot;</td><td>&quot;VIIRS&quot;</td><td>&quot;n&quot;</td><td>&quot;2.0NRT&quot;</td><td>292.700012</td><td>2.97</td><td>&quot;D&quot;</td><td>null</td></tr><tr><td>191167</td><td>0.83983</td><td>103.014664</td><td>334.279999</td><td>0.45</td><td>0.39</td><td>2023-09-01</td><td>646</td><td>&quot;N&quot;</td><td>&quot;VIIRS&quot;</td><td>&quot;n&quot;</td><td>&quot;2.0NRT&quot;</td><td>296.779999</td><td>3.58</td><td>&quot;D&quot;</td><td>null</td></tr><tr><td>191168</td><td>1.94914</td><td>109.58577</td><td>367.0</td><td>0.41</td><td>0.61</td><td>2023-09-01</td><td>646</td><td>&quot;N&quot;</td><td>&quot;VIIRS&quot;</td><td>&quot;h&quot;</td><td>&quot;2.0NRT&quot;</td><td>291.670013</td><td>28.73</td><td>&quot;D&quot;</td><td>null</td></tr><tr><td>191169</td><td>1.94859</td><td>109.582047</td><td>345.779999</td><td>0.41</td><td>0.61</td><td>2023-09-01</td><td>646</td><td>&quot;N&quot;</td><td>&quot;VIIRS&quot;</td><td>&quot;n&quot;</td><td>&quot;2.0NRT&quot;</td><td>288.940002</td><td>12.65</td><td>&quot;D&quot;</td><td>null</td></tr><tr><td>191170</td><td>1.95421</td><td>109.581268</td><td>331.720001</td><td>0.41</td><td>0.61</td><td>2023-09-01</td><td>646</td><td>&quot;N&quot;</td><td>&quot;VIIRS&quot;</td><td>&quot;n&quot;</td><td>&quot;2.0NRT&quot;</td><td>287.26001</td><td>12.65</td><td>&quot;D&quot;</td><td>null</td></tr><tr><td>191171</td><td>1.95475</td><td>109.584976</td><td>357.0</td><td>0.41</td><td>0.61</td><td>2023-09-01</td><td>646</td><td>&quot;N&quot;</td><td>&quot;VIIRS&quot;</td><td>&quot;l&quot;</td><td>&quot;2.0NRT&quot;</td><td>289.320007</td><td>28.73</td><td>&quot;D&quot;</td><td>null</td></tr><tr><td>191172</td><td>1.61386</td><td>109.249969</td><td>367.0</td><td>0.38</td><td>0.59</td><td>2023-09-01</td><td>646</td><td>&quot;N&quot;</td><td>&quot;VIIRS&quot;</td><td>&quot;h&quot;</td><td>&quot;2.0NRT&quot;</td><td>291.600006</td><td>32.630001</td><td>&quot;D&quot;</td><td>null</td></tr></tbody></table></div>"
      ],
      "text/plain": [
       "shape: (10_718, 16)\n",
       "┌────────┬──────────┬────────────┬────────────┬───┬────────────┬───────────┬──────────┬──────┐\n",
       "│ id     ┆ latitude ┆ longitude  ┆ brightness ┆ … ┆ bright_t31 ┆ frp       ┆ daynight ┆ type │\n",
       "│ ---    ┆ ---      ┆ ---        ┆ ---        ┆   ┆ ---        ┆ ---       ┆ ---      ┆ ---  │\n",
       "│ i64    ┆ f64      ┆ f64        ┆ f32        ┆   ┆ f32        ┆ f32       ┆ str      ┆ i32  │\n",
       "╞════════╪══════════╪════════════╪════════════╪═══╪════════════╪═══════════╪══════════╪══════╡\n",
       "│ 180455 ┆ -7.89885 ┆ 138.110214 ┆ 340.609985 ┆ … ┆ 287.01001  ┆ 4.58      ┆ D        ┆ null │\n",
       "│ 180456 ┆ -7.31802 ┆ 140.307175 ┆ 333.279999 ┆ … ┆ 291.649994 ┆ 2.5       ┆ D        ┆ null │\n",
       "│ 180457 ┆ -7.41384 ┆ 138.525955 ┆ 330.459991 ┆ … ┆ 291.880005 ┆ 1.96      ┆ D        ┆ null │\n",
       "│ 180458 ┆ -9.27378 ┆ 124.740433 ┆ 347.790009 ┆ … ┆ 294.630005 ┆ 8.18      ┆ D        ┆ null │\n",
       "│ …      ┆ …        ┆ …          ┆ …          ┆ … ┆ …          ┆ …         ┆ …        ┆ …    │\n",
       "│ 191169 ┆ 1.94859  ┆ 109.582047 ┆ 345.779999 ┆ … ┆ 288.940002 ┆ 12.65     ┆ D        ┆ null │\n",
       "│ 191170 ┆ 1.95421  ┆ 109.581268 ┆ 331.720001 ┆ … ┆ 287.26001  ┆ 12.65     ┆ D        ┆ null │\n",
       "│ 191171 ┆ 1.95475  ┆ 109.584976 ┆ 357.0      ┆ … ┆ 289.320007 ┆ 28.73     ┆ D        ┆ null │\n",
       "│ 191172 ┆ 1.61386  ┆ 109.249969 ┆ 367.0      ┆ … ┆ 291.600006 ┆ 32.630001 ┆ D        ┆ null │\n",
       "└────────┴──────────┴────────────┴────────────┴───┴────────────┴───────────┴──────────┴──────┘"
      ]
     },
     "execution_count": 41,
     "metadata": {},
     "output_type": "execute_result"
    }
   ],
   "source": [
    "CONNECTION_URI = config.get(\"CONNECTION_URI\")\n",
    "\n",
    "query = \"\"\"\n",
    "    SELECT * \n",
    "    FROM viirs_snpp_raw \n",
    "    WHERE acq_date > CURRENT_DATE - INTERVAL '7 day'\"\"\"\n",
    "\n",
    "last_data = pl.read_database_uri(query=query, uri=CONNECTION_URI)\n",
    "last_data"
   ]
  },
  {
   "cell_type": "code",
   "execution_count": 42,
   "metadata": {},
   "outputs": [
    {
     "data": {
      "text/html": [
       "<div><style>\n",
       ".dataframe > thead > tr > th,\n",
       ".dataframe > tbody > tr > td {\n",
       "  text-align: right;\n",
       "  white-space: pre-wrap;\n",
       "}\n",
       "</style>\n",
       "<small>shape: (12_734, 15)</small><table border=\"1\" class=\"dataframe\"><thead><tr><th>latitude</th><th>longitude</th><th>brightness</th><th>scan</th><th>track</th><th>acq_date</th><th>acq_time</th><th>satellite</th><th>instrument</th><th>confidence</th><th>version</th><th>bright_t31</th><th>frp</th><th>daynight</th><th>type</th></tr><tr><td>f64</td><td>f64</td><td>f32</td><td>f32</td><td>f32</td><td>date</td><td>i32</td><td>str</td><td>str</td><td>str</td><td>str</td><td>f32</td><td>f32</td><td>str</td><td>i32</td></tr></thead><tbody><tr><td>-8.88108</td><td>140.93845</td><td>335.369995</td><td>0.57</td><td>0.69</td><td>2023-09-01</td><td>319</td><td>&quot;N&quot;</td><td>&quot;VIIRS&quot;</td><td>&quot;n&quot;</td><td>&quot;2.0NRT&quot;</td><td>279.329987</td><td>9.85</td><td>&quot;D&quot;</td><td>null</td></tr><tr><td>-8.83704</td><td>140.97664</td><td>334.850006</td><td>0.57</td><td>0.69</td><td>2023-09-01</td><td>319</td><td>&quot;N&quot;</td><td>&quot;VIIRS&quot;</td><td>&quot;n&quot;</td><td>&quot;2.0NRT&quot;</td><td>276.089996</td><td>5.88</td><td>&quot;D&quot;</td><td>null</td></tr><tr><td>-8.28001</td><td>140.48895</td><td>342.380005</td><td>0.6</td><td>0.71</td><td>2023-09-01</td><td>319</td><td>&quot;N&quot;</td><td>&quot;VIIRS&quot;</td><td>&quot;n&quot;</td><td>&quot;2.0NRT&quot;</td><td>284.380005</td><td>8.5</td><td>&quot;D&quot;</td><td>null</td></tr><tr><td>-8.27633</td><td>140.10927</td><td>331.540009</td><td>0.64</td><td>0.72</td><td>2023-09-01</td><td>319</td><td>&quot;N&quot;</td><td>&quot;VIIRS&quot;</td><td>&quot;n&quot;</td><td>&quot;2.0NRT&quot;</td><td>288.149994</td><td>4.3</td><td>&quot;D&quot;</td><td>null</td></tr><tr><td>-8.27264</td><td>140.1048</td><td>333.140015</td><td>0.64</td><td>0.72</td><td>2023-09-01</td><td>319</td><td>&quot;N&quot;</td><td>&quot;VIIRS&quot;</td><td>&quot;n&quot;</td><td>&quot;2.0NRT&quot;</td><td>287.880005</td><td>8.83</td><td>&quot;D&quot;</td><td>null</td></tr><tr><td>-8.27192</td><td>140.11079</td><td>355.049988</td><td>0.64</td><td>0.72</td><td>2023-09-01</td><td>319</td><td>&quot;N&quot;</td><td>&quot;VIIRS&quot;</td><td>&quot;n&quot;</td><td>&quot;2.0NRT&quot;</td><td>288.0</td><td>15.36</td><td>&quot;D&quot;</td><td>null</td></tr><tr><td>-8.26958</td><td>140.10846</td><td>346.5</td><td>0.64</td><td>0.72</td><td>2023-09-01</td><td>319</td><td>&quot;N&quot;</td><td>&quot;VIIRS&quot;</td><td>&quot;n&quot;</td><td>&quot;2.0NRT&quot;</td><td>286.920013</td><td>10.59</td><td>&quot;D&quot;</td><td>null</td></tr><tr><td>-8.23493</td><td>140.52919</td><td>338.640015</td><td>0.6</td><td>0.7</td><td>2023-09-01</td><td>319</td><td>&quot;N&quot;</td><td>&quot;VIIRS&quot;</td><td>&quot;n&quot;</td><td>&quot;2.0NRT&quot;</td><td>288.299988</td><td>6.66</td><td>&quot;D&quot;</td><td>null</td></tr><tr><td>-8.22993</td><td>140.52611</td><td>338.890015</td><td>0.6</td><td>0.7</td><td>2023-09-01</td><td>319</td><td>&quot;N&quot;</td><td>&quot;VIIRS&quot;</td><td>&quot;n&quot;</td><td>&quot;2.0NRT&quot;</td><td>287.980011</td><td>4.24</td><td>&quot;D&quot;</td><td>null</td></tr><tr><td>-8.20294</td><td>140.14912</td><td>328.559998</td><td>0.63</td><td>0.72</td><td>2023-09-01</td><td>319</td><td>&quot;N&quot;</td><td>&quot;VIIRS&quot;</td><td>&quot;n&quot;</td><td>&quot;2.0NRT&quot;</td><td>289.140015</td><td>2.61</td><td>&quot;D&quot;</td><td>null</td></tr><tr><td>-8.18097</td><td>140.38229</td><td>325.209991</td><td>0.61</td><td>0.71</td><td>2023-09-01</td><td>319</td><td>&quot;N&quot;</td><td>&quot;VIIRS&quot;</td><td>&quot;n&quot;</td><td>&quot;2.0NRT&quot;</td><td>283.609985</td><td>3.75</td><td>&quot;D&quot;</td><td>null</td></tr><tr><td>-8.08739</td><td>140.29243</td><td>332.390015</td><td>0.62</td><td>0.71</td><td>2023-09-01</td><td>319</td><td>&quot;N&quot;</td><td>&quot;VIIRS&quot;</td><td>&quot;n&quot;</td><td>&quot;2.0NRT&quot;</td><td>284.660004</td><td>3.27</td><td>&quot;D&quot;</td><td>null</td></tr><tr><td>&hellip;</td><td>&hellip;</td><td>&hellip;</td><td>&hellip;</td><td>&hellip;</td><td>&hellip;</td><td>&hellip;</td><td>&hellip;</td><td>&hellip;</td><td>&hellip;</td><td>&hellip;</td><td>&hellip;</td><td>&hellip;</td><td>&hellip;</td><td>&hellip;</td></tr><tr><td>-2.35497</td><td>102.17925</td><td>357.109985</td><td>0.62</td><td>0.71</td><td>2023-09-04</td><td>729</td><td>&quot;N&quot;</td><td>&quot;VIIRS&quot;</td><td>&quot;l&quot;</td><td>&quot;2.0NRT&quot;</td><td>289.899994</td><td>35.049999</td><td>&quot;D&quot;</td><td>null</td></tr><tr><td>-2.35201</td><td>102.17723</td><td>356.459991</td><td>0.62</td><td>0.72</td><td>2023-09-04</td><td>729</td><td>&quot;N&quot;</td><td>&quot;VIIRS&quot;</td><td>&quot;l&quot;</td><td>&quot;2.0NRT&quot;</td><td>289.589996</td><td>27.23</td><td>&quot;D&quot;</td><td>null</td></tr><tr><td>-2.32664</td><td>102.01521</td><td>355.880005</td><td>0.61</td><td>0.71</td><td>2023-09-04</td><td>729</td><td>&quot;N&quot;</td><td>&quot;VIIRS&quot;</td><td>&quot;n&quot;</td><td>&quot;2.0NRT&quot;</td><td>289.429993</td><td>13.47</td><td>&quot;D&quot;</td><td>null</td></tr><tr><td>-2.32509</td><td>102.01249</td><td>335.290009</td><td>0.61</td><td>0.71</td><td>2023-09-04</td><td>729</td><td>&quot;N&quot;</td><td>&quot;VIIRS&quot;</td><td>&quot;n&quot;</td><td>&quot;2.0NRT&quot;</td><td>288.76001</td><td>6.73</td><td>&quot;D&quot;</td><td>null</td></tr><tr><td>-2.32413</td><td>102.01823</td><td>331.679993</td><td>0.61</td><td>0.71</td><td>2023-09-04</td><td>729</td><td>&quot;N&quot;</td><td>&quot;VIIRS&quot;</td><td>&quot;n&quot;</td><td>&quot;2.0NRT&quot;</td><td>288.549988</td><td>6.73</td><td>&quot;D&quot;</td><td>null</td></tr><tr><td>-2.25207</td><td>101.02838</td><td>333.059998</td><td>0.52</td><td>0.67</td><td>2023-09-04</td><td>729</td><td>&quot;N&quot;</td><td>&quot;VIIRS&quot;</td><td>&quot;n&quot;</td><td>&quot;2.0NRT&quot;</td><td>286.779999</td><td>6.59</td><td>&quot;D&quot;</td><td>null</td></tr><tr><td>-2.25043</td><td>101.00996</td><td>355.179993</td><td>0.52</td><td>0.67</td><td>2023-09-04</td><td>729</td><td>&quot;N&quot;</td><td>&quot;VIIRS&quot;</td><td>&quot;n&quot;</td><td>&quot;2.0NRT&quot;</td><td>288.769989</td><td>9.67</td><td>&quot;D&quot;</td><td>null</td></tr><tr><td>-2.24907</td><td>101.00839</td><td>336.649994</td><td>0.52</td><td>0.67</td><td>2023-09-04</td><td>729</td><td>&quot;N&quot;</td><td>&quot;VIIRS&quot;</td><td>&quot;n&quot;</td><td>&quot;2.0NRT&quot;</td><td>288.100006</td><td>9.07</td><td>&quot;D&quot;</td><td>null</td></tr><tr><td>-2.24826</td><td>101.01319</td><td>342.480011</td><td>0.52</td><td>0.67</td><td>2023-09-04</td><td>729</td><td>&quot;N&quot;</td><td>&quot;VIIRS&quot;</td><td>&quot;n&quot;</td><td>&quot;2.0NRT&quot;</td><td>287.790009</td><td>15.28</td><td>&quot;D&quot;</td><td>null</td></tr><tr><td>-2.20556</td><td>103.10767</td><td>340.040009</td><td>0.72</td><td>0.76</td><td>2023-09-04</td><td>729</td><td>&quot;N&quot;</td><td>&quot;VIIRS&quot;</td><td>&quot;n&quot;</td><td>&quot;2.0NRT&quot;</td><td>290.519989</td><td>7.96</td><td>&quot;D&quot;</td><td>null</td></tr><tr><td>-2.2025</td><td>103.10765</td><td>346.98999</td><td>0.72</td><td>0.76</td><td>2023-09-04</td><td>729</td><td>&quot;N&quot;</td><td>&quot;VIIRS&quot;</td><td>&quot;n&quot;</td><td>&quot;2.0NRT&quot;</td><td>290.670013</td><td>11.97</td><td>&quot;D&quot;</td><td>null</td></tr><tr><td>-1.98847</td><td>102.20702</td><td>333.709991</td><td>0.63</td><td>0.72</td><td>2023-09-04</td><td>729</td><td>&quot;N&quot;</td><td>&quot;VIIRS&quot;</td><td>&quot;n&quot;</td><td>&quot;2.0NRT&quot;</td><td>286.269989</td><td>6.77</td><td>&quot;D&quot;</td><td>null</td></tr></tbody></table></div>"
      ],
      "text/plain": [
       "shape: (12_734, 15)\n",
       "┌──────────┬───────────┬────────────┬──────┬───┬────────────┬───────┬──────────┬──────┐\n",
       "│ latitude ┆ longitude ┆ brightness ┆ scan ┆ … ┆ bright_t31 ┆ frp   ┆ daynight ┆ type │\n",
       "│ ---      ┆ ---       ┆ ---        ┆ ---  ┆   ┆ ---        ┆ ---   ┆ ---      ┆ ---  │\n",
       "│ f64      ┆ f64       ┆ f32        ┆ f32  ┆   ┆ f32        ┆ f32   ┆ str      ┆ i32  │\n",
       "╞══════════╪═══════════╪════════════╪══════╪═══╪════════════╪═══════╪══════════╪══════╡\n",
       "│ -8.88108 ┆ 140.93845 ┆ 335.369995 ┆ 0.57 ┆ … ┆ 279.329987 ┆ 9.85  ┆ D        ┆ null │\n",
       "│ -8.83704 ┆ 140.97664 ┆ 334.850006 ┆ 0.57 ┆ … ┆ 276.089996 ┆ 5.88  ┆ D        ┆ null │\n",
       "│ -8.28001 ┆ 140.48895 ┆ 342.380005 ┆ 0.6  ┆ … ┆ 284.380005 ┆ 8.5   ┆ D        ┆ null │\n",
       "│ -8.27633 ┆ 140.10927 ┆ 331.540009 ┆ 0.64 ┆ … ┆ 288.149994 ┆ 4.3   ┆ D        ┆ null │\n",
       "│ …        ┆ …         ┆ …          ┆ …    ┆ … ┆ …          ┆ …     ┆ …        ┆ …    │\n",
       "│ -2.24826 ┆ 101.01319 ┆ 342.480011 ┆ 0.52 ┆ … ┆ 287.790009 ┆ 15.28 ┆ D        ┆ null │\n",
       "│ -2.20556 ┆ 103.10767 ┆ 340.040009 ┆ 0.72 ┆ … ┆ 290.519989 ┆ 7.96  ┆ D        ┆ null │\n",
       "│ -2.2025  ┆ 103.10765 ┆ 346.98999  ┆ 0.72 ┆ … ┆ 290.670013 ┆ 11.97 ┆ D        ┆ null │\n",
       "│ -1.98847 ┆ 102.20702 ┆ 333.709991 ┆ 0.63 ┆ … ┆ 286.269989 ┆ 6.77  ┆ D        ┆ null │\n",
       "└──────────┴───────────┴────────────┴──────┴───┴────────────┴───────┴──────────┴──────┘"
      ]
     },
     "execution_count": 42,
     "metadata": {},
     "output_type": "execute_result"
    }
   ],
   "source": [
    "last_data = last_data.drop([\"id\"])\n",
    "viirs_df = viirs_df.drop([\"country_id\"])\n",
    "\n",
    "viirs_df = viirs_df.with_columns(\n",
    "    type = pl.lit(None)\n",
    ")\n",
    "\n",
    "viirs_df = viirs_df.select(\n",
    "    pl.col(\"latitude\").cast(pl.Float64),\n",
    "    pl.col(\"longitude\").cast(pl.Float64),\n",
    "    pl.col(\"bright_ti4\").cast(pl.Float32).alias(\"brightness\"),\n",
    "    pl.col(\"scan\").cast(pl.Float32),\n",
    "    pl.col(\"track\").cast(pl.Float32),\n",
    "    pl.col(\"acq_date\").str.strptime(pl.Date, \"%Y-%m-%d\"),\n",
    "    pl.col(\"acq_time\").cast(pl.Int32),\n",
    "    pl.col(\"satellite\").cast(pl.Utf8),\n",
    "    pl.col(\"instrument\").cast(pl.Utf8),\n",
    "    pl.col(\"confidence\").cast(pl.Utf8),\n",
    "    pl.col(\"version\").cast(pl.Utf8),\n",
    "    pl.col(\"bright_ti5\").cast(pl.Float32).alias(\"bright_t31\"),\n",
    "    pl.col(\"frp\").cast(pl.Float32),\n",
    "    pl.col(\"daynight\").cast(pl.Utf8),\n",
    "    pl.col(\"type\").cast(pl.Int32),\n",
    ")\n",
    "\n",
    "viirs_df"
   ]
  },
  {
   "cell_type": "code",
   "execution_count": 43,
   "metadata": {},
   "outputs": [
    {
     "data": {
      "text/html": [
       "<div><style>\n",
       ".dataframe > thead > tr > th,\n",
       ".dataframe > tbody > tr > td {\n",
       "  text-align: right;\n",
       "  white-space: pre-wrap;\n",
       "}\n",
       "</style>\n",
       "<small>shape: (23_452, 15)</small><table border=\"1\" class=\"dataframe\"><thead><tr><th>latitude</th><th>longitude</th><th>brightness</th><th>scan</th><th>track</th><th>acq_date</th><th>acq_time</th><th>satellite</th><th>instrument</th><th>confidence</th><th>version</th><th>bright_t31</th><th>frp</th><th>daynight</th><th>type</th></tr><tr><td>f64</td><td>f64</td><td>f32</td><td>f32</td><td>f32</td><td>date</td><td>i32</td><td>str</td><td>str</td><td>str</td><td>str</td><td>f32</td><td>f32</td><td>str</td><td>i32</td></tr></thead><tbody><tr><td>-8.88108</td><td>140.93845</td><td>335.369995</td><td>0.57</td><td>0.69</td><td>2023-09-01</td><td>319</td><td>&quot;N&quot;</td><td>&quot;VIIRS&quot;</td><td>&quot;n&quot;</td><td>&quot;2.0NRT&quot;</td><td>279.329987</td><td>9.85</td><td>&quot;D&quot;</td><td>null</td></tr><tr><td>-8.83704</td><td>140.97664</td><td>334.850006</td><td>0.57</td><td>0.69</td><td>2023-09-01</td><td>319</td><td>&quot;N&quot;</td><td>&quot;VIIRS&quot;</td><td>&quot;n&quot;</td><td>&quot;2.0NRT&quot;</td><td>276.089996</td><td>5.88</td><td>&quot;D&quot;</td><td>null</td></tr><tr><td>-8.28001</td><td>140.48895</td><td>342.380005</td><td>0.6</td><td>0.71</td><td>2023-09-01</td><td>319</td><td>&quot;N&quot;</td><td>&quot;VIIRS&quot;</td><td>&quot;n&quot;</td><td>&quot;2.0NRT&quot;</td><td>284.380005</td><td>8.5</td><td>&quot;D&quot;</td><td>null</td></tr><tr><td>-8.27633</td><td>140.10927</td><td>331.540009</td><td>0.64</td><td>0.72</td><td>2023-09-01</td><td>319</td><td>&quot;N&quot;</td><td>&quot;VIIRS&quot;</td><td>&quot;n&quot;</td><td>&quot;2.0NRT&quot;</td><td>288.149994</td><td>4.3</td><td>&quot;D&quot;</td><td>null</td></tr><tr><td>-8.27264</td><td>140.1048</td><td>333.140015</td><td>0.64</td><td>0.72</td><td>2023-09-01</td><td>319</td><td>&quot;N&quot;</td><td>&quot;VIIRS&quot;</td><td>&quot;n&quot;</td><td>&quot;2.0NRT&quot;</td><td>287.880005</td><td>8.83</td><td>&quot;D&quot;</td><td>null</td></tr><tr><td>-8.27192</td><td>140.11079</td><td>355.049988</td><td>0.64</td><td>0.72</td><td>2023-09-01</td><td>319</td><td>&quot;N&quot;</td><td>&quot;VIIRS&quot;</td><td>&quot;n&quot;</td><td>&quot;2.0NRT&quot;</td><td>288.0</td><td>15.36</td><td>&quot;D&quot;</td><td>null</td></tr><tr><td>-8.26958</td><td>140.10846</td><td>346.5</td><td>0.64</td><td>0.72</td><td>2023-09-01</td><td>319</td><td>&quot;N&quot;</td><td>&quot;VIIRS&quot;</td><td>&quot;n&quot;</td><td>&quot;2.0NRT&quot;</td><td>286.920013</td><td>10.59</td><td>&quot;D&quot;</td><td>null</td></tr><tr><td>-8.23493</td><td>140.52919</td><td>338.640015</td><td>0.6</td><td>0.7</td><td>2023-09-01</td><td>319</td><td>&quot;N&quot;</td><td>&quot;VIIRS&quot;</td><td>&quot;n&quot;</td><td>&quot;2.0NRT&quot;</td><td>288.299988</td><td>6.66</td><td>&quot;D&quot;</td><td>null</td></tr><tr><td>-8.22993</td><td>140.52611</td><td>338.890015</td><td>0.6</td><td>0.7</td><td>2023-09-01</td><td>319</td><td>&quot;N&quot;</td><td>&quot;VIIRS&quot;</td><td>&quot;n&quot;</td><td>&quot;2.0NRT&quot;</td><td>287.980011</td><td>4.24</td><td>&quot;D&quot;</td><td>null</td></tr><tr><td>-8.20294</td><td>140.14912</td><td>328.559998</td><td>0.63</td><td>0.72</td><td>2023-09-01</td><td>319</td><td>&quot;N&quot;</td><td>&quot;VIIRS&quot;</td><td>&quot;n&quot;</td><td>&quot;2.0NRT&quot;</td><td>289.140015</td><td>2.61</td><td>&quot;D&quot;</td><td>null</td></tr><tr><td>-8.18097</td><td>140.38229</td><td>325.209991</td><td>0.61</td><td>0.71</td><td>2023-09-01</td><td>319</td><td>&quot;N&quot;</td><td>&quot;VIIRS&quot;</td><td>&quot;n&quot;</td><td>&quot;2.0NRT&quot;</td><td>283.609985</td><td>3.75</td><td>&quot;D&quot;</td><td>null</td></tr><tr><td>-8.08739</td><td>140.29243</td><td>332.390015</td><td>0.62</td><td>0.71</td><td>2023-09-01</td><td>319</td><td>&quot;N&quot;</td><td>&quot;VIIRS&quot;</td><td>&quot;n&quot;</td><td>&quot;2.0NRT&quot;</td><td>284.660004</td><td>3.27</td><td>&quot;D&quot;</td><td>null</td></tr><tr><td>&hellip;</td><td>&hellip;</td><td>&hellip;</td><td>&hellip;</td><td>&hellip;</td><td>&hellip;</td><td>&hellip;</td><td>&hellip;</td><td>&hellip;</td><td>&hellip;</td><td>&hellip;</td><td>&hellip;</td><td>&hellip;</td><td>&hellip;</td><td>&hellip;</td></tr><tr><td>1.6188</td><td>109.245712</td><td>346.720001</td><td>0.38</td><td>0.59</td><td>2023-09-01</td><td>646</td><td>&quot;N&quot;</td><td>&quot;VIIRS&quot;</td><td>&quot;n&quot;</td><td>&quot;2.0NRT&quot;</td><td>290.799988</td><td>32.630001</td><td>&quot;D&quot;</td><td>null</td></tr><tr><td>1.67106</td><td>109.331558</td><td>354.470001</td><td>0.39</td><td>0.59</td><td>2023-09-01</td><td>646</td><td>&quot;N&quot;</td><td>&quot;VIIRS&quot;</td><td>&quot;n&quot;</td><td>&quot;2.0NRT&quot;</td><td>291.820007</td><td>10.82</td><td>&quot;D&quot;</td><td>null</td></tr><tr><td>1.67546</td><td>109.323669</td><td>332.070007</td><td>0.39</td><td>0.59</td><td>2023-09-01</td><td>646</td><td>&quot;N&quot;</td><td>&quot;VIIRS&quot;</td><td>&quot;n&quot;</td><td>&quot;2.0NRT&quot;</td><td>292.700012</td><td>10.03</td><td>&quot;D&quot;</td><td>null</td></tr><tr><td>1.67071</td><td>109.333267</td><td>336.309998</td><td>0.39</td><td>0.59</td><td>2023-09-01</td><td>646</td><td>&quot;N&quot;</td><td>&quot;VIIRS&quot;</td><td>&quot;n&quot;</td><td>&quot;2.0NRT&quot;</td><td>291.399994</td><td>2.44</td><td>&quot;D&quot;</td><td>null</td></tr><tr><td>1.6702</td><td>109.329727</td><td>331.109985</td><td>0.39</td><td>0.59</td><td>2023-09-01</td><td>646</td><td>&quot;N&quot;</td><td>&quot;VIIRS&quot;</td><td>&quot;n&quot;</td><td>&quot;2.0NRT&quot;</td><td>291.279999</td><td>2.44</td><td>&quot;D&quot;</td><td>null</td></tr><tr><td>1.66916</td><td>109.322632</td><td>329.179993</td><td>0.39</td><td>0.59</td><td>2023-09-01</td><td>646</td><td>&quot;N&quot;</td><td>&quot;VIIRS&quot;</td><td>&quot;n&quot;</td><td>&quot;2.0NRT&quot;</td><td>292.700012</td><td>2.97</td><td>&quot;D&quot;</td><td>null</td></tr><tr><td>0.83983</td><td>103.014664</td><td>334.279999</td><td>0.45</td><td>0.39</td><td>2023-09-01</td><td>646</td><td>&quot;N&quot;</td><td>&quot;VIIRS&quot;</td><td>&quot;n&quot;</td><td>&quot;2.0NRT&quot;</td><td>296.779999</td><td>3.58</td><td>&quot;D&quot;</td><td>null</td></tr><tr><td>1.94914</td><td>109.58577</td><td>367.0</td><td>0.41</td><td>0.61</td><td>2023-09-01</td><td>646</td><td>&quot;N&quot;</td><td>&quot;VIIRS&quot;</td><td>&quot;h&quot;</td><td>&quot;2.0NRT&quot;</td><td>291.670013</td><td>28.73</td><td>&quot;D&quot;</td><td>null</td></tr><tr><td>1.94859</td><td>109.582047</td><td>345.779999</td><td>0.41</td><td>0.61</td><td>2023-09-01</td><td>646</td><td>&quot;N&quot;</td><td>&quot;VIIRS&quot;</td><td>&quot;n&quot;</td><td>&quot;2.0NRT&quot;</td><td>288.940002</td><td>12.65</td><td>&quot;D&quot;</td><td>null</td></tr><tr><td>1.95421</td><td>109.581268</td><td>331.720001</td><td>0.41</td><td>0.61</td><td>2023-09-01</td><td>646</td><td>&quot;N&quot;</td><td>&quot;VIIRS&quot;</td><td>&quot;n&quot;</td><td>&quot;2.0NRT&quot;</td><td>287.26001</td><td>12.65</td><td>&quot;D&quot;</td><td>null</td></tr><tr><td>1.95475</td><td>109.584976</td><td>357.0</td><td>0.41</td><td>0.61</td><td>2023-09-01</td><td>646</td><td>&quot;N&quot;</td><td>&quot;VIIRS&quot;</td><td>&quot;l&quot;</td><td>&quot;2.0NRT&quot;</td><td>289.320007</td><td>28.73</td><td>&quot;D&quot;</td><td>null</td></tr><tr><td>1.61386</td><td>109.249969</td><td>367.0</td><td>0.38</td><td>0.59</td><td>2023-09-01</td><td>646</td><td>&quot;N&quot;</td><td>&quot;VIIRS&quot;</td><td>&quot;h&quot;</td><td>&quot;2.0NRT&quot;</td><td>291.600006</td><td>32.630001</td><td>&quot;D&quot;</td><td>null</td></tr></tbody></table></div>"
      ],
      "text/plain": [
       "shape: (23_452, 15)\n",
       "┌──────────┬────────────┬────────────┬──────┬───┬────────────┬───────────┬──────────┬──────┐\n",
       "│ latitude ┆ longitude  ┆ brightness ┆ scan ┆ … ┆ bright_t31 ┆ frp       ┆ daynight ┆ type │\n",
       "│ ---      ┆ ---        ┆ ---        ┆ ---  ┆   ┆ ---        ┆ ---       ┆ ---      ┆ ---  │\n",
       "│ f64      ┆ f64        ┆ f32        ┆ f32  ┆   ┆ f32        ┆ f32       ┆ str      ┆ i32  │\n",
       "╞══════════╪════════════╪════════════╪══════╪═══╪════════════╪═══════════╪══════════╪══════╡\n",
       "│ -8.88108 ┆ 140.93845  ┆ 335.369995 ┆ 0.57 ┆ … ┆ 279.329987 ┆ 9.85      ┆ D        ┆ null │\n",
       "│ -8.83704 ┆ 140.97664  ┆ 334.850006 ┆ 0.57 ┆ … ┆ 276.089996 ┆ 5.88      ┆ D        ┆ null │\n",
       "│ -8.28001 ┆ 140.48895  ┆ 342.380005 ┆ 0.6  ┆ … ┆ 284.380005 ┆ 8.5       ┆ D        ┆ null │\n",
       "│ -8.27633 ┆ 140.10927  ┆ 331.540009 ┆ 0.64 ┆ … ┆ 288.149994 ┆ 4.3       ┆ D        ┆ null │\n",
       "│ …        ┆ …          ┆ …          ┆ …    ┆ … ┆ …          ┆ …         ┆ …        ┆ …    │\n",
       "│ 1.94859  ┆ 109.582047 ┆ 345.779999 ┆ 0.41 ┆ … ┆ 288.940002 ┆ 12.65     ┆ D        ┆ null │\n",
       "│ 1.95421  ┆ 109.581268 ┆ 331.720001 ┆ 0.41 ┆ … ┆ 287.26001  ┆ 12.65     ┆ D        ┆ null │\n",
       "│ 1.95475  ┆ 109.584976 ┆ 357.0      ┆ 0.41 ┆ … ┆ 289.320007 ┆ 28.73     ┆ D        ┆ null │\n",
       "│ 1.61386  ┆ 109.249969 ┆ 367.0      ┆ 0.38 ┆ … ┆ 291.600006 ┆ 32.630001 ┆ D        ┆ null │\n",
       "└──────────┴────────────┴────────────┴──────┴───┴────────────┴───────────┴──────────┴──────┘"
      ]
     },
     "execution_count": 43,
     "metadata": {},
     "output_type": "execute_result"
    }
   ],
   "source": [
    "concat_viirs = pl.concat([viirs_df, last_data])\n",
    "concat_viirs = concat_viirs.unique(keep=\"none\", maintain_order=False)\n",
    "\n",
    "concat_viirs"
   ]
  },
  {
   "cell_type": "code",
   "execution_count": 44,
   "metadata": {},
   "outputs": [],
   "source": [
    "concat_viirs.write_database(table_name=\"viirs_snpp_raw\",  connection=CONNECTION_URI, if_exists=\"append\")"
   ]
  },
  {
   "cell_type": "code",
   "execution_count": null,
   "metadata": {},
   "outputs": [],
   "source": []
  },
  {
   "cell_type": "code",
   "execution_count": null,
   "metadata": {},
   "outputs": [],
   "source": []
  },
  {
   "cell_type": "code",
   "execution_count": null,
   "metadata": {},
   "outputs": [],
   "source": []
  }
 ],
 "metadata": {
  "kernelspec": {
   "display_name": ".venv-pm25",
   "language": "python",
   "name": "python3"
  },
  "language_info": {
   "codemirror_mode": {
    "name": "ipython",
    "version": 3
   },
   "file_extension": ".py",
   "mimetype": "text/x-python",
   "name": "python",
   "nbconvert_exporter": "python",
   "pygments_lexer": "ipython3",
   "version": "3.11.5"
  },
  "orig_nbformat": 4
 },
 "nbformat": 4,
 "nbformat_minor": 2
}
