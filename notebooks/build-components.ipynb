{
 "cells": [
  {
   "cell_type": "code",
   "execution_count": 2,
   "metadata": {},
   "outputs": [],
   "source": [
    "import polars as pl\n",
    "import pandas as pd\n",
    "import geopandas as gpd\n",
    "import datetime\n",
    "\n",
    "import dash\n",
    "from dash import dcc, html\n",
    "from dash.dependencies import Input, Output, State\n",
    "import dash_bootstrap_components as dbc\n",
    "\n",
    "import plotly.express as px\n",
    "import plotly.graph_objects as go\n",
    "import plotly.figure_factory as ff\n",
    "\n",
    "from src.procedures import fetch_last_data, generate_density_map\n",
    "from dotenv import dotenv_values\n",
    "\n",
    "config = dotenv_values(\"../.env\")"
   ]
  },
  {
   "cell_type": "code",
   "execution_count": 24,
   "metadata": {},
   "outputs": [
    {
     "data": {
      "text/html": [
       "<div>\n",
       "<style scoped>\n",
       "    .dataframe tbody tr th:only-of-type {\n",
       "        vertical-align: middle;\n",
       "    }\n",
       "\n",
       "    .dataframe tbody tr th {\n",
       "        vertical-align: top;\n",
       "    }\n",
       "\n",
       "    .dataframe thead th {\n",
       "        text-align: right;\n",
       "    }\n",
       "</style>\n",
       "<table border=\"1\" class=\"dataframe\">\n",
       "  <thead>\n",
       "    <tr style=\"text-align: right;\">\n",
       "      <th></th>\n",
       "      <th>latitude</th>\n",
       "      <th>longitude</th>\n",
       "      <th>Tanggal</th>\n",
       "      <th>acq_time</th>\n",
       "      <th>Confidence</th>\n",
       "      <th>Fire Radiative Power</th>\n",
       "      <th>Brightness</th>\n",
       "      <th>Kabupaten/Kota</th>\n",
       "      <th>Provinsi</th>\n",
       "    </tr>\n",
       "  </thead>\n",
       "  <tbody>\n",
       "    <tr>\n",
       "      <th>0</th>\n",
       "      <td>1.09626</td>\n",
       "      <td>101.001694</td>\n",
       "      <td>2023-06-19</td>\n",
       "      <td>1913</td>\n",
       "      <td>Nominal</td>\n",
       "      <td>1.29</td>\n",
       "      <td>304.029999</td>\n",
       "      <td>Siak</td>\n",
       "      <td>Riau</td>\n",
       "    </tr>\n",
       "    <tr>\n",
       "      <th>1</th>\n",
       "      <td>-1.24629</td>\n",
       "      <td>116.813202</td>\n",
       "      <td>2023-06-28</td>\n",
       "      <td>1804</td>\n",
       "      <td>Nominal</td>\n",
       "      <td>4.93</td>\n",
       "      <td>328.649994</td>\n",
       "      <td>None</td>\n",
       "      <td>None</td>\n",
       "    </tr>\n",
       "    <tr>\n",
       "      <th>2</th>\n",
       "      <td>0.08398</td>\n",
       "      <td>117.484352</td>\n",
       "      <td>2023-07-01</td>\n",
       "      <td>1707</td>\n",
       "      <td>Nominal</td>\n",
       "      <td>1.86</td>\n",
       "      <td>304.059998</td>\n",
       "      <td>None</td>\n",
       "      <td>None</td>\n",
       "    </tr>\n",
       "    <tr>\n",
       "      <th>3</th>\n",
       "      <td>0.84778</td>\n",
       "      <td>101.391228</td>\n",
       "      <td>2023-07-16</td>\n",
       "      <td>1906</td>\n",
       "      <td>Nominal</td>\n",
       "      <td>0.71</td>\n",
       "      <td>303.269989</td>\n",
       "      <td>Siak</td>\n",
       "      <td>Riau</td>\n",
       "    </tr>\n",
       "    <tr>\n",
       "      <th>4</th>\n",
       "      <td>-6.49370</td>\n",
       "      <td>139.341782</td>\n",
       "      <td>2023-07-17</td>\n",
       "      <td>423</td>\n",
       "      <td>Nominal</td>\n",
       "      <td>6.98</td>\n",
       "      <td>339.970001</td>\n",
       "      <td>Mappi</td>\n",
       "      <td>Papua</td>\n",
       "    </tr>\n",
       "    <tr>\n",
       "      <th>...</th>\n",
       "      <td>...</td>\n",
       "      <td>...</td>\n",
       "      <td>...</td>\n",
       "      <td>...</td>\n",
       "      <td>...</td>\n",
       "      <td>...</td>\n",
       "      <td>...</td>\n",
       "      <td>...</td>\n",
       "      <td>...</td>\n",
       "    </tr>\n",
       "    <tr>\n",
       "      <th>114519</th>\n",
       "      <td>5.05186</td>\n",
       "      <td>96.616478</td>\n",
       "      <td>2023-09-12</td>\n",
       "      <td>640</td>\n",
       "      <td>Nominal</td>\n",
       "      <td>7.07</td>\n",
       "      <td>337.929993</td>\n",
       "      <td>Bireuen</td>\n",
       "      <td>Aceh</td>\n",
       "    </tr>\n",
       "    <tr>\n",
       "      <th>114520</th>\n",
       "      <td>5.27238</td>\n",
       "      <td>95.432167</td>\n",
       "      <td>2023-09-12</td>\n",
       "      <td>640</td>\n",
       "      <td>Nominal</td>\n",
       "      <td>2.72</td>\n",
       "      <td>326.170013</td>\n",
       "      <td>Aceh Besar</td>\n",
       "      <td>Aceh</td>\n",
       "    </tr>\n",
       "    <tr>\n",
       "      <th>114521</th>\n",
       "      <td>5.27246</td>\n",
       "      <td>95.458138</td>\n",
       "      <td>2023-09-12</td>\n",
       "      <td>640</td>\n",
       "      <td>Nominal</td>\n",
       "      <td>1.35</td>\n",
       "      <td>327.459991</td>\n",
       "      <td>Aceh Besar</td>\n",
       "      <td>Aceh</td>\n",
       "    </tr>\n",
       "    <tr>\n",
       "      <th>114522</th>\n",
       "      <td>5.27366</td>\n",
       "      <td>95.458389</td>\n",
       "      <td>2023-09-12</td>\n",
       "      <td>640</td>\n",
       "      <td>Nominal</td>\n",
       "      <td>3.79</td>\n",
       "      <td>330.480011</td>\n",
       "      <td>Aceh Besar</td>\n",
       "      <td>Aceh</td>\n",
       "    </tr>\n",
       "    <tr>\n",
       "      <th>114523</th>\n",
       "      <td>5.31701</td>\n",
       "      <td>95.551788</td>\n",
       "      <td>2023-09-12</td>\n",
       "      <td>640</td>\n",
       "      <td>Nominal</td>\n",
       "      <td>1.49</td>\n",
       "      <td>335.750000</td>\n",
       "      <td>Aceh Besar</td>\n",
       "      <td>Aceh</td>\n",
       "    </tr>\n",
       "  </tbody>\n",
       "</table>\n",
       "<p>114524 rows × 9 columns</p>\n",
       "</div>"
      ],
      "text/plain": [
       "        latitude   longitude    Tanggal  acq_time Confidence  \\\n",
       "0        1.09626  101.001694 2023-06-19      1913    Nominal   \n",
       "1       -1.24629  116.813202 2023-06-28      1804    Nominal   \n",
       "2        0.08398  117.484352 2023-07-01      1707    Nominal   \n",
       "3        0.84778  101.391228 2023-07-16      1906    Nominal   \n",
       "4       -6.49370  139.341782 2023-07-17       423    Nominal   \n",
       "...          ...         ...        ...       ...        ...   \n",
       "114519   5.05186   96.616478 2023-09-12       640    Nominal   \n",
       "114520   5.27238   95.432167 2023-09-12       640    Nominal   \n",
       "114521   5.27246   95.458138 2023-09-12       640    Nominal   \n",
       "114522   5.27366   95.458389 2023-09-12       640    Nominal   \n",
       "114523   5.31701   95.551788 2023-09-12       640    Nominal   \n",
       "\n",
       "        Fire Radiative Power  Brightness Kabupaten/Kota Provinsi  \n",
       "0                       1.29  304.029999           Siak     Riau  \n",
       "1                       4.93  328.649994           None     None  \n",
       "2                       1.86  304.059998           None     None  \n",
       "3                       0.71  303.269989           Siak     Riau  \n",
       "4                       6.98  339.970001          Mappi    Papua  \n",
       "...                      ...         ...            ...      ...  \n",
       "114519                  7.07  337.929993        Bireuen     Aceh  \n",
       "114520                  2.72  326.170013     Aceh Besar     Aceh  \n",
       "114521                  1.35  327.459991     Aceh Besar     Aceh  \n",
       "114522                  3.79  330.480011     Aceh Besar     Aceh  \n",
       "114523                  1.49  335.750000     Aceh Besar     Aceh  \n",
       "\n",
       "[114524 rows x 9 columns]"
      ]
     },
     "execution_count": 24,
     "metadata": {},
     "output_type": "execute_result"
    }
   ],
   "source": [
    "# Retrieves the most recently updated data from the database\n",
    "value = 7\n",
    "\n",
    "CONNECTION_URI = config.get(\"CONNECTION_URI\")\n",
    "query = f\"\"\"\n",
    "    SELECT latitude, longitude, acq_date, acq_time, confidence, frp, brightness, second_adm, first_adm\n",
    "    FROM processed_viirs \n",
    "    WHERE acq_date > CURRENT_DATE - INTERVAL '{value} day'\"\"\"\n",
    "\n",
    "processed_viirs = fetch_last_data(query=query, uri_connection=CONNECTION_URI)\n",
    "df_viirs = processed_viirs.to_pandas()\n",
    "\n",
    "df_viirs = df_viirs.rename(columns={\"frp\":\"Fire Radiative Power\", \"second_adm\": \"Kabupaten/Kota\", \"first_adm\":\"Provinsi\",\n",
    "                                  \"acq_date\":\"Tanggal\", \"confidence\":\"Confidence\", \"brightness\":\"Brightness\"})\n",
    "\n",
    "df_viirs"
   ]
  },
  {
   "cell_type": "code",
   "execution_count": null,
   "metadata": {},
   "outputs": [],
   "source": [
    "# df_viirs[\"Tanggal\"] = df_viirs[\"Tanggal\"].astype(str)\n",
    "\n",
    "# hover_dict = {\"latitude\":False, \"longitude\":False, \"Tanggal\":True, \"acq_time\":False, \n",
    "#               \"Confidence\":True,\"Fire Radiative Power\":True, \"Kabupaten/Kota\":True, \n",
    "#               \"Provinsi\":False, \"Brightness\":True}\n",
    "\n",
    "\n",
    "# map_fig = px.density_mapbox(df_viirs, lat=\"latitude\", lon=\"longitude\", z=\"Brightness\",\n",
    "#                              radius=1, hover_name=\"Provinsi\",\n",
    "#                              hover_data=hover_dict,\n",
    "#                             center=dict(lat=-2.5, lon=118), zoom=3.7, color_continuous_scale=\"matter_r\", \n",
    "#                             mapbox_style=\"open-street-map\", template=\"plotly_white\"\n",
    "#                             )\n",
    "\n",
    "# map_fig.update_layout(autosize=False,width=1200,height=400)\n",
    "# map_fig.update_layout(margin={\"r\":1,\"t\":1,\"l\":1,\"b\":1})\n",
    "# # map_fig.update_layout({'plot_bgcolor': 'rgba(0, 0, 0, 0)','paper_bgcolor': 'rgba(0, 0, 0, 0)',})\n",
    "# map_fig.update_coloraxes(showscale=True, colorbar=dict(len=0.75, title=\"Brightness\", thickness=15))\n",
    "\n",
    "# map_fig\n"
   ]
  },
  {
   "cell_type": "code",
   "execution_count": 22,
   "metadata": {},
   "outputs": [],
   "source": [
    "def create_line_chart(data: json):\n",
    "\n",
    "\n",
    "    line_df = df[df[\"Provinsi\"]==province]\n",
    "\n",
    "    # Upsample to daily frequency and count the number of fires in each day\n",
    "    line_df = line_df.resample('D', on='Tanggal')['Fire Radiative Power'].count()\n",
    "\n",
    "    fig = px.line(line_df, x=line_df.index, y=line_df.values,\n",
    "            labels={\"y\":\"<b>Jumlah Titik Api</b>\", \"Tanggal\":\"\"},template=\"plotly_white\")\n",
    "\n",
    "    fig.update_layout(autosize=True,width=700,height=400)\n",
    "#     fig.update_layout(margin={\"r\":0,\"t\":1,\"l\":0,\"b\":0})\n",
    "    fig.update_layout(title=\"Jumlah Titik Api Harian yang Terdeteksi\", title_font_size=16)\n",
    "    fig.update_traces(line_color='indianred')\n",
    "    fig.update_layout({'plot_bgcolor': 'rgba(0, 0, 0, 0)','paper_bgcolor': 'rgba(0, 0, 0, 0)',})\n",
    "    fig.update_yaxes(title_font=dict(size=12))\n",
    "    fig.update_layout(xaxis_showgrid=False, yaxis_showgrid=False)\n",
    "\n",
    "    return fig"
   ]
  },
  {
   "cell_type": "code",
   "execution_count": 23,
   "metadata": {},
   "outputs": [
    {
     "name": "stderr",
     "output_type": "stream",
     "text": [
      "c:\\Users\\PF2L6BL6\\Documents\\alvin\\personal-works\\data-engineering-projects\\integrated-active-fire-and-polution-dashboard\\.venv-pm25\\Lib\\site-packages\\_plotly_utils\\basevalidators.py:105: FutureWarning:\n",
      "\n",
      "The behavior of DatetimeProperties.to_pydatetime is deprecated, in a future version this will return a Series containing python datetime objects instead of an ndarray. To retain the old behavior, call `np.array` on the result\n",
      "\n"
     ]
    },
    {
     "data": {
      "application/vnd.plotly.v1+json": {
       "config": {
        "plotlyServerURL": "https://plot.ly"
       },
       "data": [
        {
         "hovertemplate": "=%{x}<br><b>Jumlah Titik Api</b>=%{y}<extra></extra>",
         "legendgroup": "",
         "line": {
          "color": "indianred",
          "dash": "solid"
         },
         "marker": {
          "symbol": "circle"
         },
         "mode": "lines",
         "name": "",
         "orientation": "v",
         "showlegend": false,
         "type": "scatter",
         "x": [
          "2023-06-15T00:00:00",
          "2023-06-16T00:00:00",
          "2023-06-17T00:00:00",
          "2023-06-18T00:00:00",
          "2023-06-19T00:00:00",
          "2023-06-20T00:00:00",
          "2023-06-21T00:00:00",
          "2023-06-22T00:00:00",
          "2023-06-23T00:00:00",
          "2023-06-24T00:00:00",
          "2023-06-25T00:00:00",
          "2023-06-26T00:00:00",
          "2023-06-27T00:00:00",
          "2023-06-28T00:00:00",
          "2023-06-29T00:00:00",
          "2023-06-30T00:00:00",
          "2023-07-01T00:00:00",
          "2023-07-02T00:00:00",
          "2023-07-03T00:00:00",
          "2023-07-04T00:00:00",
          "2023-07-05T00:00:00",
          "2023-07-06T00:00:00",
          "2023-07-07T00:00:00",
          "2023-07-08T00:00:00",
          "2023-07-09T00:00:00",
          "2023-07-10T00:00:00",
          "2023-07-11T00:00:00",
          "2023-07-12T00:00:00",
          "2023-07-13T00:00:00",
          "2023-07-14T00:00:00",
          "2023-07-15T00:00:00",
          "2023-07-16T00:00:00",
          "2023-07-17T00:00:00",
          "2023-07-18T00:00:00",
          "2023-07-19T00:00:00",
          "2023-07-20T00:00:00",
          "2023-07-21T00:00:00",
          "2023-07-22T00:00:00",
          "2023-07-23T00:00:00",
          "2023-07-24T00:00:00",
          "2023-07-25T00:00:00",
          "2023-07-26T00:00:00",
          "2023-07-27T00:00:00",
          "2023-07-28T00:00:00",
          "2023-07-29T00:00:00",
          "2023-07-30T00:00:00",
          "2023-07-31T00:00:00",
          "2023-08-01T00:00:00",
          "2023-08-02T00:00:00",
          "2023-08-03T00:00:00",
          "2023-08-04T00:00:00",
          "2023-08-05T00:00:00",
          "2023-08-06T00:00:00",
          "2023-08-07T00:00:00",
          "2023-08-08T00:00:00",
          "2023-08-09T00:00:00",
          "2023-08-10T00:00:00",
          "2023-08-11T00:00:00",
          "2023-08-12T00:00:00",
          "2023-08-13T00:00:00",
          "2023-08-14T00:00:00",
          "2023-08-15T00:00:00",
          "2023-08-16T00:00:00",
          "2023-08-17T00:00:00",
          "2023-08-18T00:00:00",
          "2023-08-19T00:00:00",
          "2023-08-20T00:00:00",
          "2023-08-21T00:00:00",
          "2023-08-22T00:00:00",
          "2023-08-23T00:00:00",
          "2023-08-24T00:00:00",
          "2023-08-25T00:00:00",
          "2023-08-26T00:00:00",
          "2023-08-27T00:00:00",
          "2023-08-28T00:00:00",
          "2023-08-29T00:00:00",
          "2023-08-30T00:00:00",
          "2023-08-31T00:00:00",
          "2023-09-01T00:00:00",
          "2023-09-02T00:00:00",
          "2023-09-03T00:00:00",
          "2023-09-04T00:00:00",
          "2023-09-05T00:00:00",
          "2023-09-06T00:00:00",
          "2023-09-07T00:00:00",
          "2023-09-08T00:00:00",
          "2023-09-09T00:00:00",
          "2023-09-10T00:00:00",
          "2023-09-11T00:00:00"
         ],
         "xaxis": "x",
         "y": [
          15,
          17,
          28,
          19,
          31,
          53,
          42,
          24,
          31,
          29,
          26,
          49,
          14,
          6,
          23,
          26,
          21,
          4,
          17,
          26,
          14,
          18,
          1,
          3,
          20,
          37,
          46,
          71,
          31,
          33,
          37,
          47,
          101,
          82,
          55,
          63,
          44,
          84,
          94,
          30,
          32,
          0,
          75,
          55,
          72,
          46,
          42,
          46,
          79,
          84,
          42,
          38,
          37,
          72,
          60,
          60,
          54,
          51,
          96,
          93,
          79,
          46,
          60,
          64,
          75,
          52,
          53,
          50,
          50,
          93,
          65,
          48,
          120,
          112,
          88,
          228,
          351,
          228,
          169,
          122,
          131,
          146,
          86,
          58,
          123,
          186,
          104,
          84,
          103
         ],
         "yaxis": "y"
        }
       ],
       "layout": {
        "autosize": true,
        "height": 400,
        "legend": {
         "tracegroupgap": 0
        },
        "margin": {
         "t": 60
        },
        "paper_bgcolor": "rgba(0, 0, 0, 0)",
        "plot_bgcolor": "rgba(0, 0, 0, 0)",
        "template": {
         "data": {
          "bar": [
           {
            "error_x": {
             "color": "#2a3f5f"
            },
            "error_y": {
             "color": "#2a3f5f"
            },
            "marker": {
             "line": {
              "color": "white",
              "width": 0.5
             },
             "pattern": {
              "fillmode": "overlay",
              "size": 10,
              "solidity": 0.2
             }
            },
            "type": "bar"
           }
          ],
          "barpolar": [
           {
            "marker": {
             "line": {
              "color": "white",
              "width": 0.5
             },
             "pattern": {
              "fillmode": "overlay",
              "size": 10,
              "solidity": 0.2
             }
            },
            "type": "barpolar"
           }
          ],
          "carpet": [
           {
            "aaxis": {
             "endlinecolor": "#2a3f5f",
             "gridcolor": "#C8D4E3",
             "linecolor": "#C8D4E3",
             "minorgridcolor": "#C8D4E3",
             "startlinecolor": "#2a3f5f"
            },
            "baxis": {
             "endlinecolor": "#2a3f5f",
             "gridcolor": "#C8D4E3",
             "linecolor": "#C8D4E3",
             "minorgridcolor": "#C8D4E3",
             "startlinecolor": "#2a3f5f"
            },
            "type": "carpet"
           }
          ],
          "choropleth": [
           {
            "colorbar": {
             "outlinewidth": 0,
             "ticks": ""
            },
            "type": "choropleth"
           }
          ],
          "contour": [
           {
            "colorbar": {
             "outlinewidth": 0,
             "ticks": ""
            },
            "colorscale": [
             [
              0,
              "#0d0887"
             ],
             [
              0.1111111111111111,
              "#46039f"
             ],
             [
              0.2222222222222222,
              "#7201a8"
             ],
             [
              0.3333333333333333,
              "#9c179e"
             ],
             [
              0.4444444444444444,
              "#bd3786"
             ],
             [
              0.5555555555555556,
              "#d8576b"
             ],
             [
              0.6666666666666666,
              "#ed7953"
             ],
             [
              0.7777777777777778,
              "#fb9f3a"
             ],
             [
              0.8888888888888888,
              "#fdca26"
             ],
             [
              1,
              "#f0f921"
             ]
            ],
            "type": "contour"
           }
          ],
          "contourcarpet": [
           {
            "colorbar": {
             "outlinewidth": 0,
             "ticks": ""
            },
            "type": "contourcarpet"
           }
          ],
          "heatmap": [
           {
            "colorbar": {
             "outlinewidth": 0,
             "ticks": ""
            },
            "colorscale": [
             [
              0,
              "#0d0887"
             ],
             [
              0.1111111111111111,
              "#46039f"
             ],
             [
              0.2222222222222222,
              "#7201a8"
             ],
             [
              0.3333333333333333,
              "#9c179e"
             ],
             [
              0.4444444444444444,
              "#bd3786"
             ],
             [
              0.5555555555555556,
              "#d8576b"
             ],
             [
              0.6666666666666666,
              "#ed7953"
             ],
             [
              0.7777777777777778,
              "#fb9f3a"
             ],
             [
              0.8888888888888888,
              "#fdca26"
             ],
             [
              1,
              "#f0f921"
             ]
            ],
            "type": "heatmap"
           }
          ],
          "heatmapgl": [
           {
            "colorbar": {
             "outlinewidth": 0,
             "ticks": ""
            },
            "colorscale": [
             [
              0,
              "#0d0887"
             ],
             [
              0.1111111111111111,
              "#46039f"
             ],
             [
              0.2222222222222222,
              "#7201a8"
             ],
             [
              0.3333333333333333,
              "#9c179e"
             ],
             [
              0.4444444444444444,
              "#bd3786"
             ],
             [
              0.5555555555555556,
              "#d8576b"
             ],
             [
              0.6666666666666666,
              "#ed7953"
             ],
             [
              0.7777777777777778,
              "#fb9f3a"
             ],
             [
              0.8888888888888888,
              "#fdca26"
             ],
             [
              1,
              "#f0f921"
             ]
            ],
            "type": "heatmapgl"
           }
          ],
          "histogram": [
           {
            "marker": {
             "pattern": {
              "fillmode": "overlay",
              "size": 10,
              "solidity": 0.2
             }
            },
            "type": "histogram"
           }
          ],
          "histogram2d": [
           {
            "colorbar": {
             "outlinewidth": 0,
             "ticks": ""
            },
            "colorscale": [
             [
              0,
              "#0d0887"
             ],
             [
              0.1111111111111111,
              "#46039f"
             ],
             [
              0.2222222222222222,
              "#7201a8"
             ],
             [
              0.3333333333333333,
              "#9c179e"
             ],
             [
              0.4444444444444444,
              "#bd3786"
             ],
             [
              0.5555555555555556,
              "#d8576b"
             ],
             [
              0.6666666666666666,
              "#ed7953"
             ],
             [
              0.7777777777777778,
              "#fb9f3a"
             ],
             [
              0.8888888888888888,
              "#fdca26"
             ],
             [
              1,
              "#f0f921"
             ]
            ],
            "type": "histogram2d"
           }
          ],
          "histogram2dcontour": [
           {
            "colorbar": {
             "outlinewidth": 0,
             "ticks": ""
            },
            "colorscale": [
             [
              0,
              "#0d0887"
             ],
             [
              0.1111111111111111,
              "#46039f"
             ],
             [
              0.2222222222222222,
              "#7201a8"
             ],
             [
              0.3333333333333333,
              "#9c179e"
             ],
             [
              0.4444444444444444,
              "#bd3786"
             ],
             [
              0.5555555555555556,
              "#d8576b"
             ],
             [
              0.6666666666666666,
              "#ed7953"
             ],
             [
              0.7777777777777778,
              "#fb9f3a"
             ],
             [
              0.8888888888888888,
              "#fdca26"
             ],
             [
              1,
              "#f0f921"
             ]
            ],
            "type": "histogram2dcontour"
           }
          ],
          "mesh3d": [
           {
            "colorbar": {
             "outlinewidth": 0,
             "ticks": ""
            },
            "type": "mesh3d"
           }
          ],
          "parcoords": [
           {
            "line": {
             "colorbar": {
              "outlinewidth": 0,
              "ticks": ""
             }
            },
            "type": "parcoords"
           }
          ],
          "pie": [
           {
            "automargin": true,
            "type": "pie"
           }
          ],
          "scatter": [
           {
            "fillpattern": {
             "fillmode": "overlay",
             "size": 10,
             "solidity": 0.2
            },
            "type": "scatter"
           }
          ],
          "scatter3d": [
           {
            "line": {
             "colorbar": {
              "outlinewidth": 0,
              "ticks": ""
             }
            },
            "marker": {
             "colorbar": {
              "outlinewidth": 0,
              "ticks": ""
             }
            },
            "type": "scatter3d"
           }
          ],
          "scattercarpet": [
           {
            "marker": {
             "colorbar": {
              "outlinewidth": 0,
              "ticks": ""
             }
            },
            "type": "scattercarpet"
           }
          ],
          "scattergeo": [
           {
            "marker": {
             "colorbar": {
              "outlinewidth": 0,
              "ticks": ""
             }
            },
            "type": "scattergeo"
           }
          ],
          "scattergl": [
           {
            "marker": {
             "colorbar": {
              "outlinewidth": 0,
              "ticks": ""
             }
            },
            "type": "scattergl"
           }
          ],
          "scattermapbox": [
           {
            "marker": {
             "colorbar": {
              "outlinewidth": 0,
              "ticks": ""
             }
            },
            "type": "scattermapbox"
           }
          ],
          "scatterpolar": [
           {
            "marker": {
             "colorbar": {
              "outlinewidth": 0,
              "ticks": ""
             }
            },
            "type": "scatterpolar"
           }
          ],
          "scatterpolargl": [
           {
            "marker": {
             "colorbar": {
              "outlinewidth": 0,
              "ticks": ""
             }
            },
            "type": "scatterpolargl"
           }
          ],
          "scatterternary": [
           {
            "marker": {
             "colorbar": {
              "outlinewidth": 0,
              "ticks": ""
             }
            },
            "type": "scatterternary"
           }
          ],
          "surface": [
           {
            "colorbar": {
             "outlinewidth": 0,
             "ticks": ""
            },
            "colorscale": [
             [
              0,
              "#0d0887"
             ],
             [
              0.1111111111111111,
              "#46039f"
             ],
             [
              0.2222222222222222,
              "#7201a8"
             ],
             [
              0.3333333333333333,
              "#9c179e"
             ],
             [
              0.4444444444444444,
              "#bd3786"
             ],
             [
              0.5555555555555556,
              "#d8576b"
             ],
             [
              0.6666666666666666,
              "#ed7953"
             ],
             [
              0.7777777777777778,
              "#fb9f3a"
             ],
             [
              0.8888888888888888,
              "#fdca26"
             ],
             [
              1,
              "#f0f921"
             ]
            ],
            "type": "surface"
           }
          ],
          "table": [
           {
            "cells": {
             "fill": {
              "color": "#EBF0F8"
             },
             "line": {
              "color": "white"
             }
            },
            "header": {
             "fill": {
              "color": "#C8D4E3"
             },
             "line": {
              "color": "white"
             }
            },
            "type": "table"
           }
          ]
         },
         "layout": {
          "annotationdefaults": {
           "arrowcolor": "#2a3f5f",
           "arrowhead": 0,
           "arrowwidth": 1
          },
          "autotypenumbers": "strict",
          "coloraxis": {
           "colorbar": {
            "outlinewidth": 0,
            "ticks": ""
           }
          },
          "colorscale": {
           "diverging": [
            [
             0,
             "#8e0152"
            ],
            [
             0.1,
             "#c51b7d"
            ],
            [
             0.2,
             "#de77ae"
            ],
            [
             0.3,
             "#f1b6da"
            ],
            [
             0.4,
             "#fde0ef"
            ],
            [
             0.5,
             "#f7f7f7"
            ],
            [
             0.6,
             "#e6f5d0"
            ],
            [
             0.7,
             "#b8e186"
            ],
            [
             0.8,
             "#7fbc41"
            ],
            [
             0.9,
             "#4d9221"
            ],
            [
             1,
             "#276419"
            ]
           ],
           "sequential": [
            [
             0,
             "#0d0887"
            ],
            [
             0.1111111111111111,
             "#46039f"
            ],
            [
             0.2222222222222222,
             "#7201a8"
            ],
            [
             0.3333333333333333,
             "#9c179e"
            ],
            [
             0.4444444444444444,
             "#bd3786"
            ],
            [
             0.5555555555555556,
             "#d8576b"
            ],
            [
             0.6666666666666666,
             "#ed7953"
            ],
            [
             0.7777777777777778,
             "#fb9f3a"
            ],
            [
             0.8888888888888888,
             "#fdca26"
            ],
            [
             1,
             "#f0f921"
            ]
           ],
           "sequentialminus": [
            [
             0,
             "#0d0887"
            ],
            [
             0.1111111111111111,
             "#46039f"
            ],
            [
             0.2222222222222222,
             "#7201a8"
            ],
            [
             0.3333333333333333,
             "#9c179e"
            ],
            [
             0.4444444444444444,
             "#bd3786"
            ],
            [
             0.5555555555555556,
             "#d8576b"
            ],
            [
             0.6666666666666666,
             "#ed7953"
            ],
            [
             0.7777777777777778,
             "#fb9f3a"
            ],
            [
             0.8888888888888888,
             "#fdca26"
            ],
            [
             1,
             "#f0f921"
            ]
           ]
          },
          "colorway": [
           "#636efa",
           "#EF553B",
           "#00cc96",
           "#ab63fa",
           "#FFA15A",
           "#19d3f3",
           "#FF6692",
           "#B6E880",
           "#FF97FF",
           "#FECB52"
          ],
          "font": {
           "color": "#2a3f5f"
          },
          "geo": {
           "bgcolor": "white",
           "lakecolor": "white",
           "landcolor": "white",
           "showlakes": true,
           "showland": true,
           "subunitcolor": "#C8D4E3"
          },
          "hoverlabel": {
           "align": "left"
          },
          "hovermode": "closest",
          "mapbox": {
           "style": "light"
          },
          "paper_bgcolor": "white",
          "plot_bgcolor": "white",
          "polar": {
           "angularaxis": {
            "gridcolor": "#EBF0F8",
            "linecolor": "#EBF0F8",
            "ticks": ""
           },
           "bgcolor": "white",
           "radialaxis": {
            "gridcolor": "#EBF0F8",
            "linecolor": "#EBF0F8",
            "ticks": ""
           }
          },
          "scene": {
           "xaxis": {
            "backgroundcolor": "white",
            "gridcolor": "#DFE8F3",
            "gridwidth": 2,
            "linecolor": "#EBF0F8",
            "showbackground": true,
            "ticks": "",
            "zerolinecolor": "#EBF0F8"
           },
           "yaxis": {
            "backgroundcolor": "white",
            "gridcolor": "#DFE8F3",
            "gridwidth": 2,
            "linecolor": "#EBF0F8",
            "showbackground": true,
            "ticks": "",
            "zerolinecolor": "#EBF0F8"
           },
           "zaxis": {
            "backgroundcolor": "white",
            "gridcolor": "#DFE8F3",
            "gridwidth": 2,
            "linecolor": "#EBF0F8",
            "showbackground": true,
            "ticks": "",
            "zerolinecolor": "#EBF0F8"
           }
          },
          "shapedefaults": {
           "line": {
            "color": "#2a3f5f"
           }
          },
          "ternary": {
           "aaxis": {
            "gridcolor": "#DFE8F3",
            "linecolor": "#A2B1C6",
            "ticks": ""
           },
           "baxis": {
            "gridcolor": "#DFE8F3",
            "linecolor": "#A2B1C6",
            "ticks": ""
           },
           "bgcolor": "white",
           "caxis": {
            "gridcolor": "#DFE8F3",
            "linecolor": "#A2B1C6",
            "ticks": ""
           }
          },
          "title": {
           "x": 0.05
          },
          "xaxis": {
           "automargin": true,
           "gridcolor": "#EBF0F8",
           "linecolor": "#EBF0F8",
           "ticks": "",
           "title": {
            "standoff": 15
           },
           "zerolinecolor": "#EBF0F8",
           "zerolinewidth": 2
          },
          "yaxis": {
           "automargin": true,
           "gridcolor": "#EBF0F8",
           "linecolor": "#EBF0F8",
           "ticks": "",
           "title": {
            "standoff": 15
           },
           "zerolinecolor": "#EBF0F8",
           "zerolinewidth": 2
          }
         }
        },
        "title": {
         "font": {
          "size": 16
         },
         "text": "Jumlah Titik Api Harian yang Terdeteksi"
        },
        "width": 700,
        "xaxis": {
         "anchor": "y",
         "domain": [
          0,
          1
         ],
         "showgrid": false,
         "title": {
          "text": ""
         }
        },
        "yaxis": {
         "anchor": "x",
         "domain": [
          0,
          1
         ],
         "showgrid": false,
         "title": {
          "font": {
           "size": 12
          },
          "text": "<b>Jumlah Titik Api</b>"
         }
        }
       }
      }
     },
     "metadata": {},
     "output_type": "display_data"
    }
   ],
   "source": [
    "line_2022 = create_line_chart(df_viirs, \"Jawa Timur\")\n",
    "line_2022"
   ]
  },
  {
   "cell_type": "code",
   "execution_count": null,
   "metadata": {},
   "outputs": [],
   "source": []
  },
  {
   "cell_type": "code",
   "execution_count": null,
   "metadata": {},
   "outputs": [],
   "source": [
    "# WHERE acq_date > CURRENT_DATE"
   ]
  },
  {
   "cell_type": "code",
   "execution_count": 7,
   "metadata": {},
   "outputs": [],
   "source": [
    "CONNECTION_URI = config.get(\"CONNECTION_URI\")\n",
    "query = f\"\"\"\n",
    "    SELECT *\n",
    "    FROM articles\n",
    "    WHERE published_date = CURRENT_DATE\"\"\"\n",
    "\n",
    "articles = fetch_last_data(query=query, uri_connection=CONNECTION_URI)\n",
    "articles = articles.to_pandas()"
   ]
  },
  {
   "cell_type": "code",
   "execution_count": 8,
   "metadata": {},
   "outputs": [
    {
     "data": {
      "text/html": [
       "<div>\n",
       "<style scoped>\n",
       "    .dataframe tbody tr th:only-of-type {\n",
       "        vertical-align: middle;\n",
       "    }\n",
       "\n",
       "    .dataframe tbody tr th {\n",
       "        vertical-align: top;\n",
       "    }\n",
       "\n",
       "    .dataframe thead th {\n",
       "        text-align: right;\n",
       "    }\n",
       "</style>\n",
       "<table border=\"1\" class=\"dataframe\">\n",
       "  <thead>\n",
       "    <tr style=\"text-align: right;\">\n",
       "      <th></th>\n",
       "      <th>id</th>\n",
       "      <th>keywords</th>\n",
       "      <th>title</th>\n",
       "      <th>article_text</th>\n",
       "      <th>url</th>\n",
       "      <th>image</th>\n",
       "      <th>publisher</th>\n",
       "      <th>published_time</th>\n",
       "      <th>published_date</th>\n",
       "    </tr>\n",
       "  </thead>\n",
       "  <tbody>\n",
       "    <tr>\n",
       "      <th>0</th>\n",
       "      <td>833</td>\n",
       "      <td>kebakaran hutan</td>\n",
       "      <td>Alasan Kebakaran Hutan Sulit Untuk Dipadamkan ...</td>\n",
       "      <td>Kebakaran hutan sering terjadi saat musim kema...</td>\n",
       "      <td>https://news.google.com/rss/articles/CBMidGh0d...</td>\n",
       "      <td>https://assets-a1.kompasiana.com/images/avatar...</td>\n",
       "      <td>Kompasiana.com</td>\n",
       "      <td>2023-09-16 02:48:29</td>\n",
       "      <td>2023-09-16</td>\n",
       "    </tr>\n",
       "    <tr>\n",
       "      <th>1</th>\n",
       "      <td>834</td>\n",
       "      <td>polusi udara</td>\n",
       "      <td>Jaga Kesehatan Keluarga, Hindari Bahaya Polusi...</td>\n",
       "      <td>Krjogja.com - Jakarta - Polusi udara di perkot...</td>\n",
       "      <td>https://news.google.com/rss/articles/CBMifGh0d...</td>\n",
       "      <td>https://static.promediateknologi.id/crop/0x0:0...</td>\n",
       "      <td>Krjogja</td>\n",
       "      <td>2023-09-16 02:10:00</td>\n",
       "      <td>2023-09-16</td>\n",
       "    </tr>\n",
       "    <tr>\n",
       "      <th>2</th>\n",
       "      <td>824</td>\n",
       "      <td>kebakaran hutan</td>\n",
       "      <td>Imbas Kebakaran Hutan dan Lahan di Ketapang, P...</td>\n",
       "      <td>Sabtu, 16 September 2023 | 13:40 WIBKETAPANG, ...</td>\n",
       "      <td>https://news.google.com/rss/articles/CBMiZGh0d...</td>\n",
       "      <td>https://media-origin.kompas.tv/lestari/desktop...</td>\n",
       "      <td>Kompas TV</td>\n",
       "      <td>2023-09-16 06:40:00</td>\n",
       "      <td>2023-09-16</td>\n",
       "    </tr>\n",
       "    <tr>\n",
       "      <th>3</th>\n",
       "      <td>825</td>\n",
       "      <td>polusi udara</td>\n",
       "      <td>Memperingati Hari Ozon Internasional: Penyadar...</td>\n",
       "      <td>Sama seperti yang diungkapkan oleh Soemarwoto ...</td>\n",
       "      <td>https://news.google.com/rss/articles/CBMieGh0d...</td>\n",
       "      <td>https://blue.kumparan.com/image/upload/fl_prog...</td>\n",
       "      <td>kumparan.com</td>\n",
       "      <td>2023-09-16 06:32:08</td>\n",
       "      <td>2023-09-16</td>\n",
       "    </tr>\n",
       "    <tr>\n",
       "      <th>4</th>\n",
       "      <td>826</td>\n",
       "      <td>polusi udara</td>\n",
       "      <td>5 Tips untuk Menghadapi Kualitas Udara yang Bu...</td>\n",
       "      <td>Fimela.com, Jakarta Akhir-akhir ini, polusi ud...</td>\n",
       "      <td>https://news.google.com/rss/articles/CBMiX2h0d...</td>\n",
       "      <td>https://cdn1-production-images-kly.akamaized.n...</td>\n",
       "      <td>Fimela.com</td>\n",
       "      <td>2023-09-16 06:00:00</td>\n",
       "      <td>2023-09-16</td>\n",
       "    </tr>\n",
       "    <tr>\n",
       "      <th>5</th>\n",
       "      <td>835</td>\n",
       "      <td>polusi udara</td>\n",
       "      <td>Kemelut Polusi Udara Jakarta: Inkonsistensi Da...</td>\n",
       "      <td>A+ A-Belakangan ini masyarakat Indonesia tenga...</td>\n",
       "      <td>https://news.google.com/rss/articles/CBMidWh0d...</td>\n",
       "      <td>https://rm.id/images/logo-pandi.png</td>\n",
       "      <td>RM.ID</td>\n",
       "      <td>2023-09-16 01:38:00</td>\n",
       "      <td>2023-09-16</td>\n",
       "    </tr>\n",
       "    <tr>\n",
       "      <th>6</th>\n",
       "      <td>836</td>\n",
       "      <td>kebakaran hutan</td>\n",
       "      <td>Ekonomi Hijau dan Kebakaran Hutan | BALIPOST.c...</td>\n",
       "      <td>Oleh I Wayan RamanthaEkonomi hijau atau green ...</td>\n",
       "      <td>https://news.google.com/rss/articles/CBMiVmh0d...</td>\n",
       "      <td>https://www.balipost.com/wp-content/uploads/20...</td>\n",
       "      <td>BALIPOST.com</td>\n",
       "      <td>2023-09-16 00:51:24</td>\n",
       "      <td>2023-09-16</td>\n",
       "    </tr>\n",
       "    <tr>\n",
       "      <th>7</th>\n",
       "      <td>827</td>\n",
       "      <td>polusi udara</td>\n",
       "      <td>Mobilitas Warga Jangan Jadi Kambing Hitam Polu...</td>\n",
       "      <td>Liputan6.com, Jakarta Peneliti Institute for D...</td>\n",
       "      <td>https://news.google.com/rss/articles/CBMieWh0d...</td>\n",
       "      <td>https://cdn-production-assets-kly.akamaized.ne...</td>\n",
       "      <td>Liputan6.com</td>\n",
       "      <td>2023-09-16 05:30:49</td>\n",
       "      <td>2023-09-16</td>\n",
       "    </tr>\n",
       "    <tr>\n",
       "      <th>8</th>\n",
       "      <td>828</td>\n",
       "      <td>kebakaran hutan</td>\n",
       "      <td>Foto: Kebakaran Hutan dan Lahan Gunung Bromo B...</td>\n",
       "      <td>Balai Besar Taman Nasional Bromo Tengger Semer...</td>\n",
       "      <td>https://news.google.com/rss/articles/CBMibWh0d...</td>\n",
       "      <td>https://blue.kumparan.com/image/upload/fl_prog...</td>\n",
       "      <td>kumparan.com</td>\n",
       "      <td>2023-09-16 05:14:36</td>\n",
       "      <td>2023-09-16</td>\n",
       "    </tr>\n",
       "    <tr>\n",
       "      <th>9</th>\n",
       "      <td>829</td>\n",
       "      <td>kebakaran hutan</td>\n",
       "      <td>Proses Pemadaman Kebakaran Hutan dan Lahan di ...</td>\n",
       "      <td>Sabtu, 16 September 2023 | 11:47 WIBBANJARBARU...</td>\n",
       "      <td>https://news.google.com/rss/articles/CBMidmh0d...</td>\n",
       "      <td>https://media-origin.kompas.tv/lestari/desktop...</td>\n",
       "      <td>Kompas TV</td>\n",
       "      <td>2023-09-16 04:47:00</td>\n",
       "      <td>2023-09-16</td>\n",
       "    </tr>\n",
       "    <tr>\n",
       "      <th>10</th>\n",
       "      <td>830</td>\n",
       "      <td>polusi udara</td>\n",
       "      <td>Muhadjir Effendy Ajak Warga Kurangi Polusi Uda...</td>\n",
       "      <td>JAKARTA, KOMPAS.com - Menteri Koordinator Pemb...</td>\n",
       "      <td>https://news.google.com/rss/articles/CBMiemh0d...</td>\n",
       "      <td>https://asset.kompas.com/crops/vYCvHLmXaAzS5pb...</td>\n",
       "      <td>Megapolitan Kompas.com</td>\n",
       "      <td>2023-09-16 04:37:00</td>\n",
       "      <td>2023-09-16</td>\n",
       "    </tr>\n",
       "    <tr>\n",
       "      <th>11</th>\n",
       "      <td>831</td>\n",
       "      <td>kebakaran hutan</td>\n",
       "      <td>Peduli Lingkungan, Babinsa Sosialisasikan Sisk...</td>\n",
       "      <td>Leuwisadeng-Dalam upaya mencegah kebakaran hut...</td>\n",
       "      <td>https://news.google.com/rss/articles/CBMiowFod...</td>\n",
       "      <td>https://assets.kompasiana.com/items/category/4...</td>\n",
       "      <td>Kompasiana.com</td>\n",
       "      <td>2023-09-16 04:02:31</td>\n",
       "      <td>2023-09-16</td>\n",
       "    </tr>\n",
       "    <tr>\n",
       "      <th>12</th>\n",
       "      <td>832</td>\n",
       "      <td>kebakaran hutan</td>\n",
       "      <td>WO Prewedding Ancam Polisikan Pengelola Bromo ...</td>\n",
       "      <td>--Wedding Organizer prewedding penyulut flare ...</td>\n",
       "      <td>https://news.google.com/rss/articles/CBMifWh0d...</td>\n",
       "      <td>https://akcdn.detik.net.id/visual/2023/09/16/h...</td>\n",
       "      <td>CNN Indonesia</td>\n",
       "      <td>2023-09-16 02:55:00</td>\n",
       "      <td>2023-09-16</td>\n",
       "    </tr>\n",
       "    <tr>\n",
       "      <th>13</th>\n",
       "      <td>837</td>\n",
       "      <td>polusi udara</td>\n",
       "      <td>Menjaga Kesehatan Ditengah Kondisi Buruknya Po...</td>\n",
       "      <td>BATASTIMOR.COM - Polres Metro Jakarta Barat me...</td>\n",
       "      <td>https://news.google.com/rss/articles/CBMikwFod...</td>\n",
       "      <td>https://static.promediateknologi.id/crop/5x296...</td>\n",
       "      <td>Batas Timor</td>\n",
       "      <td>2023-09-16 00:41:00</td>\n",
       "      <td>2023-09-16</td>\n",
       "    </tr>\n",
       "    <tr>\n",
       "      <th>14</th>\n",
       "      <td>900</td>\n",
       "      <td>kebakaran hutan</td>\n",
       "      <td>Alasan Kebakaran Hutan Sulit Untuk Dipadamkan ...</td>\n",
       "      <td>Kebakaran hutan sering terjadi saat musim kema...</td>\n",
       "      <td>https://news.google.com/rss/articles/CBMidGh0d...</td>\n",
       "      <td>https://assets-a2.kompasiana.com/items/album/2...</td>\n",
       "      <td>Kompasiana.com</td>\n",
       "      <td>2023-09-16 02:48:29</td>\n",
       "      <td>2023-09-16</td>\n",
       "    </tr>\n",
       "    <tr>\n",
       "      <th>15</th>\n",
       "      <td>901</td>\n",
       "      <td>polusi udara</td>\n",
       "      <td>Jaga Kesehatan Keluarga, Hindari Bahaya Polusi...</td>\n",
       "      <td>Krjogja.com - Jakarta - Polusi udara di perkot...</td>\n",
       "      <td>https://news.google.com/rss/articles/CBMifGh0d...</td>\n",
       "      <td>https://static.promediateknologi.id/crop/0x0:0...</td>\n",
       "      <td>Krjogja</td>\n",
       "      <td>2023-09-16 02:10:00</td>\n",
       "      <td>2023-09-16</td>\n",
       "    </tr>\n",
       "    <tr>\n",
       "      <th>16</th>\n",
       "      <td>902</td>\n",
       "      <td>polusi udara</td>\n",
       "      <td>Kemelut Polusi Udara Jakarta: Inkonsistensi Da...</td>\n",
       "      <td>A+ A-Belakangan ini masyarakat Indonesia tenga...</td>\n",
       "      <td>https://news.google.com/rss/articles/CBMidWh0d...</td>\n",
       "      <td>https://rm.id/images/img_bg/img-185x137.jpg</td>\n",
       "      <td>RM.ID</td>\n",
       "      <td>2023-09-16 01:38:00</td>\n",
       "      <td>2023-09-16</td>\n",
       "    </tr>\n",
       "    <tr>\n",
       "      <th>17</th>\n",
       "      <td>903</td>\n",
       "      <td>kebakaran hutan</td>\n",
       "      <td>Ekonomi Hijau dan Kebakaran Hutan - BALIPOST.com</td>\n",
       "      <td>Oleh I Wayan RamanthaEkonomi hijau atau green ...</td>\n",
       "      <td>https://news.google.com/rss/articles/CBMiVmh0d...</td>\n",
       "      <td>https://www.balipost.com/wp-content/uploads/20...</td>\n",
       "      <td>BALIPOST.com</td>\n",
       "      <td>2023-09-16 00:51:24</td>\n",
       "      <td>2023-09-16</td>\n",
       "    </tr>\n",
       "    <tr>\n",
       "      <th>18</th>\n",
       "      <td>891</td>\n",
       "      <td>polusi udara</td>\n",
       "      <td>5 Tips untuk Menghadapi Kualitas Udara yang Bu...</td>\n",
       "      <td>Fimela.com, Jakarta Akhir-akhir ini, polusi ud...</td>\n",
       "      <td>https://news.google.com/rss/articles/CBMiX2h0d...</td>\n",
       "      <td>https://cdn0-production-images-kly.akamaized.n...</td>\n",
       "      <td>Fimela.com</td>\n",
       "      <td>2023-09-16 06:00:00</td>\n",
       "      <td>2023-09-16</td>\n",
       "    </tr>\n",
       "    <tr>\n",
       "      <th>19</th>\n",
       "      <td>899</td>\n",
       "      <td>kebakaran lahan</td>\n",
       "      <td>Asap Kebakaran Lahan Selimuti Jalan Lintas Sum...</td>\n",
       "      <td>Sabtu, 16 September 2023 | 09:53 WIBKOMPAS.TV ...</td>\n",
       "      <td>https://news.google.com/rss/articles/CBMif2h0d...</td>\n",
       "      <td>https://media-origin.kompas.tv/lestari/desktop...</td>\n",
       "      <td>Kompas TV</td>\n",
       "      <td>2023-09-16 02:52:00</td>\n",
       "      <td>2023-09-16</td>\n",
       "    </tr>\n",
       "    <tr>\n",
       "      <th>20</th>\n",
       "      <td>892</td>\n",
       "      <td>polusi udara</td>\n",
       "      <td>Mobilitas Warga Jangan Jadi Kambing Hitam Polu...</td>\n",
       "      <td>Liputan6.com, Jakarta Peneliti Institute for D...</td>\n",
       "      <td>https://news.google.com/rss/articles/CBMieWh0d...</td>\n",
       "      <td>https://bisnis.liputan6.com/widgets-nocache/an...</td>\n",
       "      <td>Liputan6.com</td>\n",
       "      <td>2023-09-16 05:30:49</td>\n",
       "      <td>2023-09-16</td>\n",
       "    </tr>\n",
       "    <tr>\n",
       "      <th>21</th>\n",
       "      <td>893</td>\n",
       "      <td>kebakaran hutan</td>\n",
       "      <td>Proses Pemadaman Kebakaran Hutan dan Lahan di ...</td>\n",
       "      <td>Sabtu, 16 September 2023 | 11:47 WIBBANJARBARU...</td>\n",
       "      <td>https://news.google.com/rss/articles/CBMidmh0d...</td>\n",
       "      <td>https://media-origin.kompas.tv/library/image/t...</td>\n",
       "      <td>Kompas TV</td>\n",
       "      <td>2023-09-16 04:47:00</td>\n",
       "      <td>2023-09-16</td>\n",
       "    </tr>\n",
       "    <tr>\n",
       "      <th>22</th>\n",
       "      <td>894</td>\n",
       "      <td>polusi udara</td>\n",
       "      <td>Muhadjir Effendy Ajak Warga Kurangi Polusi Uda...</td>\n",
       "      <td>JAKARTA, KOMPAS.com - Menteri Koordinator Pemb...</td>\n",
       "      <td>https://news.google.com/rss/articles/CBMiemh0d...</td>\n",
       "      <td>https://asset.kompas.com/crops/U_xaK7zewVOQmlw...</td>\n",
       "      <td>Megapolitan Kompas.com</td>\n",
       "      <td>2023-09-16 04:37:00</td>\n",
       "      <td>2023-09-16</td>\n",
       "    </tr>\n",
       "    <tr>\n",
       "      <th>23</th>\n",
       "      <td>895</td>\n",
       "      <td>kebakaran hutan</td>\n",
       "      <td>Peduli Lingkungan, Babinsa Sosialisasikan Sisk...</td>\n",
       "      <td>Leuwisadeng-Dalam upaya mencegah kebakaran hut...</td>\n",
       "      <td>https://news.google.com/rss/articles/CBMiowFod...</td>\n",
       "      <td>https://assets.kompasiana.com/items/album/2023...</td>\n",
       "      <td>Kompasiana.com</td>\n",
       "      <td>2023-09-16 04:02:31</td>\n",
       "      <td>2023-09-16</td>\n",
       "    </tr>\n",
       "    <tr>\n",
       "      <th>24</th>\n",
       "      <td>896</td>\n",
       "      <td>kebakaran lahan</td>\n",
       "      <td>Jembatan Tol Cisumdawu Nyaris Terbakar, Meremb...</td>\n",
       "      <td>RADARSUMEDANG.id, PAMULIHAN – Kebun bambu di D...</td>\n",
       "      <td>https://news.google.com/rss/articles/CBMifmh0d...</td>\n",
       "      <td>https://sumedang.radarbandung.id/wp-content/up...</td>\n",
       "      <td>Radar Sumedang</td>\n",
       "      <td>2023-09-16 03:47:55</td>\n",
       "      <td>2023-09-16</td>\n",
       "    </tr>\n",
       "    <tr>\n",
       "      <th>25</th>\n",
       "      <td>897</td>\n",
       "      <td>kebakaran hutan</td>\n",
       "      <td>WO Prewedding Ancam Polisikan Pengelola Bromo ...</td>\n",
       "      <td>--Wedding Organizer prewedding penyulut flare ...</td>\n",
       "      <td>https://news.google.com/rss/articles/CBMifWh0d...</td>\n",
       "      <td>https://akcdn.detik.net.id/visual/2023/09/16/k...</td>\n",
       "      <td>CNN Indonesia</td>\n",
       "      <td>2023-09-16 02:55:00</td>\n",
       "      <td>2023-09-16</td>\n",
       "    </tr>\n",
       "    <tr>\n",
       "      <th>26</th>\n",
       "      <td>898</td>\n",
       "      <td>kebakaran lahan</td>\n",
       "      <td>WO Prewedding Ancam Polisikan Pengelola Bromo ...</td>\n",
       "      <td>--Wedding Organizer prewedding penyulut flare ...</td>\n",
       "      <td>https://news.google.com/rss/articles/CBMifWh0d...</td>\n",
       "      <td>https://akcdn.detik.net.id/visual/2023/09/16/k...</td>\n",
       "      <td>CNN Indonesia</td>\n",
       "      <td>2023-09-16 02:55:00</td>\n",
       "      <td>2023-09-16</td>\n",
       "    </tr>\n",
       "    <tr>\n",
       "      <th>27</th>\n",
       "      <td>919</td>\n",
       "      <td>kebakaran hutan</td>\n",
       "      <td>Alasan Kebakaran Hutan Sulit Untuk Dipadamkan ...</td>\n",
       "      <td>Kebakaran hutan sering terjadi saat musim kema...</td>\n",
       "      <td>https://news.google.com/rss/articles/CBMidGh0d...</td>\n",
       "      <td>https://assets-a1.kompasiana.com/images/avatar...</td>\n",
       "      <td>Kompasiana.com</td>\n",
       "      <td>2023-09-16 02:48:29</td>\n",
       "      <td>2023-09-16</td>\n",
       "    </tr>\n",
       "    <tr>\n",
       "      <th>28</th>\n",
       "      <td>920</td>\n",
       "      <td>polusi udara</td>\n",
       "      <td>Jaga Kesehatan Keluarga, Hindari Bahaya Polusi...</td>\n",
       "      <td>Krjogja.com - Jakarta - Polusi udara di perkot...</td>\n",
       "      <td>https://news.google.com/rss/articles/CBMifGh0d...</td>\n",
       "      <td>https://static.promediateknologi.id/crop/0x0:0...</td>\n",
       "      <td>Krjogja</td>\n",
       "      <td>2023-09-16 02:10:00</td>\n",
       "      <td>2023-09-16</td>\n",
       "    </tr>\n",
       "    <tr>\n",
       "      <th>29</th>\n",
       "      <td>921</td>\n",
       "      <td>kebakaran hutan</td>\n",
       "      <td>Imbas Kebakaran Hutan dan Lahan di Ketapang, P...</td>\n",
       "      <td>Sabtu, 16 September 2023 | 13:40 WIBKETAPANG, ...</td>\n",
       "      <td>https://news.google.com/rss/articles/CBMiZGh0d...</td>\n",
       "      <td>https://media-origin.kompas.tv/lestari/desktop...</td>\n",
       "      <td>Kompas TV</td>\n",
       "      <td>2023-09-16 06:40:00</td>\n",
       "      <td>2023-09-16</td>\n",
       "    </tr>\n",
       "    <tr>\n",
       "      <th>30</th>\n",
       "      <td>922</td>\n",
       "      <td>polusi udara</td>\n",
       "      <td>Memperingati Hari Ozon Internasional: Penyadar...</td>\n",
       "      <td>Sama seperti yang diungkapkan oleh Soemarwoto ...</td>\n",
       "      <td>https://news.google.com/rss/articles/CBMieGh0d...</td>\n",
       "      <td>https://blue.kumparan.com/image/upload/fl_prog...</td>\n",
       "      <td>kumparan.com</td>\n",
       "      <td>2023-09-16 06:32:08</td>\n",
       "      <td>2023-09-16</td>\n",
       "    </tr>\n",
       "    <tr>\n",
       "      <th>31</th>\n",
       "      <td>923</td>\n",
       "      <td>polusi udara</td>\n",
       "      <td>5 Tips untuk Menghadapi Kualitas Udara yang Bu...</td>\n",
       "      <td>Fimela.com, Jakarta Akhir-akhir ini, polusi ud...</td>\n",
       "      <td>https://news.google.com/rss/articles/CBMiX2h0d...</td>\n",
       "      <td>https://cdn1-production-images-kly.akamaized.n...</td>\n",
       "      <td>Fimela.com</td>\n",
       "      <td>2023-09-16 06:00:00</td>\n",
       "      <td>2023-09-16</td>\n",
       "    </tr>\n",
       "    <tr>\n",
       "      <th>32</th>\n",
       "      <td>924</td>\n",
       "      <td>polusi udara</td>\n",
       "      <td>Kemelut Polusi Udara Jakarta: Inkonsistensi Da...</td>\n",
       "      <td>A+ A-Belakangan ini masyarakat Indonesia tenga...</td>\n",
       "      <td>https://news.google.com/rss/articles/CBMidWh0d...</td>\n",
       "      <td>https://rm.id/images/logo-pandi.png</td>\n",
       "      <td>RM.ID</td>\n",
       "      <td>2023-09-16 01:38:00</td>\n",
       "      <td>2023-09-16</td>\n",
       "    </tr>\n",
       "    <tr>\n",
       "      <th>33</th>\n",
       "      <td>925</td>\n",
       "      <td>kebakaran hutan</td>\n",
       "      <td>Ekonomi Hijau dan Kebakaran Hutan | BALIPOST.c...</td>\n",
       "      <td>Oleh I Wayan RamanthaEkonomi hijau atau green ...</td>\n",
       "      <td>https://news.google.com/rss/articles/CBMiVmh0d...</td>\n",
       "      <td>https://www.balipost.com/wp-content/uploads/20...</td>\n",
       "      <td>BALIPOST.com</td>\n",
       "      <td>2023-09-16 00:51:24</td>\n",
       "      <td>2023-09-16</td>\n",
       "    </tr>\n",
       "    <tr>\n",
       "      <th>34</th>\n",
       "      <td>931</td>\n",
       "      <td>polusi udara</td>\n",
       "      <td>Menjaga Kesehatan Ditengah Kondisi Buruknya Po...</td>\n",
       "      <td>BATASTIMOR.COM - Polres Metro Jakarta Barat me...</td>\n",
       "      <td>https://news.google.com/rss/articles/CBMikwFod...</td>\n",
       "      <td>https://static.promediateknologi.id/crop/5x296...</td>\n",
       "      <td>Batas Timor</td>\n",
       "      <td>2023-09-16 00:41:00</td>\n",
       "      <td>2023-09-16</td>\n",
       "    </tr>\n",
       "    <tr>\n",
       "      <th>35</th>\n",
       "      <td>926</td>\n",
       "      <td>polusi udara</td>\n",
       "      <td>Mobilitas Warga Jangan Jadi Kambing Hitam Polu...</td>\n",
       "      <td>Liputan6.com, Jakarta Peneliti Institute for D...</td>\n",
       "      <td>https://news.google.com/rss/articles/CBMieWh0d...</td>\n",
       "      <td>https://cdn-production-assets-kly.akamaized.ne...</td>\n",
       "      <td>Liputan6.com</td>\n",
       "      <td>2023-09-16 05:30:49</td>\n",
       "      <td>2023-09-16</td>\n",
       "    </tr>\n",
       "    <tr>\n",
       "      <th>36</th>\n",
       "      <td>927</td>\n",
       "      <td>kebakaran hutan</td>\n",
       "      <td>Proses Pemadaman Kebakaran Hutan dan Lahan di ...</td>\n",
       "      <td>Sabtu, 16 September 2023 | 11:47 WIBBANJARBARU...</td>\n",
       "      <td>https://news.google.com/rss/articles/CBMidmh0d...</td>\n",
       "      <td>https://media-origin.kompas.tv/lestari/desktop...</td>\n",
       "      <td>Kompas TV</td>\n",
       "      <td>2023-09-16 04:47:00</td>\n",
       "      <td>2023-09-16</td>\n",
       "    </tr>\n",
       "    <tr>\n",
       "      <th>37</th>\n",
       "      <td>928</td>\n",
       "      <td>polusi udara</td>\n",
       "      <td>Muhadjir Effendy Ajak Warga Kurangi Polusi Uda...</td>\n",
       "      <td>JAKARTA, KOMPAS.com - Menteri Koordinator Pemb...</td>\n",
       "      <td>https://news.google.com/rss/articles/CBMiemh0d...</td>\n",
       "      <td>https://asset.kompas.com/crops/vYCvHLmXaAzS5pb...</td>\n",
       "      <td>Megapolitan Kompas.com</td>\n",
       "      <td>2023-09-16 04:37:00</td>\n",
       "      <td>2023-09-16</td>\n",
       "    </tr>\n",
       "    <tr>\n",
       "      <th>38</th>\n",
       "      <td>929</td>\n",
       "      <td>kebakaran hutan</td>\n",
       "      <td>Peduli Lingkungan, Babinsa Sosialisasikan Sisk...</td>\n",
       "      <td>Leuwisadeng-Dalam upaya mencegah kebakaran hut...</td>\n",
       "      <td>https://news.google.com/rss/articles/CBMiowFod...</td>\n",
       "      <td>https://assets.kompasiana.com/items/category/4...</td>\n",
       "      <td>Kompasiana.com</td>\n",
       "      <td>2023-09-16 04:02:31</td>\n",
       "      <td>2023-09-16</td>\n",
       "    </tr>\n",
       "    <tr>\n",
       "      <th>39</th>\n",
       "      <td>930</td>\n",
       "      <td>kebakaran hutan</td>\n",
       "      <td>WO Prewedding Ancam Polisikan Pengelola Bromo ...</td>\n",
       "      <td>--Wedding Organizer prewedding penyulut flare ...</td>\n",
       "      <td>https://news.google.com/rss/articles/CBMifWh0d...</td>\n",
       "      <td>https://akcdn.detik.net.id/visual/2023/09/16/h...</td>\n",
       "      <td>CNN Indonesia</td>\n",
       "      <td>2023-09-16 02:55:00</td>\n",
       "      <td>2023-09-16</td>\n",
       "    </tr>\n",
       "  </tbody>\n",
       "</table>\n",
       "</div>"
      ],
      "text/plain": [
       "     id         keywords                                              title  \\\n",
       "0   833  kebakaran hutan  Alasan Kebakaran Hutan Sulit Untuk Dipadamkan ...   \n",
       "1   834     polusi udara  Jaga Kesehatan Keluarga, Hindari Bahaya Polusi...   \n",
       "2   824  kebakaran hutan  Imbas Kebakaran Hutan dan Lahan di Ketapang, P...   \n",
       "3   825     polusi udara  Memperingati Hari Ozon Internasional: Penyadar...   \n",
       "4   826     polusi udara  5 Tips untuk Menghadapi Kualitas Udara yang Bu...   \n",
       "5   835     polusi udara  Kemelut Polusi Udara Jakarta: Inkonsistensi Da...   \n",
       "6   836  kebakaran hutan  Ekonomi Hijau dan Kebakaran Hutan | BALIPOST.c...   \n",
       "7   827     polusi udara  Mobilitas Warga Jangan Jadi Kambing Hitam Polu...   \n",
       "8   828  kebakaran hutan  Foto: Kebakaran Hutan dan Lahan Gunung Bromo B...   \n",
       "9   829  kebakaran hutan  Proses Pemadaman Kebakaran Hutan dan Lahan di ...   \n",
       "10  830     polusi udara  Muhadjir Effendy Ajak Warga Kurangi Polusi Uda...   \n",
       "11  831  kebakaran hutan  Peduli Lingkungan, Babinsa Sosialisasikan Sisk...   \n",
       "12  832  kebakaran hutan  WO Prewedding Ancam Polisikan Pengelola Bromo ...   \n",
       "13  837     polusi udara  Menjaga Kesehatan Ditengah Kondisi Buruknya Po...   \n",
       "14  900  kebakaran hutan  Alasan Kebakaran Hutan Sulit Untuk Dipadamkan ...   \n",
       "15  901     polusi udara  Jaga Kesehatan Keluarga, Hindari Bahaya Polusi...   \n",
       "16  902     polusi udara  Kemelut Polusi Udara Jakarta: Inkonsistensi Da...   \n",
       "17  903  kebakaran hutan   Ekonomi Hijau dan Kebakaran Hutan - BALIPOST.com   \n",
       "18  891     polusi udara  5 Tips untuk Menghadapi Kualitas Udara yang Bu...   \n",
       "19  899  kebakaran lahan  Asap Kebakaran Lahan Selimuti Jalan Lintas Sum...   \n",
       "20  892     polusi udara  Mobilitas Warga Jangan Jadi Kambing Hitam Polu...   \n",
       "21  893  kebakaran hutan  Proses Pemadaman Kebakaran Hutan dan Lahan di ...   \n",
       "22  894     polusi udara  Muhadjir Effendy Ajak Warga Kurangi Polusi Uda...   \n",
       "23  895  kebakaran hutan  Peduli Lingkungan, Babinsa Sosialisasikan Sisk...   \n",
       "24  896  kebakaran lahan  Jembatan Tol Cisumdawu Nyaris Terbakar, Meremb...   \n",
       "25  897  kebakaran hutan  WO Prewedding Ancam Polisikan Pengelola Bromo ...   \n",
       "26  898  kebakaran lahan  WO Prewedding Ancam Polisikan Pengelola Bromo ...   \n",
       "27  919  kebakaran hutan  Alasan Kebakaran Hutan Sulit Untuk Dipadamkan ...   \n",
       "28  920     polusi udara  Jaga Kesehatan Keluarga, Hindari Bahaya Polusi...   \n",
       "29  921  kebakaran hutan  Imbas Kebakaran Hutan dan Lahan di Ketapang, P...   \n",
       "30  922     polusi udara  Memperingati Hari Ozon Internasional: Penyadar...   \n",
       "31  923     polusi udara  5 Tips untuk Menghadapi Kualitas Udara yang Bu...   \n",
       "32  924     polusi udara  Kemelut Polusi Udara Jakarta: Inkonsistensi Da...   \n",
       "33  925  kebakaran hutan  Ekonomi Hijau dan Kebakaran Hutan | BALIPOST.c...   \n",
       "34  931     polusi udara  Menjaga Kesehatan Ditengah Kondisi Buruknya Po...   \n",
       "35  926     polusi udara  Mobilitas Warga Jangan Jadi Kambing Hitam Polu...   \n",
       "36  927  kebakaran hutan  Proses Pemadaman Kebakaran Hutan dan Lahan di ...   \n",
       "37  928     polusi udara  Muhadjir Effendy Ajak Warga Kurangi Polusi Uda...   \n",
       "38  929  kebakaran hutan  Peduli Lingkungan, Babinsa Sosialisasikan Sisk...   \n",
       "39  930  kebakaran hutan  WO Prewedding Ancam Polisikan Pengelola Bromo ...   \n",
       "\n",
       "                                         article_text  \\\n",
       "0   Kebakaran hutan sering terjadi saat musim kema...   \n",
       "1   Krjogja.com - Jakarta - Polusi udara di perkot...   \n",
       "2   Sabtu, 16 September 2023 | 13:40 WIBKETAPANG, ...   \n",
       "3   Sama seperti yang diungkapkan oleh Soemarwoto ...   \n",
       "4   Fimela.com, Jakarta Akhir-akhir ini, polusi ud...   \n",
       "5   A+ A-Belakangan ini masyarakat Indonesia tenga...   \n",
       "6   Oleh I Wayan RamanthaEkonomi hijau atau green ...   \n",
       "7   Liputan6.com, Jakarta Peneliti Institute for D...   \n",
       "8   Balai Besar Taman Nasional Bromo Tengger Semer...   \n",
       "9   Sabtu, 16 September 2023 | 11:47 WIBBANJARBARU...   \n",
       "10  JAKARTA, KOMPAS.com - Menteri Koordinator Pemb...   \n",
       "11  Leuwisadeng-Dalam upaya mencegah kebakaran hut...   \n",
       "12  --Wedding Organizer prewedding penyulut flare ...   \n",
       "13  BATASTIMOR.COM - Polres Metro Jakarta Barat me...   \n",
       "14  Kebakaran hutan sering terjadi saat musim kema...   \n",
       "15  Krjogja.com - Jakarta - Polusi udara di perkot...   \n",
       "16  A+ A-Belakangan ini masyarakat Indonesia tenga...   \n",
       "17  Oleh I Wayan RamanthaEkonomi hijau atau green ...   \n",
       "18  Fimela.com, Jakarta Akhir-akhir ini, polusi ud...   \n",
       "19  Sabtu, 16 September 2023 | 09:53 WIBKOMPAS.TV ...   \n",
       "20  Liputan6.com, Jakarta Peneliti Institute for D...   \n",
       "21  Sabtu, 16 September 2023 | 11:47 WIBBANJARBARU...   \n",
       "22  JAKARTA, KOMPAS.com - Menteri Koordinator Pemb...   \n",
       "23  Leuwisadeng-Dalam upaya mencegah kebakaran hut...   \n",
       "24  RADARSUMEDANG.id, PAMULIHAN – Kebun bambu di D...   \n",
       "25  --Wedding Organizer prewedding penyulut flare ...   \n",
       "26  --Wedding Organizer prewedding penyulut flare ...   \n",
       "27  Kebakaran hutan sering terjadi saat musim kema...   \n",
       "28  Krjogja.com - Jakarta - Polusi udara di perkot...   \n",
       "29  Sabtu, 16 September 2023 | 13:40 WIBKETAPANG, ...   \n",
       "30  Sama seperti yang diungkapkan oleh Soemarwoto ...   \n",
       "31  Fimela.com, Jakarta Akhir-akhir ini, polusi ud...   \n",
       "32  A+ A-Belakangan ini masyarakat Indonesia tenga...   \n",
       "33  Oleh I Wayan RamanthaEkonomi hijau atau green ...   \n",
       "34  BATASTIMOR.COM - Polres Metro Jakarta Barat me...   \n",
       "35  Liputan6.com, Jakarta Peneliti Institute for D...   \n",
       "36  Sabtu, 16 September 2023 | 11:47 WIBBANJARBARU...   \n",
       "37  JAKARTA, KOMPAS.com - Menteri Koordinator Pemb...   \n",
       "38  Leuwisadeng-Dalam upaya mencegah kebakaran hut...   \n",
       "39  --Wedding Organizer prewedding penyulut flare ...   \n",
       "\n",
       "                                                  url  \\\n",
       "0   https://news.google.com/rss/articles/CBMidGh0d...   \n",
       "1   https://news.google.com/rss/articles/CBMifGh0d...   \n",
       "2   https://news.google.com/rss/articles/CBMiZGh0d...   \n",
       "3   https://news.google.com/rss/articles/CBMieGh0d...   \n",
       "4   https://news.google.com/rss/articles/CBMiX2h0d...   \n",
       "5   https://news.google.com/rss/articles/CBMidWh0d...   \n",
       "6   https://news.google.com/rss/articles/CBMiVmh0d...   \n",
       "7   https://news.google.com/rss/articles/CBMieWh0d...   \n",
       "8   https://news.google.com/rss/articles/CBMibWh0d...   \n",
       "9   https://news.google.com/rss/articles/CBMidmh0d...   \n",
       "10  https://news.google.com/rss/articles/CBMiemh0d...   \n",
       "11  https://news.google.com/rss/articles/CBMiowFod...   \n",
       "12  https://news.google.com/rss/articles/CBMifWh0d...   \n",
       "13  https://news.google.com/rss/articles/CBMikwFod...   \n",
       "14  https://news.google.com/rss/articles/CBMidGh0d...   \n",
       "15  https://news.google.com/rss/articles/CBMifGh0d...   \n",
       "16  https://news.google.com/rss/articles/CBMidWh0d...   \n",
       "17  https://news.google.com/rss/articles/CBMiVmh0d...   \n",
       "18  https://news.google.com/rss/articles/CBMiX2h0d...   \n",
       "19  https://news.google.com/rss/articles/CBMif2h0d...   \n",
       "20  https://news.google.com/rss/articles/CBMieWh0d...   \n",
       "21  https://news.google.com/rss/articles/CBMidmh0d...   \n",
       "22  https://news.google.com/rss/articles/CBMiemh0d...   \n",
       "23  https://news.google.com/rss/articles/CBMiowFod...   \n",
       "24  https://news.google.com/rss/articles/CBMifmh0d...   \n",
       "25  https://news.google.com/rss/articles/CBMifWh0d...   \n",
       "26  https://news.google.com/rss/articles/CBMifWh0d...   \n",
       "27  https://news.google.com/rss/articles/CBMidGh0d...   \n",
       "28  https://news.google.com/rss/articles/CBMifGh0d...   \n",
       "29  https://news.google.com/rss/articles/CBMiZGh0d...   \n",
       "30  https://news.google.com/rss/articles/CBMieGh0d...   \n",
       "31  https://news.google.com/rss/articles/CBMiX2h0d...   \n",
       "32  https://news.google.com/rss/articles/CBMidWh0d...   \n",
       "33  https://news.google.com/rss/articles/CBMiVmh0d...   \n",
       "34  https://news.google.com/rss/articles/CBMikwFod...   \n",
       "35  https://news.google.com/rss/articles/CBMieWh0d...   \n",
       "36  https://news.google.com/rss/articles/CBMidmh0d...   \n",
       "37  https://news.google.com/rss/articles/CBMiemh0d...   \n",
       "38  https://news.google.com/rss/articles/CBMiowFod...   \n",
       "39  https://news.google.com/rss/articles/CBMifWh0d...   \n",
       "\n",
       "                                                image               publisher  \\\n",
       "0   https://assets-a1.kompasiana.com/images/avatar...          Kompasiana.com   \n",
       "1   https://static.promediateknologi.id/crop/0x0:0...                 Krjogja   \n",
       "2   https://media-origin.kompas.tv/lestari/desktop...               Kompas TV   \n",
       "3   https://blue.kumparan.com/image/upload/fl_prog...            kumparan.com   \n",
       "4   https://cdn1-production-images-kly.akamaized.n...              Fimela.com   \n",
       "5                 https://rm.id/images/logo-pandi.png                   RM.ID   \n",
       "6   https://www.balipost.com/wp-content/uploads/20...            BALIPOST.com   \n",
       "7   https://cdn-production-assets-kly.akamaized.ne...            Liputan6.com   \n",
       "8   https://blue.kumparan.com/image/upload/fl_prog...            kumparan.com   \n",
       "9   https://media-origin.kompas.tv/lestari/desktop...               Kompas TV   \n",
       "10  https://asset.kompas.com/crops/vYCvHLmXaAzS5pb...  Megapolitan Kompas.com   \n",
       "11  https://assets.kompasiana.com/items/category/4...          Kompasiana.com   \n",
       "12  https://akcdn.detik.net.id/visual/2023/09/16/h...           CNN Indonesia   \n",
       "13  https://static.promediateknologi.id/crop/5x296...             Batas Timor   \n",
       "14  https://assets-a2.kompasiana.com/items/album/2...          Kompasiana.com   \n",
       "15  https://static.promediateknologi.id/crop/0x0:0...                 Krjogja   \n",
       "16        https://rm.id/images/img_bg/img-185x137.jpg                   RM.ID   \n",
       "17  https://www.balipost.com/wp-content/uploads/20...            BALIPOST.com   \n",
       "18  https://cdn0-production-images-kly.akamaized.n...              Fimela.com   \n",
       "19  https://media-origin.kompas.tv/lestari/desktop...               Kompas TV   \n",
       "20  https://bisnis.liputan6.com/widgets-nocache/an...            Liputan6.com   \n",
       "21  https://media-origin.kompas.tv/library/image/t...               Kompas TV   \n",
       "22  https://asset.kompas.com/crops/U_xaK7zewVOQmlw...  Megapolitan Kompas.com   \n",
       "23  https://assets.kompasiana.com/items/album/2023...          Kompasiana.com   \n",
       "24  https://sumedang.radarbandung.id/wp-content/up...          Radar Sumedang   \n",
       "25  https://akcdn.detik.net.id/visual/2023/09/16/k...           CNN Indonesia   \n",
       "26  https://akcdn.detik.net.id/visual/2023/09/16/k...           CNN Indonesia   \n",
       "27  https://assets-a1.kompasiana.com/images/avatar...          Kompasiana.com   \n",
       "28  https://static.promediateknologi.id/crop/0x0:0...                 Krjogja   \n",
       "29  https://media-origin.kompas.tv/lestari/desktop...               Kompas TV   \n",
       "30  https://blue.kumparan.com/image/upload/fl_prog...            kumparan.com   \n",
       "31  https://cdn1-production-images-kly.akamaized.n...              Fimela.com   \n",
       "32                https://rm.id/images/logo-pandi.png                   RM.ID   \n",
       "33  https://www.balipost.com/wp-content/uploads/20...            BALIPOST.com   \n",
       "34  https://static.promediateknologi.id/crop/5x296...             Batas Timor   \n",
       "35  https://cdn-production-assets-kly.akamaized.ne...            Liputan6.com   \n",
       "36  https://media-origin.kompas.tv/lestari/desktop...               Kompas TV   \n",
       "37  https://asset.kompas.com/crops/vYCvHLmXaAzS5pb...  Megapolitan Kompas.com   \n",
       "38  https://assets.kompasiana.com/items/category/4...          Kompasiana.com   \n",
       "39  https://akcdn.detik.net.id/visual/2023/09/16/h...           CNN Indonesia   \n",
       "\n",
       "        published_time published_date  \n",
       "0  2023-09-16 02:48:29     2023-09-16  \n",
       "1  2023-09-16 02:10:00     2023-09-16  \n",
       "2  2023-09-16 06:40:00     2023-09-16  \n",
       "3  2023-09-16 06:32:08     2023-09-16  \n",
       "4  2023-09-16 06:00:00     2023-09-16  \n",
       "5  2023-09-16 01:38:00     2023-09-16  \n",
       "6  2023-09-16 00:51:24     2023-09-16  \n",
       "7  2023-09-16 05:30:49     2023-09-16  \n",
       "8  2023-09-16 05:14:36     2023-09-16  \n",
       "9  2023-09-16 04:47:00     2023-09-16  \n",
       "10 2023-09-16 04:37:00     2023-09-16  \n",
       "11 2023-09-16 04:02:31     2023-09-16  \n",
       "12 2023-09-16 02:55:00     2023-09-16  \n",
       "13 2023-09-16 00:41:00     2023-09-16  \n",
       "14 2023-09-16 02:48:29     2023-09-16  \n",
       "15 2023-09-16 02:10:00     2023-09-16  \n",
       "16 2023-09-16 01:38:00     2023-09-16  \n",
       "17 2023-09-16 00:51:24     2023-09-16  \n",
       "18 2023-09-16 06:00:00     2023-09-16  \n",
       "19 2023-09-16 02:52:00     2023-09-16  \n",
       "20 2023-09-16 05:30:49     2023-09-16  \n",
       "21 2023-09-16 04:47:00     2023-09-16  \n",
       "22 2023-09-16 04:37:00     2023-09-16  \n",
       "23 2023-09-16 04:02:31     2023-09-16  \n",
       "24 2023-09-16 03:47:55     2023-09-16  \n",
       "25 2023-09-16 02:55:00     2023-09-16  \n",
       "26 2023-09-16 02:55:00     2023-09-16  \n",
       "27 2023-09-16 02:48:29     2023-09-16  \n",
       "28 2023-09-16 02:10:00     2023-09-16  \n",
       "29 2023-09-16 06:40:00     2023-09-16  \n",
       "30 2023-09-16 06:32:08     2023-09-16  \n",
       "31 2023-09-16 06:00:00     2023-09-16  \n",
       "32 2023-09-16 01:38:00     2023-09-16  \n",
       "33 2023-09-16 00:51:24     2023-09-16  \n",
       "34 2023-09-16 00:41:00     2023-09-16  \n",
       "35 2023-09-16 05:30:49     2023-09-16  \n",
       "36 2023-09-16 04:47:00     2023-09-16  \n",
       "37 2023-09-16 04:37:00     2023-09-16  \n",
       "38 2023-09-16 04:02:31     2023-09-16  \n",
       "39 2023-09-16 02:55:00     2023-09-16  "
      ]
     },
     "execution_count": 8,
     "metadata": {},
     "output_type": "execute_result"
    }
   ],
   "source": [
    "articles"
   ]
  },
  {
   "cell_type": "code",
   "execution_count": 10,
   "metadata": {},
   "outputs": [
    {
     "data": {
      "text/plain": [
       "'https://media-origin.kompas.tv/lestari/desktop/img/lestari_biruv2.png'"
      ]
     },
     "execution_count": 10,
     "metadata": {},
     "output_type": "execute_result"
    }
   ],
   "source": [
    "image = articles[\"image\"][2]\n",
    "title = articles[\"title\"][2]\n",
    "url = articles[\"url\"][2]\n",
    "publish = articles[\"published_time\"][2]\n",
    "image"
   ]
  },
  {
   "cell_type": "code",
   "execution_count": 34,
   "metadata": {},
   "outputs": [
    {
     "data": {
      "text/plain": [
       "Card(children=[CardImg(src='https://akcdn.detik.net.id/community/media/visual/2023/09/05/nikita-willy-1_169.png?w=200&q=90', top=True), CardBody([P(children='Bupati Giri Sebut Kebakaran Hutan di Ponorogo Ada Unsur Kesengajaan - detikJatim', className='card-text'), Button(children='Go somewhere', color='primary')])], style={'width': '18rem'})"
      ]
     },
     "execution_count": 34,
     "metadata": {},
     "output_type": "execute_result"
    }
   ],
   "source": [
    "card = dbc.Card(\n",
    "    [\n",
    "        dbc.CardImg(src=image, top=True),\n",
    "        dbc.CardBody(\n",
    "            [\n",
    "                # html.H4(f\"{title}\", className=\"card-title\"),\n",
    "                html.P(\n",
    "                    f\"{title}\",\n",
    "                    className=\"card-text\",\n",
    "                ),\n",
    "                dbc.Button(\"Go somewhere\", color=\"primary\", href=f\"{url}\"),\n",
    "            ]\n",
    "        ),\n",
    "    ],\n",
    "    style={\"width\": \"18rem\"},\n",
    ")\n",
    "\n",
    "card"
   ]
  },
  {
   "cell_type": "code",
   "execution_count": 13,
   "metadata": {},
   "outputs": [],
   "source": [
    "card = dbc.Card(\n",
    "    [\n",
    "        dbc.Row(\n",
    "            [\n",
    "                dbc.Col(\n",
    "                    dbc.CardImg(\n",
    "                        src=image,\n",
    "                        className=\"img-fluid rounded-start\",\n",
    "                    ),\n",
    "                    className=\"col-md-4\",\n",
    "                ),\n",
    "                dbc.Col(\n",
    "                    dbc.CardBody(\n",
    "                        [\n",
    "                            html.H4(f\"{title}\", className=\"card-title\"),\n",
    "                            # html.P(\n",
    "                            #     \"This is a wider card with supporting text \"\n",
    "                            #     \"below as a natural lead-in to additional \"\n",
    "                            #     \"content. This content is a bit longer.\",\n",
    "                            #     className=\"card-text\",\n",
    "                            # ),\n",
    "                            html.Small(\n",
    "                                f\"Published date: {publish}\",\n",
    "                                className=\"card-text text-muted\",\n",
    "                            ),\n",
    "                        ]\n",
    "                    ),\n",
    "                    className=\"col-md-8\",\n",
    "                ),\n",
    "            ],\n",
    "            className=\"g-0 d-flex align-items-center\",\n",
    "        )\n",
    "    ],\n",
    "    className=\"mb-3\",\n",
    "    style={\"maxWidth\": \"540px\"},\n",
    "    color=\"warning\",\n",
    "    outline=True\n",
    ")"
   ]
  },
  {
   "cell_type": "code",
   "execution_count": 12,
   "metadata": {},
   "outputs": [],
   "source": [
    "import datetime\n",
    "import dash\n",
    "from dash import dcc, html\n",
    "from dash.dependencies import Input, Output, State\n",
    "import dash_bootstrap_components as dbc\n",
    "\n",
    "from src.procedures import generate_density_map, fetch_last_data, generate_line_chart, generate_top_prov, generate_top_kabkot\n",
    "\n",
    "from dotenv import dotenv_values\n",
    "\n",
    "config = dotenv_values(\"../.env\")\n",
    "CONNECTION_URI = config.get(\"CONNECTION_URI\")"
   ]
  },
  {
   "cell_type": "code",
   "execution_count": 10,
   "metadata": {},
   "outputs": [
    {
     "data": {
      "text/html": [
       "<div>\n",
       "<style scoped>\n",
       "    .dataframe tbody tr th:only-of-type {\n",
       "        vertical-align: middle;\n",
       "    }\n",
       "\n",
       "    .dataframe tbody tr th {\n",
       "        vertical-align: top;\n",
       "    }\n",
       "\n",
       "    .dataframe thead th {\n",
       "        text-align: right;\n",
       "    }\n",
       "</style>\n",
       "<table border=\"1\" class=\"dataframe\">\n",
       "  <thead>\n",
       "    <tr style=\"text-align: right;\">\n",
       "      <th></th>\n",
       "      <th>address</th>\n",
       "      <th>city</th>\n",
       "      <th>province</th>\n",
       "      <th>air_quality_index</th>\n",
       "      <th>category</th>\n",
       "      <th>updated_at</th>\n",
       "      <th>rn</th>\n",
       "    </tr>\n",
       "  </thead>\n",
       "  <tbody>\n",
       "    <tr>\n",
       "      <th>0</th>\n",
       "      <td>Simpang Icon City, Kota Palembang</td>\n",
       "      <td>Palembang</td>\n",
       "      <td>Sumatera Selatan</td>\n",
       "      <td>149</td>\n",
       "      <td>Tidak Sehat</td>\n",
       "      <td>2023-09-17 18:00:00</td>\n",
       "      <td>1</td>\n",
       "    </tr>\n",
       "    <tr>\n",
       "      <th>1</th>\n",
       "      <td>PM29+F87, Jl. Boulevard BSD Tim., Lengkong Gud...</td>\n",
       "      <td>Tangerang Selatan</td>\n",
       "      <td>Banten</td>\n",
       "      <td>118</td>\n",
       "      <td>Tidak Sehat</td>\n",
       "      <td>2023-09-17 18:00:00</td>\n",
       "      <td>1</td>\n",
       "    </tr>\n",
       "    <tr>\n",
       "      <th>2</th>\n",
       "      <td>Kantor Bupati Lama OI</td>\n",
       "      <td>Ogan Ilir</td>\n",
       "      <td>Sumatera Selatan</td>\n",
       "      <td>115</td>\n",
       "      <td>Tidak Sehat</td>\n",
       "      <td>2023-09-17 18:00:00</td>\n",
       "      <td>1</td>\n",
       "    </tr>\n",
       "    <tr>\n",
       "      <th>3</th>\n",
       "      <td>Bantar Gebang [MX2V+2C9, RT.001/RW.005, Ciketi...</td>\n",
       "      <td>Bekasi</td>\n",
       "      <td>Jawa Barat</td>\n",
       "      <td>113</td>\n",
       "      <td>Tidak Sehat</td>\n",
       "      <td>2023-09-17 18:00:00</td>\n",
       "      <td>1</td>\n",
       "    </tr>\n",
       "    <tr>\n",
       "      <th>4</th>\n",
       "      <td>4, Jl. Monumen Pancasila Sakti No.1, RT.4/RW.9...</td>\n",
       "      <td>Jakarta</td>\n",
       "      <td>DKI Jakarta</td>\n",
       "      <td>109</td>\n",
       "      <td>Tidak Sehat</td>\n",
       "      <td>2023-09-17 13:00:00</td>\n",
       "      <td>1</td>\n",
       "    </tr>\n",
       "    <tr>\n",
       "      <th>...</th>\n",
       "      <td>...</td>\n",
       "      <td>...</td>\n",
       "      <td>...</td>\n",
       "      <td>...</td>\n",
       "      <td>...</td>\n",
       "      <td>...</td>\n",
       "      <td>...</td>\n",
       "    </tr>\n",
       "    <tr>\n",
       "      <th>60</th>\n",
       "      <td>Wahno, Abepura, Kota Jayapura, Papua 99225, Ko...</td>\n",
       "      <td>Jayapura</td>\n",
       "      <td>Papua</td>\n",
       "      <td>28</td>\n",
       "      <td>Baik</td>\n",
       "      <td>2023-09-14 15:00:00</td>\n",
       "      <td>1</td>\n",
       "    </tr>\n",
       "    <tr>\n",
       "      <th>61</th>\n",
       "      <td>Jl. Jenderal Sudirman No.57, RW.11, Klandasan ...</td>\n",
       "      <td>Balikpapan</td>\n",
       "      <td>Kalimantan Timur</td>\n",
       "      <td>27</td>\n",
       "      <td>Baik</td>\n",
       "      <td>2023-09-17 18:00:00</td>\n",
       "      <td>1</td>\n",
       "    </tr>\n",
       "    <tr>\n",
       "      <th>62</th>\n",
       "      <td>Surabaya, Balongsari, Tandes, Kota Surabaya, J...</td>\n",
       "      <td>Surabaya</td>\n",
       "      <td>Jawa Timur</td>\n",
       "      <td>26</td>\n",
       "      <td>Baik</td>\n",
       "      <td>2023-09-17 18:00:00</td>\n",
       "      <td>1</td>\n",
       "    </tr>\n",
       "    <tr>\n",
       "      <th>63</th>\n",
       "      <td>Ktr. Kecamatan Wanea, Jl. 14 Februari No.72, T...</td>\n",
       "      <td>Manado</td>\n",
       "      <td>Sulawesi Utara</td>\n",
       "      <td>25</td>\n",
       "      <td>Baik</td>\n",
       "      <td>2023-09-17 18:00:00</td>\n",
       "      <td>1</td>\n",
       "    </tr>\n",
       "    <tr>\n",
       "      <th>64</th>\n",
       "      <td>Kantor Gubernur NTT, Oebobo, Kota Kupang , Nus...</td>\n",
       "      <td>Kupang</td>\n",
       "      <td>NTT</td>\n",
       "      <td>21</td>\n",
       "      <td>Baik</td>\n",
       "      <td>2023-09-17 18:00:00</td>\n",
       "      <td>1</td>\n",
       "    </tr>\n",
       "  </tbody>\n",
       "</table>\n",
       "<p>65 rows × 7 columns</p>\n",
       "</div>"
      ],
      "text/plain": [
       "                                              address               city  \\\n",
       "0                   Simpang Icon City, Kota Palembang          Palembang   \n",
       "1   PM29+F87, Jl. Boulevard BSD Tim., Lengkong Gud...  Tangerang Selatan   \n",
       "2                               Kantor Bupati Lama OI          Ogan Ilir   \n",
       "3   Bantar Gebang [MX2V+2C9, RT.001/RW.005, Ciketi...             Bekasi   \n",
       "4   4, Jl. Monumen Pancasila Sakti No.1, RT.4/RW.9...            Jakarta   \n",
       "..                                                ...                ...   \n",
       "60  Wahno, Abepura, Kota Jayapura, Papua 99225, Ko...           Jayapura   \n",
       "61  Jl. Jenderal Sudirman No.57, RW.11, Klandasan ...         Balikpapan   \n",
       "62  Surabaya, Balongsari, Tandes, Kota Surabaya, J...           Surabaya   \n",
       "63  Ktr. Kecamatan Wanea, Jl. 14 Februari No.72, T...             Manado   \n",
       "64  Kantor Gubernur NTT, Oebobo, Kota Kupang , Nus...             Kupang   \n",
       "\n",
       "            province  air_quality_index     category          updated_at  rn  \n",
       "0   Sumatera Selatan                149  Tidak Sehat 2023-09-17 18:00:00   1  \n",
       "1             Banten                118  Tidak Sehat 2023-09-17 18:00:00   1  \n",
       "2   Sumatera Selatan                115  Tidak Sehat 2023-09-17 18:00:00   1  \n",
       "3         Jawa Barat                113  Tidak Sehat 2023-09-17 18:00:00   1  \n",
       "4        DKI Jakarta                109  Tidak Sehat 2023-09-17 13:00:00   1  \n",
       "..               ...                ...          ...                 ...  ..  \n",
       "60             Papua                 28         Baik 2023-09-14 15:00:00   1  \n",
       "61  Kalimantan Timur                 27         Baik 2023-09-17 18:00:00   1  \n",
       "62        Jawa Timur                 26         Baik 2023-09-17 18:00:00   1  \n",
       "63    Sulawesi Utara                 25         Baik 2023-09-17 18:00:00   1  \n",
       "64               NTT                 21         Baik 2023-09-17 18:00:00   1  \n",
       "\n",
       "[65 rows x 7 columns]"
      ]
     },
     "execution_count": 10,
     "metadata": {},
     "output_type": "execute_result"
    }
   ],
   "source": [
    "CONNECTION_URI = config.get(\"CONNECTION_URI\")\n",
    "query = \"\"\"\n",
    "    WITH RANKED_DATA AS (\n",
    "    SELECT \n",
    "        address, city, province, air_quality_index, category, updated_at, \n",
    "        ROW_NUMBER() OVER (PARTITION BY address, city, province ORDER BY updated_at DESC) AS rn\n",
    "    FROM \n",
    "        air_quality_idn\n",
    "    WHERE \n",
    "        DATE(fetched_date) = CURRENT_DATE\n",
    "    )\n",
    "    SELECT \n",
    "        *\n",
    "    FROM \n",
    "        RANKED_DATA\n",
    "    WHERE \n",
    "        rn = 1\n",
    "    ORDER BY \n",
    "        air_quality_index DESC\n",
    "\"\"\"\n",
    "\n",
    "air_quality = fetch_last_data(query=query, uri_connection=CONNECTION_URI)\n",
    "air_quality = air_quality.to_pandas()\n",
    "\n",
    "air_quality[\"province\"] = air_quality[\"province\"].replace({\n",
    "    \"Dki Jakarta\":\"DKI Jakarta\", \"Ntt\":\"NTT\", \"Ntb\":\"NTB\", \"Nad\":\"Aceh\"\n",
    "})\n",
    "\n",
    "air_quality"
   ]
  },
  {
   "cell_type": "code",
   "execution_count": 11,
   "metadata": {},
   "outputs": [
    {
     "data": {
      "text/plain": [
       "array(['Sumatera Selatan', 'Banten', 'Jawa Barat', 'DKI Jakarta', 'Jambi',\n",
       "       'Sulawesi Tengah', 'Lampung', 'Riau', 'Kalimantan Selatan',\n",
       "       'Maluku Utara', 'Kalimantan Tengah', 'Kalimantan Timur',\n",
       "       'Kalimantan Barat', 'Jawa Tengah', 'Sumatera Barat', 'Yogyakarta',\n",
       "       'Bangka Belitung', 'Nusa Tenggara Barat', 'Sulawesi Selatan',\n",
       "       'Kepulauan Riau', 'Aceh', 'Sulawesi Tenggara', 'Gorontalo',\n",
       "       'Kalimantan_utara', 'Bali', 'Jawa Timur', 'Sulawesi Barat',\n",
       "       'Papua', 'Sulawesi Utara', 'NTT'], dtype=object)"
      ]
     },
     "execution_count": 11,
     "metadata": {},
     "output_type": "execute_result"
    }
   ],
   "source": [
    "air_quality.province.unique()"
   ]
  },
  {
   "cell_type": "code",
   "execution_count": null,
   "metadata": {},
   "outputs": [],
   "source": []
  },
  {
   "cell_type": "code",
   "execution_count": null,
   "metadata": {},
   "outputs": [],
   "source": []
  },
  {
   "cell_type": "code",
   "execution_count": 19,
   "metadata": {},
   "outputs": [
    {
     "data": {
      "text/html": [
       "<div>\n",
       "<style scoped>\n",
       "    .dataframe tbody tr th:only-of-type {\n",
       "        vertical-align: middle;\n",
       "    }\n",
       "\n",
       "    .dataframe tbody tr th {\n",
       "        vertical-align: top;\n",
       "    }\n",
       "\n",
       "    .dataframe thead th {\n",
       "        text-align: right;\n",
       "    }\n",
       "</style>\n",
       "<table border=\"1\" class=\"dataframe\">\n",
       "  <thead>\n",
       "    <tr style=\"text-align: right;\">\n",
       "      <th></th>\n",
       "      <th>aggregated_date</th>\n",
       "      <th>day_interval</th>\n",
       "      <th>daily_count</th>\n",
       "      <th>province_count</th>\n",
       "      <th>summary</th>\n",
       "      <th>timestampt</th>\n",
       "      <th>id</th>\n",
       "    </tr>\n",
       "  </thead>\n",
       "  <tbody>\n",
       "    <tr>\n",
       "      <th>0</th>\n",
       "      <td>2023-09-23</td>\n",
       "      <td>7</td>\n",
       "      <td>{\"columns\":[\"Tanggal\",\"total_fires\"],\"data\":[[...</td>\n",
       "      <td>{\"columns\":[\"Provinsi\",\"total_fires\"],\"data\":[...</td>\n",
       "      <td>None</td>\n",
       "      <td>2023-09-23 10:28:24.691368+00:00</td>\n",
       "      <td>1</td>\n",
       "    </tr>\n",
       "  </tbody>\n",
       "</table>\n",
       "</div>"
      ],
      "text/plain": [
       "  aggregated_date  day_interval  \\\n",
       "0      2023-09-23             7   \n",
       "\n",
       "                                         daily_count  \\\n",
       "0  {\"columns\":[\"Tanggal\",\"total_fires\"],\"data\":[[...   \n",
       "\n",
       "                                      province_count summary  \\\n",
       "0  {\"columns\":[\"Provinsi\",\"total_fires\"],\"data\":[...    None   \n",
       "\n",
       "                        timestampt  id  \n",
       "0 2023-09-23 10:28:24.691368+00:00   1  "
      ]
     },
     "execution_count": 19,
     "metadata": {},
     "output_type": "execute_result"
    }
   ],
   "source": [
    "# Retrieves the most recently updated data from the database\n",
    "value = [7, 15, 35]\n",
    "\n",
    "CONNECTION_URI = config.get(\"CONNECTION_URI\")\n",
    "query = f\"\"\"\n",
    "    SELECT *\n",
    "    FROM aggregated_fire_summary \n",
    "    WHERE aggregated_date = CURRENT_DATE and day_interval = {value[0]}\n",
    "    ORDER BY timestampt DESC\n",
    "    LIMIT 1\"\"\"\n",
    "\n",
    "summary = fetch_last_data(query=query, uri_connection=CONNECTION_URI)\n",
    "summary2 = summary.to_pandas()\n",
    "\n",
    "summary2"
   ]
  },
  {
   "cell_type": "code",
   "execution_count": 4,
   "metadata": {},
   "outputs": [],
   "source": [
    "from langchain.agents import create_pandas_dataframe_agent\n",
    "from langchain.agents.agent_types import AgentType\n",
    "from langchain.agents import initialize_agent\n",
    "from langchain.chat_models import ChatOpenAI"
   ]
  },
  {
   "cell_type": "code",
   "execution_count": 22,
   "metadata": {},
   "outputs": [],
   "source": [
    "def get_summary_event(data, api_key):\n",
    "    llm = ChatOpenAI(\n",
    "        model=\"gpt-3.5-turbo-0613\",\n",
    "        temperature=0.25,\n",
    "        openai_api_key=api_key\n",
    "        )\n",
    "    \n",
    "    agent = create_pandas_dataframe_agent(\n",
    "        llm,\n",
    "        data,\n",
    "        verbose=True,\n",
    "        agent_type=AgentType.OPENAI_FUNCTIONS\n",
    "        )\n",
    "    \n",
    "    \n",
    "    response = agent(\n",
    "        \"\"\"\n",
    "        As a senior Business Intelligence analyst specializing in environmental concerns, analyze the daily_count and province_count columns from the Indonesia active fire dataframe.\n",
    "        Provide a comprehensive environmental analysis, considering key trends and potential causes such as Indonesia's dry season (based on the dates), the role of major corporations, or government policies.\n",
    "        Present your findings in Bahasa Indonesia using a casual, empathetic tone. The analysis should be presented in two medium-length paragraphs, and be sure to critically address possible reasons for these fires.\n",
    "        example:\n",
    "        Data terbaru titik api di Indonesia, terdeteksi oleh satelit S-NPP dari 11-17 September 2023, menyoroti tren kebakaran yang memprihatinkan. Pada 15 dan 16 September, tercatat lonjakan signifikan titik api sebanyak 5.275 dan 5.400, mengindikasikan potensi kebakaran hutan dan lahan di beberapa wilayah. Ini bertepatan dengan musim kemarau, meningkatkan potensi risiko kebakaran. Tiga provinsi dengan titik api tertinggi adalah Sumatera Selatan, Nusa Tenggara Timur, dan Papua dengan total 4.507, 4.089, dan 1.748 titik. Kondisi ini menegaskan perlunya intervensi dan optimalisasi pengelolaan kebakaran.\n",
    "        Beberapa faktor penyebab, antara lain musim kemarau, praktek pembukaan lahan oleh korporasi tanpa tanggung jawab, dan kebijakan pengelolaan hutan dan lahan yang belum optimal dapat mempengaruhi frekuensi kebakaran hutan dan lahan. Untuk menanggulangi hal ini, tindakan pencegahan yang efektif harus diterapkan, termasuk pengawasan ketat aktivitas berisiko, penegakan hukum terhadap pembakaran ilegal, serta edukasi masyarakat dan korporasi tentang pentingnya konservasi. Kebijakan pemerintah dari tingkat daerah ke tingkat pusat yang mendukung pengelolaan hutan berkelanjutan juga esensial demi menjaga kelestarian ekosistem di Indonesia.\n",
    "        \"\"\"\n",
    "        )\n",
    "    \n",
    "    data[\"summary\"] = response[\"output\"]\n",
    "\n",
    "    return data"
   ]
  },
  {
   "cell_type": "code",
   "execution_count": 23,
   "metadata": {},
   "outputs": [
    {
     "name": "stdout",
     "output_type": "stream",
     "text": [
      "\n",
      "\n",
      "\u001b[1m> Entering new  chain...\u001b[0m\n",
      "\u001b[32;1m\u001b[1;3mData kebakaran aktif di Indonesia menunjukkan beberapa temuan penting terkait isu lingkungan. Pertama, terdapat tren peningkatan jumlah kebakaran harian selama periode yang diamati. Data menunjukkan bahwa jumlah kebakaran harian meningkat dari 2.309 pada tanggal 17 September menjadi 6.122 pada tanggal 18 September, dan terus meningkat hingga mencapai 4.622 pada tanggal 22 September. Hal ini mengindikasikan bahwa kebakaran hutan dan lahan menjadi masalah yang semakin serius di Indonesia. Trend ini dapat terkait dengan musim kemarau di Indonesia, yang sering kali meningkatkan risiko kebakaran hutan dan lahan. Selain itu, analisis terhadap data province_count juga mengungkapkan beberapa provinsi yang mengalami jumlah kebakaran yang signifikan. Provinsi dengan jumlah kebakaran tertinggi adalah Nusa Tenggara Timur dengan 4.432 kebakaran, diikuti oleh Kalimantan Tengah dengan 1.678 kebakaran, dan Sumatera Selatan dengan 2.215 kebakaran. Temuan ini menunjukkan bahwa kebakaran hutan dan lahan tidak hanya terjadi di satu wilayah tertentu, tetapi menyebar di berbagai provinsi di Indonesia.\n",
      "\n",
      "Terdapat beberapa faktor yang dapat menjadi penyebab kebakaran hutan dan lahan ini. Salah satunya adalah musim kemarau yang meningkatkan risiko kebakaran. Selama musim kemarau, curah hujan yang rendah dan cuaca yang kering membuat tanah dan vegetasi menjadi sangat mudah terbakar. Selain itu, peran korporasi besar dan kebijakan pemerintah juga dapat mempengaruhi tingkat kebakaran. Misalnya, aktivitas perusahaan pertanian atau perkebunan yang menggunakan metode pembakaran lahan untuk membersihkan lahan dapat meningkatkan risiko kebakaran. Selain itu, kebijakan pemerintah terkait pengelolaan hutan dan lahan juga dapat mempengaruhi tingkat kebakaran. Jika kebijakan tersebut tidak optimal atau tidak diterapkan dengan baik, risiko kebakaran hutan dan lahan dapat meningkat.\n",
      "\n",
      "Dalam rangka mengatasi masalah kebakaran hutan dan lahan ini, penting untuk melakukan tindakan pencegahan yang efektif. Hal ini meliputi peningkatan pengawasan terhadap aktivitas perusahaan yang berpotensi menyebabkan kebakaran, penegakan hukum yang tegas terhadap pelaku pembakaran lahan ilegal, dan peningkatan kesadaran masyarakat akan pentingnya menjaga kelestarian lingkungan. Selain itu, pemerintah juga perlu mengimplementasikan kebijakan yang mendukung pengelolaan hutan dan lahan yang berkelanjutan. Dengan langkah-langkah ini, diharapkan dapat mengurangi risiko kebakaran hutan dan lahan serta menjaga kelestarian lingkungan di Indonesia.\u001b[0m\n",
      "\n",
      "\u001b[1m> Finished chain.\u001b[0m\n"
     ]
    },
    {
     "data": {
      "text/html": [
       "<div>\n",
       "<style scoped>\n",
       "    .dataframe tbody tr th:only-of-type {\n",
       "        vertical-align: middle;\n",
       "    }\n",
       "\n",
       "    .dataframe tbody tr th {\n",
       "        vertical-align: top;\n",
       "    }\n",
       "\n",
       "    .dataframe thead th {\n",
       "        text-align: right;\n",
       "    }\n",
       "</style>\n",
       "<table border=\"1\" class=\"dataframe\">\n",
       "  <thead>\n",
       "    <tr style=\"text-align: right;\">\n",
       "      <th></th>\n",
       "      <th>aggregated_date</th>\n",
       "      <th>day_interval</th>\n",
       "      <th>daily_count</th>\n",
       "      <th>province_count</th>\n",
       "      <th>summary</th>\n",
       "      <th>timestampt</th>\n",
       "      <th>id</th>\n",
       "    </tr>\n",
       "  </thead>\n",
       "  <tbody>\n",
       "    <tr>\n",
       "      <th>0</th>\n",
       "      <td>2023-09-23</td>\n",
       "      <td>7</td>\n",
       "      <td>{\"columns\":[\"Tanggal\",\"total_fires\"],\"data\":[[...</td>\n",
       "      <td>{\"columns\":[\"Provinsi\",\"total_fires\"],\"data\":[...</td>\n",
       "      <td>Data kebakaran aktif di Indonesia menunjukkan ...</td>\n",
       "      <td>2023-09-23 10:28:24.691368+00:00</td>\n",
       "      <td>1</td>\n",
       "    </tr>\n",
       "  </tbody>\n",
       "</table>\n",
       "</div>"
      ],
      "text/plain": [
       "  aggregated_date  day_interval  \\\n",
       "0      2023-09-23             7   \n",
       "\n",
       "                                         daily_count  \\\n",
       "0  {\"columns\":[\"Tanggal\",\"total_fires\"],\"data\":[[...   \n",
       "\n",
       "                                      province_count  \\\n",
       "0  {\"columns\":[\"Provinsi\",\"total_fires\"],\"data\":[...   \n",
       "\n",
       "                                             summary  \\\n",
       "0  Data kebakaran aktif di Indonesia menunjukkan ...   \n",
       "\n",
       "                        timestampt  id  \n",
       "0 2023-09-23 10:28:24.691368+00:00   1  "
      ]
     },
     "execution_count": 23,
     "metadata": {},
     "output_type": "execute_result"
    }
   ],
   "source": [
    "openai_key = config.get(\"OPENAI_KEY\")\n",
    "summary2 = get_summary_event(summary2, openai_key)\n",
    "\n",
    "summary2"
   ]
  },
  {
   "cell_type": "code",
   "execution_count": 26,
   "metadata": {},
   "outputs": [
    {
     "data": {
      "text/plain": [
       "'Data kebakaran aktif di Indonesia menunjukkan beberapa temuan penting terkait isu lingkungan. Pertama, terdapat tren peningkatan jumlah kebakaran harian selama periode yang diamati. Data menunjukkan bahwa jumlah kebakaran harian meningkat dari 2.309 pada tanggal 17 September menjadi 6.122 pada tanggal 18 September, dan terus meningkat hingga mencapai 4.622 pada tanggal 22 September. Hal ini mengindikasikan bahwa kebakaran hutan dan lahan menjadi masalah yang semakin serius di Indonesia. Trend ini dapat terkait dengan musim kemarau di Indonesia, yang sering kali meningkatkan risiko kebakaran hutan dan lahan. Selain itu, analisis terhadap data province_count juga mengungkapkan beberapa provinsi yang mengalami jumlah kebakaran yang signifikan. Provinsi dengan jumlah kebakaran tertinggi adalah Nusa Tenggara Timur dengan 4.432 kebakaran, diikuti oleh Kalimantan Tengah dengan 1.678 kebakaran, dan Sumatera Selatan dengan 2.215 kebakaran. Temuan ini menunjukkan bahwa kebakaran hutan dan lahan tidak hanya terjadi di satu wilayah tertentu, tetapi menyebar di berbagai provinsi di Indonesia.\\n\\nTerdapat beberapa faktor yang dapat menjadi penyebab kebakaran hutan dan lahan ini. Salah satunya adalah musim kemarau yang meningkatkan risiko kebakaran. Selama musim kemarau, curah hujan yang rendah dan cuaca yang kering membuat tanah dan vegetasi menjadi sangat mudah terbakar. Selain itu, peran korporasi besar dan kebijakan pemerintah juga dapat mempengaruhi tingkat kebakaran. Misalnya, aktivitas perusahaan pertanian atau perkebunan yang menggunakan metode pembakaran lahan untuk membersihkan lahan dapat meningkatkan risiko kebakaran. Selain itu, kebijakan pemerintah terkait pengelolaan hutan dan lahan juga dapat mempengaruhi tingkat kebakaran. Jika kebijakan tersebut tidak optimal atau tidak diterapkan dengan baik, risiko kebakaran hutan dan lahan dapat meningkat.\\n\\nDalam rangka mengatasi masalah kebakaran hutan dan lahan ini, penting untuk melakukan tindakan pencegahan yang efektif. Hal ini meliputi peningkatan pengawasan terhadap aktivitas perusahaan yang berpotensi menyebabkan kebakaran, penegakan hukum yang tegas terhadap pelaku pembakaran lahan ilegal, dan peningkatan kesadaran masyarakat akan pentingnya menjaga kelestarian lingkungan. Selain itu, pemerintah juga perlu mengimplementasikan kebijakan yang mendukung pengelolaan hutan dan lahan yang berkelanjutan. Dengan langkah-langkah ini, diharapkan dapat mengurangi risiko kebakaran hutan dan lahan serta menjaga kelestarian lingkungan di Indonesia.'"
      ]
     },
     "execution_count": 26,
     "metadata": {},
     "output_type": "execute_result"
    }
   ],
   "source": [
    "text = summary2[\"summary\"][0]\n",
    "\n",
    "text"
   ]
  },
  {
   "cell_type": "markdown",
   "metadata": {},
   "source": [
    "Data kebakaran aktif di Indonesia menunjukkan beberapa temuan penting terkait isu lingkungan. Pertama, terdapat tren peningkatan jumlah kebakaran harian selama periode yang diamati. Data menunjukkan bahwa jumlah kebakaran harian meningkat dari 2.309 pada tanggal 17 September menjadi 6.122 pada tanggal 18 September, dan terus meningkat hingga mencapai 4.622 pada tanggal 22 September. Hal ini mengindikasikan bahwa kebakaran hutan dan lahan menjadi masalah yang semakin serius di Indonesia. Trend ini dapat terkait dengan musim kemarau di Indonesia, yang sering kali meningkatkan risiko kebakaran hutan dan lahan. Selain itu, analisis terhadap data province_count juga mengungkapkan beberapa provinsi yang mengalami jumlah kebakaran yang signifikan. Provinsi dengan jumlah kebakaran tertinggi adalah Nusa Tenggara Timur dengan 4.432 kebakaran, diikuti oleh Kalimantan Tengah dengan 1.678 kebakaran, dan Sumatera Selatan dengan 2.215 kebakaran. Temuan ini menunjukkan bahwa kebakaran hutan dan lahan tidak hanya terjadi di satu wilayah tertentu, tetapi menyebar di berbagai provinsi di Indonesia. Terdapat beberapa faktor yang dapat menjadi penyebab kebakaran hutan dan lahan ini. Salah satunya adalah musim kemarau yang meningkatkan risiko kebakaran. Selama musim kemarau, curah hujan yang rendah dan cuaca yang kering membuat tanah dan vegetasi menjadi sangat mudah terbakar. Selain itu, peran korporasi besar dan kebijakan pemerintah juga dapat mempengaruhi tingkat kebakaran. Misalnya, aktivitas perusahaan pertanian atau perkebunan yang menggunakan metode pembakaran lahan untuk membersihkan lahan dapat meningkatkan risiko kebakaran. Selain itu, kebijakan pemerintah terkait pengelolaan hutan dan lahan juga dapat mempengaruhi tingkat kebakaran. Jika kebijakan tersebut tidak optimal atau tidak diterapkan dengan baik, risiko kebakaran hutan dan lahan dapat meningkat. Dalam rangka mengatasi masalah kebakaran hutan dan lahan ini, penting untuk melakukan tindakan pencegahan yang efektif. Hal ini meliputi peningkatan pengawasan terhadap aktivitas perusahaan yang berpotensi menyebabkan kebakaran, penegakan hukum yang tegas terhadap pelaku pembakaran lahan ilegal, dan peningkatan kesadaran masyarakat akan pentingnya menjaga kelestarian lingkungan. Selain itu, pemerintah juga perlu mengimplementasikan kebijakan yang mendukung pengelolaan hutan dan lahan yang berkelanjutan. Dengan langkah-langkah ini, diharapkan dapat mengurangi risiko kebakaran hutan dan lahan serta menjaga kelestarian lingkungan di Indonesia.'"
   ]
  },
  {
   "cell_type": "code",
   "execution_count": null,
   "metadata": {},
   "outputs": [],
   "source": []
  },
  {
   "cell_type": "code",
   "execution_count": 5,
   "metadata": {},
   "outputs": [],
   "source": [
    "openai_key = config.get(\"OPENAI_KEY\")\n",
    "\n",
    "llm = ChatOpenAI(model=\"gpt-3.5-turbo-0613\",\n",
    "                 temperature=0.25,\n",
    "                 openai_api_key=openai_key)\n",
    "\n",
    "agent = create_pandas_dataframe_agent(\n",
    "    llm,\n",
    "    summary2,\n",
    "    verbose=True,\n",
    "    agent_type=AgentType.OPENAI_FUNCTIONS\n",
    ")"
   ]
  },
  {
   "cell_type": "code",
   "execution_count": 6,
   "metadata": {},
   "outputs": [
    {
     "name": "stdout",
     "output_type": "stream",
     "text": [
      "\n",
      "\n",
      "\u001b[1m> Entering new  chain...\u001b[0m\n",
      "\u001b[32;1m\u001b[1;3mData terbaru mengenai kebakaran aktif harian di Indonesia menunjukkan beberapa tren dan perhatian lingkungan yang penting. Pada rentang tanggal 17 hingga 23 September 2023, terdapat lonjakan jumlah kebakaran aktif pada tanggal 18 dan 19 September, dengan masing-masing 6.124 dan 4.675 kebakaran. Hal ini menandakan adanya peningkatan risiko kebakaran hutan dan lahan.\n",
      "\n",
      "Selain itu, terdapat beberapa provinsi yang memiliki jumlah kebakaran aktif yang cukup tinggi. Provinsi dengan jumlah kebakaran tertinggi adalah Nusa Tenggara Timur dengan 4.432 kebakaran, diikuti oleh Papua dengan 4.622 kebakaran. Provinsi Sumatera Selatan juga memiliki jumlah kebakaran yang signifikan, yaitu sebanyak 2.215 kebakaran.\n",
      "\n",
      "Tingginya jumlah kebakaran aktif ini menunjukkan adanya masalah serius terkait kebakaran hutan dan lahan di Indonesia. Hal ini dapat menyebabkan kerusakan ekosistem, hilangnya habitat satwa liar, dan polusi udara akibat asap kebakaran. Selain itu, kebakaran hutan dan lahan juga dapat berkontribusi terhadap perubahan iklim global melalui pelepasan gas rumah kaca.\n",
      "\n",
      "Untuk mengatasi masalah ini, diperlukan tindakan cepat dan efektif. Langkah-langkah yang dapat dilakukan antara lain adalah peningkatan pengawasan dan penegakan hukum terhadap pembakaran hutan dan lahan ilegal, peningkatan kesadaran masyarakat akan pentingnya menjaga kelestarian hutan, dan pengembangan program restorasi hutan dan lahan yang terdegradasi.\n",
      "\n",
      "Dalam jangka panjang, penting untuk mengurangi deforestasi dan mengelola hutan secara berkelanjutan. Hal ini melibatkan kerjasama antara pemerintah, masyarakat, dan sektor swasta untuk menjaga kelestarian hutan dan mengurangi risiko kebakaran hutan dan lahan di Indonesia.\u001b[0m\n",
      "\n",
      "\u001b[1m> Finished chain.\u001b[0m\n"
     ]
    }
   ],
   "source": [
    "response = agent(\"\"\"\n",
    "                 As a senior Business Intelligence with a focus on environmental issues, given this active fire data in daily_count and province_count column, provide a short, \n",
    "                 comprehensive and contextual environmental analysis focused on key trends and areas of concern in Bahasa Indonesia.\n",
    "                 Example:\n",
    "                 Data terbaru mengenai kebakaran aktif harian di Indonesia dari tanggal 11 hingga 17 September 2023 menunjukkan beberapa tren dan perhatian lingkungan yang penting. \n",
    "                 Paling mencolok, ada lonjakan besar kebakaran aktif pada tanggal 15 dan 16 September, dengan 5.275 dan 5.400 kebakaran. Ini mungkin menandakan meningkatnya kebakaran hutan dan lahan. \n",
    "                 Tanggal-tanggal ini sesuai dengan musim kemarau di Indonesia, jadi risiko kebakaran hutan mungkin makin tinggi di masa itu. Sumatra Selatan, Nusa Tenggara Timur, dan Papua punya angka kebakaran yang cukup tinggi, dengan 4.507, 4.089, dan 1.748 kebakaran. \n",
    "                 Ini menegaskan pentingnya tindakan cepat untuk mencegah dan mengurangi dampak kebakaran, melindungi ekosistem, dan mengatasi masalah deforestasi yang bisa jadi penyebab kebakaran ini.         \n",
    "\"\"\")"
   ]
  },
  {
   "cell_type": "code",
   "execution_count": 8,
   "metadata": {},
   "outputs": [
    {
     "data": {
      "text/plain": [
       "'Data terbaru mengenai kebakaran aktif harian di Indonesia menunjukkan beberapa tren dan perhatian lingkungan yang penting. Pada rentang tanggal 17 hingga 23 September 2023, terdapat lonjakan jumlah kebakaran aktif pada tanggal 18 dan 19 September, dengan masing-masing 6.124 dan 4.675 kebakaran. Hal ini menandakan adanya peningkatan risiko kebakaran hutan dan lahan.\\n\\nSelain itu, terdapat beberapa provinsi yang memiliki jumlah kebakaran aktif yang cukup tinggi. Provinsi dengan jumlah kebakaran tertinggi adalah Nusa Tenggara Timur dengan 4.432 kebakaran, diikuti oleh Papua dengan 4.622 kebakaran. Provinsi Sumatera Selatan juga memiliki jumlah kebakaran yang signifikan, yaitu sebanyak 2.215 kebakaran.\\n\\nTingginya jumlah kebakaran aktif ini menunjukkan adanya masalah serius terkait kebakaran hutan dan lahan di Indonesia. Hal ini dapat menyebabkan kerusakan ekosistem, hilangnya habitat satwa liar, dan polusi udara akibat asap kebakaran. Selain itu, kebakaran hutan dan lahan juga dapat berkontribusi terhadap perubahan iklim global melalui pelepasan gas rumah kaca.\\n\\nUntuk mengatasi masalah ini, diperlukan tindakan cepat dan efektif. Langkah-langkah yang dapat dilakukan antara lain adalah peningkatan pengawasan dan penegakan hukum terhadap pembakaran hutan dan lahan ilegal, peningkatan kesadaran masyarakat akan pentingnya menjaga kelestarian hutan, dan pengembangan program restorasi hutan dan lahan yang terdegradasi.\\n\\nDalam jangka panjang, penting untuk mengurangi deforestasi dan mengelola hutan secara berkelanjutan. Hal ini melibatkan kerjasama antara pemerintah, masyarakat, dan sektor swasta untuk menjaga kelestarian hutan dan mengurangi risiko kebakaran hutan dan lahan di Indonesia.'"
      ]
     },
     "execution_count": 8,
     "metadata": {},
     "output_type": "execute_result"
    }
   ],
   "source": [
    "response[\"output\"]"
   ]
  },
  {
   "cell_type": "code",
   "execution_count": null,
   "metadata": {},
   "outputs": [],
   "source": []
  }
 ],
 "metadata": {
  "kernelspec": {
   "display_name": ".venv-pm25",
   "language": "python",
   "name": "python3"
  },
  "language_info": {
   "codemirror_mode": {
    "name": "ipython",
    "version": 3
   },
   "file_extension": ".py",
   "mimetype": "text/x-python",
   "name": "python",
   "nbconvert_exporter": "python",
   "pygments_lexer": "ipython3",
   "version": "3.11.5"
  },
  "orig_nbformat": 4
 },
 "nbformat": 4,
 "nbformat_minor": 2
}
